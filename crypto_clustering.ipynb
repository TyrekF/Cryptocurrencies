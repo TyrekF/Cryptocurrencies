{
 "cells": [
  {
   "cell_type": "markdown",
   "metadata": {},
   "source": [
    "# Clustering Crypto"
   ]
  },
  {
   "cell_type": "code",
   "execution_count": 41,
   "metadata": {},
   "outputs": [],
   "source": [
    "# Initial imports\n",
    "import pandas as pd\n",
    "import hvplot.pandas\n",
    "import plotly.express as px\n",
    "from sklearn.preprocessing import StandardScaler, MinMaxScaler\n",
    "from sklearn.decomposition import PCA\n",
    "from sklearn.cluster import KMeans\n"
   ]
  },
  {
   "cell_type": "markdown",
   "metadata": {},
   "source": [
    "### Deliverable 1: Preprocessing the Data for PCA"
   ]
  },
  {
   "cell_type": "code",
   "execution_count": 42,
   "metadata": {
    "scrolled": true
   },
   "outputs": [
    {
     "data": {
      "text/html": [
       "<div>\n",
       "<style scoped>\n",
       "    .dataframe tbody tr th:only-of-type {\n",
       "        vertical-align: middle;\n",
       "    }\n",
       "\n",
       "    .dataframe tbody tr th {\n",
       "        vertical-align: top;\n",
       "    }\n",
       "\n",
       "    .dataframe thead th {\n",
       "        text-align: right;\n",
       "    }\n",
       "</style>\n",
       "<table border=\"1\" class=\"dataframe\">\n",
       "  <thead>\n",
       "    <tr style=\"text-align: right;\">\n",
       "      <th></th>\n",
       "      <th>CoinName</th>\n",
       "      <th>Algorithm</th>\n",
       "      <th>IsTrading</th>\n",
       "      <th>ProofType</th>\n",
       "      <th>TotalCoinsMined</th>\n",
       "      <th>TotalCoinSupply</th>\n",
       "    </tr>\n",
       "  </thead>\n",
       "  <tbody>\n",
       "    <tr>\n",
       "      <th>42</th>\n",
       "      <td>42 Coin</td>\n",
       "      <td>Scrypt</td>\n",
       "      <td>True</td>\n",
       "      <td>PoW/PoS</td>\n",
       "      <td>4.199995e+01</td>\n",
       "      <td>42</td>\n",
       "    </tr>\n",
       "    <tr>\n",
       "      <th>365</th>\n",
       "      <td>365Coin</td>\n",
       "      <td>X11</td>\n",
       "      <td>True</td>\n",
       "      <td>PoW/PoS</td>\n",
       "      <td>NaN</td>\n",
       "      <td>2300000000</td>\n",
       "    </tr>\n",
       "    <tr>\n",
       "      <th>404</th>\n",
       "      <td>404Coin</td>\n",
       "      <td>Scrypt</td>\n",
       "      <td>True</td>\n",
       "      <td>PoW/PoS</td>\n",
       "      <td>1.055185e+09</td>\n",
       "      <td>532000000</td>\n",
       "    </tr>\n",
       "    <tr>\n",
       "      <th>611</th>\n",
       "      <td>SixEleven</td>\n",
       "      <td>SHA-256</td>\n",
       "      <td>True</td>\n",
       "      <td>PoW</td>\n",
       "      <td>NaN</td>\n",
       "      <td>611000</td>\n",
       "    </tr>\n",
       "    <tr>\n",
       "      <th>808</th>\n",
       "      <td>808</td>\n",
       "      <td>SHA-256</td>\n",
       "      <td>True</td>\n",
       "      <td>PoW/PoS</td>\n",
       "      <td>0.000000e+00</td>\n",
       "      <td>0</td>\n",
       "    </tr>\n",
       "    <tr>\n",
       "      <th>1337</th>\n",
       "      <td>EliteCoin</td>\n",
       "      <td>X13</td>\n",
       "      <td>True</td>\n",
       "      <td>PoW/PoS</td>\n",
       "      <td>2.927942e+10</td>\n",
       "      <td>314159265359</td>\n",
       "    </tr>\n",
       "    <tr>\n",
       "      <th>2015</th>\n",
       "      <td>2015 coin</td>\n",
       "      <td>X11</td>\n",
       "      <td>True</td>\n",
       "      <td>PoW/PoS</td>\n",
       "      <td>NaN</td>\n",
       "      <td>0</td>\n",
       "    </tr>\n",
       "    <tr>\n",
       "      <th>BTC</th>\n",
       "      <td>Bitcoin</td>\n",
       "      <td>SHA-256</td>\n",
       "      <td>True</td>\n",
       "      <td>PoW</td>\n",
       "      <td>1.792718e+07</td>\n",
       "      <td>21000000</td>\n",
       "    </tr>\n",
       "    <tr>\n",
       "      <th>ETH</th>\n",
       "      <td>Ethereum</td>\n",
       "      <td>Ethash</td>\n",
       "      <td>True</td>\n",
       "      <td>PoW</td>\n",
       "      <td>1.076842e+08</td>\n",
       "      <td>0</td>\n",
       "    </tr>\n",
       "    <tr>\n",
       "      <th>LTC</th>\n",
       "      <td>Litecoin</td>\n",
       "      <td>Scrypt</td>\n",
       "      <td>True</td>\n",
       "      <td>PoW</td>\n",
       "      <td>6.303924e+07</td>\n",
       "      <td>84000000</td>\n",
       "    </tr>\n",
       "  </tbody>\n",
       "</table>\n",
       "</div>"
      ],
      "text/plain": [
       "       CoinName Algorithm  IsTrading ProofType  TotalCoinsMined  \\\n",
       "42      42 Coin    Scrypt       True   PoW/PoS     4.199995e+01   \n",
       "365     365Coin       X11       True   PoW/PoS              NaN   \n",
       "404     404Coin    Scrypt       True   PoW/PoS     1.055185e+09   \n",
       "611   SixEleven   SHA-256       True       PoW              NaN   \n",
       "808         808   SHA-256       True   PoW/PoS     0.000000e+00   \n",
       "1337  EliteCoin       X13       True   PoW/PoS     2.927942e+10   \n",
       "2015  2015 coin       X11       True   PoW/PoS              NaN   \n",
       "BTC     Bitcoin   SHA-256       True       PoW     1.792718e+07   \n",
       "ETH    Ethereum    Ethash       True       PoW     1.076842e+08   \n",
       "LTC    Litecoin    Scrypt       True       PoW     6.303924e+07   \n",
       "\n",
       "     TotalCoinSupply  \n",
       "42                42  \n",
       "365       2300000000  \n",
       "404        532000000  \n",
       "611           611000  \n",
       "808                0  \n",
       "1337    314159265359  \n",
       "2015               0  \n",
       "BTC         21000000  \n",
       "ETH                0  \n",
       "LTC         84000000  "
      ]
     },
     "execution_count": 42,
     "metadata": {},
     "output_type": "execute_result"
    }
   ],
   "source": [
    "# Load the crypto_data.csv dataset.\n",
    "file_path = \"crypto_data.csv\"\n",
    "crypto_df = pd.read_csv(file_path, index_col = 0)\n",
    "# crypto_df.sample(10)\n",
    "crypto_df.head(10)\n"
   ]
  },
  {
   "cell_type": "code",
   "execution_count": 43,
   "metadata": {
    "scrolled": true
   },
   "outputs": [
    {
     "data": {
      "text/html": [
       "<div>\n",
       "<style scoped>\n",
       "    .dataframe tbody tr th:only-of-type {\n",
       "        vertical-align: middle;\n",
       "    }\n",
       "\n",
       "    .dataframe tbody tr th {\n",
       "        vertical-align: top;\n",
       "    }\n",
       "\n",
       "    .dataframe thead th {\n",
       "        text-align: right;\n",
       "    }\n",
       "</style>\n",
       "<table border=\"1\" class=\"dataframe\">\n",
       "  <thead>\n",
       "    <tr style=\"text-align: right;\">\n",
       "      <th></th>\n",
       "      <th>CoinName</th>\n",
       "      <th>Algorithm</th>\n",
       "      <th>IsTrading</th>\n",
       "      <th>ProofType</th>\n",
       "      <th>TotalCoinsMined</th>\n",
       "      <th>TotalCoinSupply</th>\n",
       "    </tr>\n",
       "  </thead>\n",
       "  <tbody>\n",
       "    <tr>\n",
       "      <th>42</th>\n",
       "      <td>42 Coin</td>\n",
       "      <td>Scrypt</td>\n",
       "      <td>True</td>\n",
       "      <td>PoW/PoS</td>\n",
       "      <td>4.199995e+01</td>\n",
       "      <td>42</td>\n",
       "    </tr>\n",
       "    <tr>\n",
       "      <th>365</th>\n",
       "      <td>365Coin</td>\n",
       "      <td>X11</td>\n",
       "      <td>True</td>\n",
       "      <td>PoW/PoS</td>\n",
       "      <td>NaN</td>\n",
       "      <td>2300000000</td>\n",
       "    </tr>\n",
       "    <tr>\n",
       "      <th>404</th>\n",
       "      <td>404Coin</td>\n",
       "      <td>Scrypt</td>\n",
       "      <td>True</td>\n",
       "      <td>PoW/PoS</td>\n",
       "      <td>1.055185e+09</td>\n",
       "      <td>532000000</td>\n",
       "    </tr>\n",
       "    <tr>\n",
       "      <th>611</th>\n",
       "      <td>SixEleven</td>\n",
       "      <td>SHA-256</td>\n",
       "      <td>True</td>\n",
       "      <td>PoW</td>\n",
       "      <td>NaN</td>\n",
       "      <td>611000</td>\n",
       "    </tr>\n",
       "    <tr>\n",
       "      <th>808</th>\n",
       "      <td>808</td>\n",
       "      <td>SHA-256</td>\n",
       "      <td>True</td>\n",
       "      <td>PoW/PoS</td>\n",
       "      <td>0.000000e+00</td>\n",
       "      <td>0</td>\n",
       "    </tr>\n",
       "    <tr>\n",
       "      <th>1337</th>\n",
       "      <td>EliteCoin</td>\n",
       "      <td>X13</td>\n",
       "      <td>True</td>\n",
       "      <td>PoW/PoS</td>\n",
       "      <td>2.927942e+10</td>\n",
       "      <td>314159265359</td>\n",
       "    </tr>\n",
       "    <tr>\n",
       "      <th>2015</th>\n",
       "      <td>2015 coin</td>\n",
       "      <td>X11</td>\n",
       "      <td>True</td>\n",
       "      <td>PoW/PoS</td>\n",
       "      <td>NaN</td>\n",
       "      <td>0</td>\n",
       "    </tr>\n",
       "    <tr>\n",
       "      <th>BTC</th>\n",
       "      <td>Bitcoin</td>\n",
       "      <td>SHA-256</td>\n",
       "      <td>True</td>\n",
       "      <td>PoW</td>\n",
       "      <td>1.792718e+07</td>\n",
       "      <td>21000000</td>\n",
       "    </tr>\n",
       "    <tr>\n",
       "      <th>ETH</th>\n",
       "      <td>Ethereum</td>\n",
       "      <td>Ethash</td>\n",
       "      <td>True</td>\n",
       "      <td>PoW</td>\n",
       "      <td>1.076842e+08</td>\n",
       "      <td>0</td>\n",
       "    </tr>\n",
       "    <tr>\n",
       "      <th>LTC</th>\n",
       "      <td>Litecoin</td>\n",
       "      <td>Scrypt</td>\n",
       "      <td>True</td>\n",
       "      <td>PoW</td>\n",
       "      <td>6.303924e+07</td>\n",
       "      <td>84000000</td>\n",
       "    </tr>\n",
       "  </tbody>\n",
       "</table>\n",
       "</div>"
      ],
      "text/plain": [
       "       CoinName Algorithm  IsTrading ProofType  TotalCoinsMined  \\\n",
       "42      42 Coin    Scrypt       True   PoW/PoS     4.199995e+01   \n",
       "365     365Coin       X11       True   PoW/PoS              NaN   \n",
       "404     404Coin    Scrypt       True   PoW/PoS     1.055185e+09   \n",
       "611   SixEleven   SHA-256       True       PoW              NaN   \n",
       "808         808   SHA-256       True   PoW/PoS     0.000000e+00   \n",
       "1337  EliteCoin       X13       True   PoW/PoS     2.927942e+10   \n",
       "2015  2015 coin       X11       True   PoW/PoS              NaN   \n",
       "BTC     Bitcoin   SHA-256       True       PoW     1.792718e+07   \n",
       "ETH    Ethereum    Ethash       True       PoW     1.076842e+08   \n",
       "LTC    Litecoin    Scrypt       True       PoW     6.303924e+07   \n",
       "\n",
       "     TotalCoinSupply  \n",
       "42                42  \n",
       "365       2300000000  \n",
       "404        532000000  \n",
       "611           611000  \n",
       "808                0  \n",
       "1337    314159265359  \n",
       "2015               0  \n",
       "BTC         21000000  \n",
       "ETH                0  \n",
       "LTC         84000000  "
      ]
     },
     "execution_count": 43,
     "metadata": {},
     "output_type": "execute_result"
    }
   ],
   "source": [
    "# Keep all the cryptocurrencies that are being traded.\n",
    "traded_df = crypto_df[crypto_df['IsTrading'] ==True]\n",
    "traded_df.head(10)"
   ]
  },
  {
   "cell_type": "code",
   "execution_count": 44,
   "metadata": {},
   "outputs": [
    {
     "name": "stdout",
     "output_type": "stream",
     "text": [
      "(1144, 6)\n"
     ]
    },
    {
     "name": "stderr",
     "output_type": "stream",
     "text": [
      "C:\\Users\\Tyrei\\anaconda3\\envs\\mlenv\\lib\\site-packages\\ipykernel_launcher.py:2: UserWarning: Boolean Series key will be reindexed to match DataFrame index.\n",
      "  \n"
     ]
    },
    {
     "data": {
      "text/html": [
       "<div>\n",
       "<style scoped>\n",
       "    .dataframe tbody tr th:only-of-type {\n",
       "        vertical-align: middle;\n",
       "    }\n",
       "\n",
       "    .dataframe tbody tr th {\n",
       "        vertical-align: top;\n",
       "    }\n",
       "\n",
       "    .dataframe thead th {\n",
       "        text-align: right;\n",
       "    }\n",
       "</style>\n",
       "<table border=\"1\" class=\"dataframe\">\n",
       "  <thead>\n",
       "    <tr style=\"text-align: right;\">\n",
       "      <th></th>\n",
       "      <th>CoinName</th>\n",
       "      <th>Algorithm</th>\n",
       "      <th>IsTrading</th>\n",
       "      <th>ProofType</th>\n",
       "      <th>TotalCoinsMined</th>\n",
       "      <th>TotalCoinSupply</th>\n",
       "    </tr>\n",
       "  </thead>\n",
       "  <tbody>\n",
       "    <tr>\n",
       "      <th>42</th>\n",
       "      <td>42 Coin</td>\n",
       "      <td>Scrypt</td>\n",
       "      <td>True</td>\n",
       "      <td>PoW/PoS</td>\n",
       "      <td>4.199995e+01</td>\n",
       "      <td>42</td>\n",
       "    </tr>\n",
       "    <tr>\n",
       "      <th>365</th>\n",
       "      <td>365Coin</td>\n",
       "      <td>X11</td>\n",
       "      <td>True</td>\n",
       "      <td>PoW/PoS</td>\n",
       "      <td>NaN</td>\n",
       "      <td>2300000000</td>\n",
       "    </tr>\n",
       "    <tr>\n",
       "      <th>404</th>\n",
       "      <td>404Coin</td>\n",
       "      <td>Scrypt</td>\n",
       "      <td>True</td>\n",
       "      <td>PoW/PoS</td>\n",
       "      <td>1.055185e+09</td>\n",
       "      <td>532000000</td>\n",
       "    </tr>\n",
       "    <tr>\n",
       "      <th>611</th>\n",
       "      <td>SixEleven</td>\n",
       "      <td>SHA-256</td>\n",
       "      <td>True</td>\n",
       "      <td>PoW</td>\n",
       "      <td>NaN</td>\n",
       "      <td>611000</td>\n",
       "    </tr>\n",
       "    <tr>\n",
       "      <th>808</th>\n",
       "      <td>808</td>\n",
       "      <td>SHA-256</td>\n",
       "      <td>True</td>\n",
       "      <td>PoW/PoS</td>\n",
       "      <td>0.000000e+00</td>\n",
       "      <td>0</td>\n",
       "    </tr>\n",
       "  </tbody>\n",
       "</table>\n",
       "</div>"
      ],
      "text/plain": [
       "      CoinName Algorithm  IsTrading ProofType  TotalCoinsMined TotalCoinSupply\n",
       "42     42 Coin    Scrypt       True   PoW/PoS     4.199995e+01              42\n",
       "365    365Coin       X11       True   PoW/PoS              NaN      2300000000\n",
       "404    404Coin    Scrypt       True   PoW/PoS     1.055185e+09       532000000\n",
       "611  SixEleven   SHA-256       True       PoW              NaN          611000\n",
       "808        808   SHA-256       True   PoW/PoS     0.000000e+00               0"
      ]
     },
     "execution_count": 44,
     "metadata": {},
     "output_type": "execute_result"
    }
   ],
   "source": [
    "# Keep all the cryptoctraded_dfurrencies that have a working algorithm.\n",
    "traded_df = traded_df[crypto_df.Algorithm.isna() == False]\n",
    "print(traded_df.shape)\n",
    "traded_df.head()"
   ]
  },
  {
   "cell_type": "code",
   "execution_count": 45,
   "metadata": {},
   "outputs": [
    {
     "data": {
      "text/html": [
       "<div>\n",
       "<style scoped>\n",
       "    .dataframe tbody tr th:only-of-type {\n",
       "        vertical-align: middle;\n",
       "    }\n",
       "\n",
       "    .dataframe tbody tr th {\n",
       "        vertical-align: top;\n",
       "    }\n",
       "\n",
       "    .dataframe thead th {\n",
       "        text-align: right;\n",
       "    }\n",
       "</style>\n",
       "<table border=\"1\" class=\"dataframe\">\n",
       "  <thead>\n",
       "    <tr style=\"text-align: right;\">\n",
       "      <th></th>\n",
       "      <th>CoinName</th>\n",
       "      <th>Algorithm</th>\n",
       "      <th>ProofType</th>\n",
       "      <th>TotalCoinsMined</th>\n",
       "      <th>TotalCoinSupply</th>\n",
       "    </tr>\n",
       "  </thead>\n",
       "  <tbody>\n",
       "    <tr>\n",
       "      <th>42</th>\n",
       "      <td>42 Coin</td>\n",
       "      <td>Scrypt</td>\n",
       "      <td>PoW/PoS</td>\n",
       "      <td>4.199995e+01</td>\n",
       "      <td>42</td>\n",
       "    </tr>\n",
       "    <tr>\n",
       "      <th>365</th>\n",
       "      <td>365Coin</td>\n",
       "      <td>X11</td>\n",
       "      <td>PoW/PoS</td>\n",
       "      <td>NaN</td>\n",
       "      <td>2300000000</td>\n",
       "    </tr>\n",
       "    <tr>\n",
       "      <th>404</th>\n",
       "      <td>404Coin</td>\n",
       "      <td>Scrypt</td>\n",
       "      <td>PoW/PoS</td>\n",
       "      <td>1.055185e+09</td>\n",
       "      <td>532000000</td>\n",
       "    </tr>\n",
       "    <tr>\n",
       "      <th>611</th>\n",
       "      <td>SixEleven</td>\n",
       "      <td>SHA-256</td>\n",
       "      <td>PoW</td>\n",
       "      <td>NaN</td>\n",
       "      <td>611000</td>\n",
       "    </tr>\n",
       "    <tr>\n",
       "      <th>808</th>\n",
       "      <td>808</td>\n",
       "      <td>SHA-256</td>\n",
       "      <td>PoW/PoS</td>\n",
       "      <td>0.000000e+00</td>\n",
       "      <td>0</td>\n",
       "    </tr>\n",
       "  </tbody>\n",
       "</table>\n",
       "</div>"
      ],
      "text/plain": [
       "      CoinName Algorithm ProofType  TotalCoinsMined TotalCoinSupply\n",
       "42     42 Coin    Scrypt   PoW/PoS     4.199995e+01              42\n",
       "365    365Coin       X11   PoW/PoS              NaN      2300000000\n",
       "404    404Coin    Scrypt   PoW/PoS     1.055185e+09       532000000\n",
       "611  SixEleven   SHA-256       PoW              NaN          611000\n",
       "808        808   SHA-256   PoW/PoS     0.000000e+00               0"
      ]
     },
     "execution_count": 45,
     "metadata": {},
     "output_type": "execute_result"
    }
   ],
   "source": [
    "# Remove the \"IsTrading\" column. \n",
    "del traded_df['IsTrading']\n",
    "traded_df.head()"
   ]
  },
  {
   "cell_type": "code",
   "execution_count": 47,
   "metadata": {},
   "outputs": [
    {
     "data": {
      "text/html": [
       "<div>\n",
       "<style scoped>\n",
       "    .dataframe tbody tr th:only-of-type {\n",
       "        vertical-align: middle;\n",
       "    }\n",
       "\n",
       "    .dataframe tbody tr th {\n",
       "        vertical-align: top;\n",
       "    }\n",
       "\n",
       "    .dataframe thead th {\n",
       "        text-align: right;\n",
       "    }\n",
       "</style>\n",
       "<table border=\"1\" class=\"dataframe\">\n",
       "  <thead>\n",
       "    <tr style=\"text-align: right;\">\n",
       "      <th></th>\n",
       "      <th>CoinName</th>\n",
       "      <th>Algorithm</th>\n",
       "      <th>ProofType</th>\n",
       "      <th>TotalCoinsMined</th>\n",
       "      <th>TotalCoinSupply</th>\n",
       "    </tr>\n",
       "  </thead>\n",
       "  <tbody>\n",
       "    <tr>\n",
       "      <th>42</th>\n",
       "      <td>42 Coin</td>\n",
       "      <td>Scrypt</td>\n",
       "      <td>PoW/PoS</td>\n",
       "      <td>4.199995e+01</td>\n",
       "      <td>42</td>\n",
       "    </tr>\n",
       "    <tr>\n",
       "      <th>404</th>\n",
       "      <td>404Coin</td>\n",
       "      <td>Scrypt</td>\n",
       "      <td>PoW/PoS</td>\n",
       "      <td>1.055185e+09</td>\n",
       "      <td>532000000</td>\n",
       "    </tr>\n",
       "    <tr>\n",
       "      <th>808</th>\n",
       "      <td>808</td>\n",
       "      <td>SHA-256</td>\n",
       "      <td>PoW/PoS</td>\n",
       "      <td>0.000000e+00</td>\n",
       "      <td>0</td>\n",
       "    </tr>\n",
       "    <tr>\n",
       "      <th>1337</th>\n",
       "      <td>EliteCoin</td>\n",
       "      <td>X13</td>\n",
       "      <td>PoW/PoS</td>\n",
       "      <td>2.927942e+10</td>\n",
       "      <td>314159265359</td>\n",
       "    </tr>\n",
       "    <tr>\n",
       "      <th>BTC</th>\n",
       "      <td>Bitcoin</td>\n",
       "      <td>SHA-256</td>\n",
       "      <td>PoW</td>\n",
       "      <td>1.792718e+07</td>\n",
       "      <td>21000000</td>\n",
       "    </tr>\n",
       "    <tr>\n",
       "      <th>ETH</th>\n",
       "      <td>Ethereum</td>\n",
       "      <td>Ethash</td>\n",
       "      <td>PoW</td>\n",
       "      <td>1.076842e+08</td>\n",
       "      <td>0</td>\n",
       "    </tr>\n",
       "    <tr>\n",
       "      <th>LTC</th>\n",
       "      <td>Litecoin</td>\n",
       "      <td>Scrypt</td>\n",
       "      <td>PoW</td>\n",
       "      <td>6.303924e+07</td>\n",
       "      <td>84000000</td>\n",
       "    </tr>\n",
       "    <tr>\n",
       "      <th>DASH</th>\n",
       "      <td>Dash</td>\n",
       "      <td>X11</td>\n",
       "      <td>PoW/PoS</td>\n",
       "      <td>9.031294e+06</td>\n",
       "      <td>22000000</td>\n",
       "    </tr>\n",
       "    <tr>\n",
       "      <th>XMR</th>\n",
       "      <td>Monero</td>\n",
       "      <td>CryptoNight-V7</td>\n",
       "      <td>PoW</td>\n",
       "      <td>1.720114e+07</td>\n",
       "      <td>0</td>\n",
       "    </tr>\n",
       "    <tr>\n",
       "      <th>ETC</th>\n",
       "      <td>Ethereum Classic</td>\n",
       "      <td>Ethash</td>\n",
       "      <td>PoW</td>\n",
       "      <td>1.133597e+08</td>\n",
       "      <td>210000000</td>\n",
       "    </tr>\n",
       "  </tbody>\n",
       "</table>\n",
       "</div>"
      ],
      "text/plain": [
       "              CoinName       Algorithm ProofType  TotalCoinsMined  \\\n",
       "42             42 Coin          Scrypt   PoW/PoS     4.199995e+01   \n",
       "404            404Coin          Scrypt   PoW/PoS     1.055185e+09   \n",
       "808                808         SHA-256   PoW/PoS     0.000000e+00   \n",
       "1337         EliteCoin             X13   PoW/PoS     2.927942e+10   \n",
       "BTC            Bitcoin         SHA-256       PoW     1.792718e+07   \n",
       "ETH           Ethereum          Ethash       PoW     1.076842e+08   \n",
       "LTC           Litecoin          Scrypt       PoW     6.303924e+07   \n",
       "DASH              Dash             X11   PoW/PoS     9.031294e+06   \n",
       "XMR             Monero  CryptoNight-V7       PoW     1.720114e+07   \n",
       "ETC   Ethereum Classic          Ethash       PoW     1.133597e+08   \n",
       "\n",
       "     TotalCoinSupply  \n",
       "42                42  \n",
       "404        532000000  \n",
       "808                0  \n",
       "1337    314159265359  \n",
       "BTC         21000000  \n",
       "ETH                0  \n",
       "LTC         84000000  \n",
       "DASH        22000000  \n",
       "XMR                0  \n",
       "ETC        210000000  "
      ]
     },
     "execution_count": 47,
     "metadata": {},
     "output_type": "execute_result"
    }
   ],
   "source": [
    "# Remove rows that have at least 1 null value.\n",
    "clean_crypto_df = traded_df.dropna(how='any', axis=0)\n",
    "clean_crypto_df.head(10)"
   ]
  },
  {
   "cell_type": "code",
   "execution_count": 95,
   "metadata": {},
   "outputs": [
    {
     "data": {
      "text/html": [
       "<div>\n",
       "<style scoped>\n",
       "    .dataframe tbody tr th:only-of-type {\n",
       "        vertical-align: middle;\n",
       "    }\n",
       "\n",
       "    .dataframe tbody tr th {\n",
       "        vertical-align: top;\n",
       "    }\n",
       "\n",
       "    .dataframe thead th {\n",
       "        text-align: right;\n",
       "    }\n",
       "</style>\n",
       "<table border=\"1\" class=\"dataframe\">\n",
       "  <thead>\n",
       "    <tr style=\"text-align: right;\">\n",
       "      <th></th>\n",
       "      <th>CoinName</th>\n",
       "      <th>Algorithm</th>\n",
       "      <th>ProofType</th>\n",
       "      <th>TotalCoinsMined</th>\n",
       "      <th>TotalCoinSupply</th>\n",
       "    </tr>\n",
       "  </thead>\n",
       "  <tbody>\n",
       "    <tr>\n",
       "      <th>42</th>\n",
       "      <td>42 Coin</td>\n",
       "      <td>Scrypt</td>\n",
       "      <td>PoW/PoS</td>\n",
       "      <td>4.199995e+01</td>\n",
       "      <td>42</td>\n",
       "    </tr>\n",
       "    <tr>\n",
       "      <th>404</th>\n",
       "      <td>404Coin</td>\n",
       "      <td>Scrypt</td>\n",
       "      <td>PoW/PoS</td>\n",
       "      <td>1.055185e+09</td>\n",
       "      <td>532000000</td>\n",
       "    </tr>\n",
       "    <tr>\n",
       "      <th>1337</th>\n",
       "      <td>EliteCoin</td>\n",
       "      <td>X13</td>\n",
       "      <td>PoW/PoS</td>\n",
       "      <td>2.927942e+10</td>\n",
       "      <td>314159265359</td>\n",
       "    </tr>\n",
       "    <tr>\n",
       "      <th>BTC</th>\n",
       "      <td>Bitcoin</td>\n",
       "      <td>SHA-256</td>\n",
       "      <td>PoW</td>\n",
       "      <td>1.792718e+07</td>\n",
       "      <td>21000000</td>\n",
       "    </tr>\n",
       "    <tr>\n",
       "      <th>ETH</th>\n",
       "      <td>Ethereum</td>\n",
       "      <td>Ethash</td>\n",
       "      <td>PoW</td>\n",
       "      <td>1.076842e+08</td>\n",
       "      <td>0</td>\n",
       "    </tr>\n",
       "    <tr>\n",
       "      <th>LTC</th>\n",
       "      <td>Litecoin</td>\n",
       "      <td>Scrypt</td>\n",
       "      <td>PoW</td>\n",
       "      <td>6.303924e+07</td>\n",
       "      <td>84000000</td>\n",
       "    </tr>\n",
       "    <tr>\n",
       "      <th>DASH</th>\n",
       "      <td>Dash</td>\n",
       "      <td>X11</td>\n",
       "      <td>PoW/PoS</td>\n",
       "      <td>9.031294e+06</td>\n",
       "      <td>22000000</td>\n",
       "    </tr>\n",
       "    <tr>\n",
       "      <th>XMR</th>\n",
       "      <td>Monero</td>\n",
       "      <td>CryptoNight-V7</td>\n",
       "      <td>PoW</td>\n",
       "      <td>1.720114e+07</td>\n",
       "      <td>0</td>\n",
       "    </tr>\n",
       "    <tr>\n",
       "      <th>ETC</th>\n",
       "      <td>Ethereum Classic</td>\n",
       "      <td>Ethash</td>\n",
       "      <td>PoW</td>\n",
       "      <td>1.133597e+08</td>\n",
       "      <td>210000000</td>\n",
       "    </tr>\n",
       "    <tr>\n",
       "      <th>ZEC</th>\n",
       "      <td>ZCash</td>\n",
       "      <td>Equihash</td>\n",
       "      <td>PoW</td>\n",
       "      <td>7.383056e+06</td>\n",
       "      <td>21000000</td>\n",
       "    </tr>\n",
       "  </tbody>\n",
       "</table>\n",
       "</div>"
      ],
      "text/plain": [
       "              CoinName       Algorithm ProofType  TotalCoinsMined  \\\n",
       "42             42 Coin          Scrypt   PoW/PoS     4.199995e+01   \n",
       "404            404Coin          Scrypt   PoW/PoS     1.055185e+09   \n",
       "1337         EliteCoin             X13   PoW/PoS     2.927942e+10   \n",
       "BTC            Bitcoin         SHA-256       PoW     1.792718e+07   \n",
       "ETH           Ethereum          Ethash       PoW     1.076842e+08   \n",
       "LTC           Litecoin          Scrypt       PoW     6.303924e+07   \n",
       "DASH              Dash             X11   PoW/PoS     9.031294e+06   \n",
       "XMR             Monero  CryptoNight-V7       PoW     1.720114e+07   \n",
       "ETC   Ethereum Classic          Ethash       PoW     1.133597e+08   \n",
       "ZEC              ZCash        Equihash       PoW     7.383056e+06   \n",
       "\n",
       "     TotalCoinSupply  \n",
       "42                42  \n",
       "404        532000000  \n",
       "1337    314159265359  \n",
       "BTC         21000000  \n",
       "ETH                0  \n",
       "LTC         84000000  \n",
       "DASH        22000000  \n",
       "XMR                0  \n",
       "ETC        210000000  \n",
       "ZEC         21000000  "
      ]
     },
     "execution_count": 95,
     "metadata": {},
     "output_type": "execute_result"
    }
   ],
   "source": [
    "# Keep the rows where coins are mined.\n",
    "new_crypto_df = clean_crypto_df[clean_crypto_df['TotalCoinsMined'] > 0]\n",
    "new_crypto_df.head(10)"
   ]
  },
  {
   "cell_type": "code",
   "execution_count": 96,
   "metadata": {},
   "outputs": [
    {
     "data": {
      "text/html": [
       "<div>\n",
       "<style scoped>\n",
       "    .dataframe tbody tr th:only-of-type {\n",
       "        vertical-align: middle;\n",
       "    }\n",
       "\n",
       "    .dataframe tbody tr th {\n",
       "        vertical-align: top;\n",
       "    }\n",
       "\n",
       "    .dataframe thead th {\n",
       "        text-align: right;\n",
       "    }\n",
       "</style>\n",
       "<table border=\"1\" class=\"dataframe\">\n",
       "  <thead>\n",
       "    <tr style=\"text-align: right;\">\n",
       "      <th></th>\n",
       "      <th>CoinName</th>\n",
       "    </tr>\n",
       "  </thead>\n",
       "  <tbody>\n",
       "    <tr>\n",
       "      <th>42</th>\n",
       "      <td>42 Coin</td>\n",
       "    </tr>\n",
       "    <tr>\n",
       "      <th>404</th>\n",
       "      <td>404Coin</td>\n",
       "    </tr>\n",
       "    <tr>\n",
       "      <th>1337</th>\n",
       "      <td>EliteCoin</td>\n",
       "    </tr>\n",
       "    <tr>\n",
       "      <th>BTC</th>\n",
       "      <td>Bitcoin</td>\n",
       "    </tr>\n",
       "    <tr>\n",
       "      <th>ETH</th>\n",
       "      <td>Ethereum</td>\n",
       "    </tr>\n",
       "  </tbody>\n",
       "</table>\n",
       "</div>"
      ],
      "text/plain": [
       "       CoinName\n",
       "42      42 Coin\n",
       "404     404Coin\n",
       "1337  EliteCoin\n",
       "BTC     Bitcoin\n",
       "ETH    Ethereum"
      ]
     },
     "execution_count": 96,
     "metadata": {},
     "output_type": "execute_result"
    }
   ],
   "source": [
    "# Create a new DataFrame that holds only the cryptocurrencies names.\n",
    "crypto_names_df = new_crypto_df.filter(['CoinName'], axis=1)\n",
    "crypto_names_df.head()"
   ]
  },
  {
   "cell_type": "code",
   "execution_count": 97,
   "metadata": {},
   "outputs": [
    {
     "data": {
      "text/html": [
       "<div>\n",
       "<style scoped>\n",
       "    .dataframe tbody tr th:only-of-type {\n",
       "        vertical-align: middle;\n",
       "    }\n",
       "\n",
       "    .dataframe tbody tr th {\n",
       "        vertical-align: top;\n",
       "    }\n",
       "\n",
       "    .dataframe thead th {\n",
       "        text-align: right;\n",
       "    }\n",
       "</style>\n",
       "<table border=\"1\" class=\"dataframe\">\n",
       "  <thead>\n",
       "    <tr style=\"text-align: right;\">\n",
       "      <th></th>\n",
       "      <th>Algorithm</th>\n",
       "      <th>ProofType</th>\n",
       "      <th>TotalCoinsMined</th>\n",
       "      <th>TotalCoinSupply</th>\n",
       "    </tr>\n",
       "  </thead>\n",
       "  <tbody>\n",
       "    <tr>\n",
       "      <th>42</th>\n",
       "      <td>Scrypt</td>\n",
       "      <td>PoW/PoS</td>\n",
       "      <td>4.199995e+01</td>\n",
       "      <td>42</td>\n",
       "    </tr>\n",
       "    <tr>\n",
       "      <th>404</th>\n",
       "      <td>Scrypt</td>\n",
       "      <td>PoW/PoS</td>\n",
       "      <td>1.055185e+09</td>\n",
       "      <td>532000000</td>\n",
       "    </tr>\n",
       "    <tr>\n",
       "      <th>1337</th>\n",
       "      <td>X13</td>\n",
       "      <td>PoW/PoS</td>\n",
       "      <td>2.927942e+10</td>\n",
       "      <td>314159265359</td>\n",
       "    </tr>\n",
       "    <tr>\n",
       "      <th>BTC</th>\n",
       "      <td>SHA-256</td>\n",
       "      <td>PoW</td>\n",
       "      <td>1.792718e+07</td>\n",
       "      <td>21000000</td>\n",
       "    </tr>\n",
       "    <tr>\n",
       "      <th>ETH</th>\n",
       "      <td>Ethash</td>\n",
       "      <td>PoW</td>\n",
       "      <td>1.076842e+08</td>\n",
       "      <td>0</td>\n",
       "    </tr>\n",
       "    <tr>\n",
       "      <th>LTC</th>\n",
       "      <td>Scrypt</td>\n",
       "      <td>PoW</td>\n",
       "      <td>6.303924e+07</td>\n",
       "      <td>84000000</td>\n",
       "    </tr>\n",
       "    <tr>\n",
       "      <th>DASH</th>\n",
       "      <td>X11</td>\n",
       "      <td>PoW/PoS</td>\n",
       "      <td>9.031294e+06</td>\n",
       "      <td>22000000</td>\n",
       "    </tr>\n",
       "    <tr>\n",
       "      <th>XMR</th>\n",
       "      <td>CryptoNight-V7</td>\n",
       "      <td>PoW</td>\n",
       "      <td>1.720114e+07</td>\n",
       "      <td>0</td>\n",
       "    </tr>\n",
       "    <tr>\n",
       "      <th>ETC</th>\n",
       "      <td>Ethash</td>\n",
       "      <td>PoW</td>\n",
       "      <td>1.133597e+08</td>\n",
       "      <td>210000000</td>\n",
       "    </tr>\n",
       "    <tr>\n",
       "      <th>ZEC</th>\n",
       "      <td>Equihash</td>\n",
       "      <td>PoW</td>\n",
       "      <td>7.383056e+06</td>\n",
       "      <td>21000000</td>\n",
       "    </tr>\n",
       "  </tbody>\n",
       "</table>\n",
       "</div>"
      ],
      "text/plain": [
       "           Algorithm ProofType  TotalCoinsMined TotalCoinSupply\n",
       "42            Scrypt   PoW/PoS     4.199995e+01              42\n",
       "404           Scrypt   PoW/PoS     1.055185e+09       532000000\n",
       "1337             X13   PoW/PoS     2.927942e+10    314159265359\n",
       "BTC          SHA-256       PoW     1.792718e+07        21000000\n",
       "ETH           Ethash       PoW     1.076842e+08               0\n",
       "LTC           Scrypt       PoW     6.303924e+07        84000000\n",
       "DASH             X11   PoW/PoS     9.031294e+06        22000000\n",
       "XMR   CryptoNight-V7       PoW     1.720114e+07               0\n",
       "ETC           Ethash       PoW     1.133597e+08       210000000\n",
       "ZEC         Equihash       PoW     7.383056e+06        21000000"
      ]
     },
     "execution_count": 97,
     "metadata": {},
     "output_type": "execute_result"
    }
   ],
   "source": [
    "# Drop the 'CoinName' column since it's not going to be used on the clustering algorithm.\n",
    "del new_crypto_df['CoinName']\n",
    "new_crypto_df.head(10)"
   ]
  },
  {
   "cell_type": "code",
   "execution_count": 98,
   "metadata": {},
   "outputs": [
    {
     "data": {
      "text/html": [
       "<div>\n",
       "<style scoped>\n",
       "    .dataframe tbody tr th:only-of-type {\n",
       "        vertical-align: middle;\n",
       "    }\n",
       "\n",
       "    .dataframe tbody tr th {\n",
       "        vertical-align: top;\n",
       "    }\n",
       "\n",
       "    .dataframe thead th {\n",
       "        text-align: right;\n",
       "    }\n",
       "</style>\n",
       "<table border=\"1\" class=\"dataframe\">\n",
       "  <thead>\n",
       "    <tr style=\"text-align: right;\">\n",
       "      <th></th>\n",
       "      <th>TotalCoinsMined</th>\n",
       "      <th>TotalCoinSupply</th>\n",
       "      <th>Algorithm_1GB AES Pattern Search</th>\n",
       "      <th>Algorithm_536</th>\n",
       "      <th>Algorithm_Argon2d</th>\n",
       "      <th>Algorithm_BLAKE256</th>\n",
       "      <th>Algorithm_Blake</th>\n",
       "      <th>Algorithm_Blake2S</th>\n",
       "      <th>Algorithm_Blake2b</th>\n",
       "      <th>Algorithm_C11</th>\n",
       "      <th>...</th>\n",
       "      <th>ProofType_PoW/PoS</th>\n",
       "      <th>ProofType_PoW/PoS</th>\n",
       "      <th>ProofType_PoW/PoW</th>\n",
       "      <th>ProofType_PoW/nPoS</th>\n",
       "      <th>ProofType_Pos</th>\n",
       "      <th>ProofType_Proof of Authority</th>\n",
       "      <th>ProofType_Proof of Trust</th>\n",
       "      <th>ProofType_TPoS</th>\n",
       "      <th>ProofType_Zero-Knowledge Proof</th>\n",
       "      <th>ProofType_dPoW/PoW</th>\n",
       "    </tr>\n",
       "  </thead>\n",
       "  <tbody>\n",
       "    <tr>\n",
       "      <th>42</th>\n",
       "      <td>4.199995e+01</td>\n",
       "      <td>42</td>\n",
       "      <td>0</td>\n",
       "      <td>0</td>\n",
       "      <td>0</td>\n",
       "      <td>0</td>\n",
       "      <td>0</td>\n",
       "      <td>0</td>\n",
       "      <td>0</td>\n",
       "      <td>0</td>\n",
       "      <td>...</td>\n",
       "      <td>1</td>\n",
       "      <td>0</td>\n",
       "      <td>0</td>\n",
       "      <td>0</td>\n",
       "      <td>0</td>\n",
       "      <td>0</td>\n",
       "      <td>0</td>\n",
       "      <td>0</td>\n",
       "      <td>0</td>\n",
       "      <td>0</td>\n",
       "    </tr>\n",
       "    <tr>\n",
       "      <th>404</th>\n",
       "      <td>1.055185e+09</td>\n",
       "      <td>532000000</td>\n",
       "      <td>0</td>\n",
       "      <td>0</td>\n",
       "      <td>0</td>\n",
       "      <td>0</td>\n",
       "      <td>0</td>\n",
       "      <td>0</td>\n",
       "      <td>0</td>\n",
       "      <td>0</td>\n",
       "      <td>...</td>\n",
       "      <td>1</td>\n",
       "      <td>0</td>\n",
       "      <td>0</td>\n",
       "      <td>0</td>\n",
       "      <td>0</td>\n",
       "      <td>0</td>\n",
       "      <td>0</td>\n",
       "      <td>0</td>\n",
       "      <td>0</td>\n",
       "      <td>0</td>\n",
       "    </tr>\n",
       "    <tr>\n",
       "      <th>1337</th>\n",
       "      <td>2.927942e+10</td>\n",
       "      <td>314159265359</td>\n",
       "      <td>0</td>\n",
       "      <td>0</td>\n",
       "      <td>0</td>\n",
       "      <td>0</td>\n",
       "      <td>0</td>\n",
       "      <td>0</td>\n",
       "      <td>0</td>\n",
       "      <td>0</td>\n",
       "      <td>...</td>\n",
       "      <td>1</td>\n",
       "      <td>0</td>\n",
       "      <td>0</td>\n",
       "      <td>0</td>\n",
       "      <td>0</td>\n",
       "      <td>0</td>\n",
       "      <td>0</td>\n",
       "      <td>0</td>\n",
       "      <td>0</td>\n",
       "      <td>0</td>\n",
       "    </tr>\n",
       "    <tr>\n",
       "      <th>BTC</th>\n",
       "      <td>1.792718e+07</td>\n",
       "      <td>21000000</td>\n",
       "      <td>0</td>\n",
       "      <td>0</td>\n",
       "      <td>0</td>\n",
       "      <td>0</td>\n",
       "      <td>0</td>\n",
       "      <td>0</td>\n",
       "      <td>0</td>\n",
       "      <td>0</td>\n",
       "      <td>...</td>\n",
       "      <td>0</td>\n",
       "      <td>0</td>\n",
       "      <td>0</td>\n",
       "      <td>0</td>\n",
       "      <td>0</td>\n",
       "      <td>0</td>\n",
       "      <td>0</td>\n",
       "      <td>0</td>\n",
       "      <td>0</td>\n",
       "      <td>0</td>\n",
       "    </tr>\n",
       "    <tr>\n",
       "      <th>ETH</th>\n",
       "      <td>1.076842e+08</td>\n",
       "      <td>0</td>\n",
       "      <td>0</td>\n",
       "      <td>0</td>\n",
       "      <td>0</td>\n",
       "      <td>0</td>\n",
       "      <td>0</td>\n",
       "      <td>0</td>\n",
       "      <td>0</td>\n",
       "      <td>0</td>\n",
       "      <td>...</td>\n",
       "      <td>0</td>\n",
       "      <td>0</td>\n",
       "      <td>0</td>\n",
       "      <td>0</td>\n",
       "      <td>0</td>\n",
       "      <td>0</td>\n",
       "      <td>0</td>\n",
       "      <td>0</td>\n",
       "      <td>0</td>\n",
       "      <td>0</td>\n",
       "    </tr>\n",
       "  </tbody>\n",
       "</table>\n",
       "<p>5 rows × 98 columns</p>\n",
       "</div>"
      ],
      "text/plain": [
       "      TotalCoinsMined TotalCoinSupply  Algorithm_1GB AES Pattern Search  \\\n",
       "42       4.199995e+01              42                                 0   \n",
       "404      1.055185e+09       532000000                                 0   \n",
       "1337     2.927942e+10    314159265359                                 0   \n",
       "BTC      1.792718e+07        21000000                                 0   \n",
       "ETH      1.076842e+08               0                                 0   \n",
       "\n",
       "      Algorithm_536  Algorithm_Argon2d  Algorithm_BLAKE256  Algorithm_Blake  \\\n",
       "42                0                  0                   0                0   \n",
       "404               0                  0                   0                0   \n",
       "1337              0                  0                   0                0   \n",
       "BTC               0                  0                   0                0   \n",
       "ETH               0                  0                   0                0   \n",
       "\n",
       "      Algorithm_Blake2S  Algorithm_Blake2b  Algorithm_C11  ...  \\\n",
       "42                    0                  0              0  ...   \n",
       "404                   0                  0              0  ...   \n",
       "1337                  0                  0              0  ...   \n",
       "BTC                   0                  0              0  ...   \n",
       "ETH                   0                  0              0  ...   \n",
       "\n",
       "      ProofType_PoW/PoS  ProofType_PoW/PoS   ProofType_PoW/PoW  \\\n",
       "42                    1                   0                  0   \n",
       "404                   1                   0                  0   \n",
       "1337                  1                   0                  0   \n",
       "BTC                   0                   0                  0   \n",
       "ETH                   0                   0                  0   \n",
       "\n",
       "      ProofType_PoW/nPoS  ProofType_Pos  ProofType_Proof of Authority  \\\n",
       "42                     0              0                             0   \n",
       "404                    0              0                             0   \n",
       "1337                   0              0                             0   \n",
       "BTC                    0              0                             0   \n",
       "ETH                    0              0                             0   \n",
       "\n",
       "      ProofType_Proof of Trust  ProofType_TPoS  \\\n",
       "42                           0               0   \n",
       "404                          0               0   \n",
       "1337                         0               0   \n",
       "BTC                          0               0   \n",
       "ETH                          0               0   \n",
       "\n",
       "      ProofType_Zero-Knowledge Proof  ProofType_dPoW/PoW  \n",
       "42                                 0                   0  \n",
       "404                                0                   0  \n",
       "1337                               0                   0  \n",
       "BTC                                0                   0  \n",
       "ETH                                0                   0  \n",
       "\n",
       "[5 rows x 98 columns]"
      ]
     },
     "execution_count": 98,
     "metadata": {},
     "output_type": "execute_result"
    }
   ],
   "source": [
    "# Use get_dummies() to create variables for text features.\n",
    "x = pd.get_dummies(new_crypto_df, columns=['Algorithm', 'ProofType'])\n",
    "x.head()"
   ]
  },
  {
   "cell_type": "code",
   "execution_count": 99,
   "metadata": {},
   "outputs": [
    {
     "name": "stdout",
     "output_type": "stream",
     "text": [
      "[[-0.11710817 -0.1528703  -0.0433963  ... -0.0433963  -0.0433963\n",
      "  -0.0433963 ]\n",
      " [-0.09396955 -0.145009   -0.0433963  ... -0.0433963  -0.0433963\n",
      "  -0.0433963 ]\n",
      " [ 0.52494561  4.48942416 -0.0433963  ... -0.0433963  -0.0433963\n",
      "  -0.0433963 ]\n",
      " ...\n",
      " [-0.09561336 -0.13217937 -0.0433963  ... -0.0433963  -0.0433963\n",
      "  -0.0433963 ]\n",
      " [-0.11694817 -0.15255998 -0.0433963  ... -0.0433963  -0.0433963\n",
      "  -0.0433963 ]\n",
      " [-0.11710536 -0.15285552 -0.0433963  ... -0.0433963  -0.0433963\n",
      "  -0.0433963 ]]\n"
     ]
    }
   ],
   "source": [
    "# Standardize the data with StandardScaler().\n",
    "x_scaled = StandardScaler().fit_transform(x)\n",
    "print(x_scaled)"
   ]
  },
  {
   "cell_type": "markdown",
   "metadata": {},
   "source": [
    "### Deliverable 2: Reducing Data Dimensions Using PCA"
   ]
  },
  {
   "cell_type": "code",
   "execution_count": 100,
   "metadata": {},
   "outputs": [
    {
     "data": {
      "text/plain": [
       "array([[-0.33174932,  1.02505808, -0.61341318],\n",
       "       [-0.31505849,  1.02534127, -0.61366192],\n",
       "       [ 2.31426251,  1.77659448, -0.59616913],\n",
       "       ...,\n",
       "       [ 0.32922243, -2.26485921,  0.40189007],\n",
       "       [-0.17191503, -2.03005104,  0.45029477],\n",
       "       [-0.28050853,  0.7569725 , -0.26025177]])"
      ]
     },
     "execution_count": 100,
     "metadata": {},
     "output_type": "execute_result"
    }
   ],
   "source": [
    "# Using PCA to reduce dimension to three principal components.\n",
    "pca = PCA(n_components=3)\n",
    "x_pca = pca.fit_transform(x_scaled)\n",
    "x_pca"
   ]
  },
  {
   "cell_type": "code",
   "execution_count": 101,
   "metadata": {},
   "outputs": [
    {
     "data": {
      "text/html": [
       "<div>\n",
       "<style scoped>\n",
       "    .dataframe tbody tr th:only-of-type {\n",
       "        vertical-align: middle;\n",
       "    }\n",
       "\n",
       "    .dataframe tbody tr th {\n",
       "        vertical-align: top;\n",
       "    }\n",
       "\n",
       "    .dataframe thead th {\n",
       "        text-align: right;\n",
       "    }\n",
       "</style>\n",
       "<table border=\"1\" class=\"dataframe\">\n",
       "  <thead>\n",
       "    <tr style=\"text-align: right;\">\n",
       "      <th></th>\n",
       "      <th>PC 1</th>\n",
       "      <th>PC 2</th>\n",
       "      <th>PC 3</th>\n",
       "    </tr>\n",
       "  </thead>\n",
       "  <tbody>\n",
       "    <tr>\n",
       "      <th>42</th>\n",
       "      <td>-0.331749</td>\n",
       "      <td>1.025058</td>\n",
       "      <td>-0.613413</td>\n",
       "    </tr>\n",
       "    <tr>\n",
       "      <th>404</th>\n",
       "      <td>-0.315058</td>\n",
       "      <td>1.025341</td>\n",
       "      <td>-0.613662</td>\n",
       "    </tr>\n",
       "    <tr>\n",
       "      <th>1337</th>\n",
       "      <td>2.314263</td>\n",
       "      <td>1.776594</td>\n",
       "      <td>-0.596169</td>\n",
       "    </tr>\n",
       "    <tr>\n",
       "      <th>BTC</th>\n",
       "      <td>-0.134570</td>\n",
       "      <td>-1.263933</td>\n",
       "      <td>0.189701</td>\n",
       "    </tr>\n",
       "    <tr>\n",
       "      <th>ETH</th>\n",
       "      <td>-0.146161</td>\n",
       "      <td>-2.073020</td>\n",
       "      <td>0.379397</td>\n",
       "    </tr>\n",
       "    <tr>\n",
       "      <th>LTC</th>\n",
       "      <td>-0.161474</td>\n",
       "      <td>-1.166232</td>\n",
       "      <td>-0.069621</td>\n",
       "    </tr>\n",
       "    <tr>\n",
       "      <th>DASH</th>\n",
       "      <td>-0.408726</td>\n",
       "      <td>1.284677</td>\n",
       "      <td>-0.427509</td>\n",
       "    </tr>\n",
       "    <tr>\n",
       "      <th>XMR</th>\n",
       "      <td>-0.161716</td>\n",
       "      <td>-2.271524</td>\n",
       "      <td>0.331359</td>\n",
       "    </tr>\n",
       "    <tr>\n",
       "      <th>ETC</th>\n",
       "      <td>-0.144600</td>\n",
       "      <td>-2.073102</td>\n",
       "      <td>0.379387</td>\n",
       "    </tr>\n",
       "    <tr>\n",
       "      <th>ZEC</th>\n",
       "      <td>-0.171914</td>\n",
       "      <td>-2.030051</td>\n",
       "      <td>0.450295</td>\n",
       "    </tr>\n",
       "  </tbody>\n",
       "</table>\n",
       "</div>"
      ],
      "text/plain": [
       "          PC 1      PC 2      PC 3\n",
       "42   -0.331749  1.025058 -0.613413\n",
       "404  -0.315058  1.025341 -0.613662\n",
       "1337  2.314263  1.776594 -0.596169\n",
       "BTC  -0.134570 -1.263933  0.189701\n",
       "ETH  -0.146161 -2.073020  0.379397\n",
       "LTC  -0.161474 -1.166232 -0.069621\n",
       "DASH -0.408726  1.284677 -0.427509\n",
       "XMR  -0.161716 -2.271524  0.331359\n",
       "ETC  -0.144600 -2.073102  0.379387\n",
       "ZEC  -0.171914 -2.030051  0.450295"
      ]
     },
     "execution_count": 101,
     "metadata": {},
     "output_type": "execute_result"
    }
   ],
   "source": [
    "# Create a DataFrame with the three principal components.\n",
    "pcs_df=pd.DataFrame(\n",
    "data=x_pca, columns=[\"PC 1\", \"PC 2\",\"PC 3\"], index = new_crypto_df.index)\n",
    "pcs_df.head(10)"
   ]
  },
  {
   "cell_type": "markdown",
   "metadata": {},
   "source": [
    "### Deliverable 3: Clustering Crytocurrencies Using K-Means\n",
    "\n",
    "#### Finding the Best Value for `k` Using the Elbow Curve"
   ]
  },
  {
   "cell_type": "code",
   "execution_count": 102,
   "metadata": {},
   "outputs": [
    {
     "name": "stderr",
     "output_type": "stream",
     "text": [
      "C:\\Users\\Tyrei\\anaconda3\\envs\\mlenv\\lib\\site-packages\\sklearn\\cluster\\_kmeans.py:1037: UserWarning:\n",
      "\n",
      "KMeans is known to have a memory leak on Windows with MKL, when there are less chunks than available threads. You can avoid it by setting the environment variable OMP_NUM_THREADS=3.\n",
      "\n"
     ]
    },
    {
     "data": {},
     "metadata": {},
     "output_type": "display_data"
    },
    {
     "data": {
      "application/vnd.holoviews_exec.v0+json": "",
      "text/html": [
       "<div id='1551'>\n",
       "\n",
       "\n",
       "\n",
       "\n",
       "\n",
       "  <div class=\"bk-root\" id=\"cd54b3ea-3640-4976-a967-f6bda710dd8c\" data-root-id=\"1551\"></div>\n",
       "</div>\n",
       "<script type=\"application/javascript\">(function(root) {\n",
       "  function embed_document(root) {\n",
       "    var docs_json = {\"22b57fad-9051-4b50-99de-cb7bf71365dc\":{\"defs\":[{\"extends\":null,\"module\":null,\"name\":\"ReactiveHTML1\",\"overrides\":[],\"properties\":[]},{\"extends\":null,\"module\":null,\"name\":\"FlexBox1\",\"overrides\":[],\"properties\":[{\"default\":\"flex-start\",\"kind\":null,\"name\":\"align_content\"},{\"default\":\"flex-start\",\"kind\":null,\"name\":\"align_items\"},{\"default\":\"row\",\"kind\":null,\"name\":\"flex_direction\"},{\"default\":\"wrap\",\"kind\":null,\"name\":\"flex_wrap\"},{\"default\":\"flex-start\",\"kind\":null,\"name\":\"justify_content\"}]},{\"extends\":null,\"module\":null,\"name\":\"GridStack1\",\"overrides\":[],\"properties\":[{\"default\":\"warn\",\"kind\":null,\"name\":\"mode\"},{\"default\":null,\"kind\":null,\"name\":\"ncols\"},{\"default\":null,\"kind\":null,\"name\":\"nrows\"},{\"default\":true,\"kind\":null,\"name\":\"allow_resize\"},{\"default\":true,\"kind\":null,\"name\":\"allow_drag\"},{\"default\":[],\"kind\":null,\"name\":\"state\"}]},{\"extends\":null,\"module\":null,\"name\":\"click1\",\"overrides\":[],\"properties\":[{\"default\":\"\",\"kind\":null,\"name\":\"terminal_output\"},{\"default\":\"\",\"kind\":null,\"name\":\"debug_name\"},{\"default\":0,\"kind\":null,\"name\":\"clears\"}]},{\"extends\":null,\"module\":null,\"name\":\"TemplateActions1\",\"overrides\":[],\"properties\":[{\"default\":0,\"kind\":null,\"name\":\"open_modal\"},{\"default\":0,\"kind\":null,\"name\":\"close_modal\"}]},{\"extends\":null,\"module\":null,\"name\":\"MaterialTemplateActions1\",\"overrides\":[],\"properties\":[{\"default\":0,\"kind\":null,\"name\":\"open_modal\"},{\"default\":0,\"kind\":null,\"name\":\"close_modal\"}]}],\"roots\":{\"references\":[{\"attributes\":{},\"id\":\"1563\",\"type\":\"LinearScale\"},{\"attributes\":{\"axis_label\":\"inertia\",\"coordinates\":null,\"formatter\":{\"id\":\"1602\"},\"group\":null,\"major_label_policy\":{\"id\":\"1603\"},\"ticker\":{\"id\":\"1570\"}},\"id\":\"1569\",\"type\":\"LinearAxis\"},{\"attributes\":{\"axis_label\":\"k\",\"coordinates\":null,\"formatter\":{\"id\":\"1597\"},\"group\":null,\"major_label_policy\":{\"id\":\"1598\"},\"ticker\":{\"id\":\"1595\"}},\"id\":\"1565\",\"type\":\"LinearAxis\"},{\"attributes\":{},\"id\":\"1602\",\"type\":\"BasicTickFormatter\"},{\"attributes\":{\"line_color\":\"#30a2da\",\"line_width\":2,\"x\":{\"field\":\"k\"},\"y\":{\"field\":\"inertia\"}},\"id\":\"1594\",\"type\":\"Line\"},{\"attributes\":{\"ticks\":[1,2,3,4,5,6,7,8,9,10]},\"id\":\"1595\",\"type\":\"FixedTicker\"},{\"attributes\":{\"coordinates\":null,\"data_source\":{\"id\":\"1586\"},\"glyph\":{\"id\":\"1589\"},\"group\":null,\"hover_glyph\":null,\"muted_glyph\":{\"id\":\"1591\"},\"nonselection_glyph\":{\"id\":\"1590\"},\"selection_glyph\":{\"id\":\"1594\"},\"view\":{\"id\":\"1593\"}},\"id\":\"1592\",\"type\":\"GlyphRenderer\"},{\"attributes\":{\"axis\":{\"id\":\"1569\"},\"coordinates\":null,\"dimension\":1,\"grid_line_color\":null,\"group\":null,\"ticker\":null},\"id\":\"1572\",\"type\":\"Grid\"},{\"attributes\":{\"margin\":[5,5,5,5],\"name\":\"HSpacer02714\",\"sizing_mode\":\"stretch_width\"},\"id\":\"1552\",\"type\":\"Spacer\"},{\"attributes\":{\"line_alpha\":0.2,\"line_color\":\"#30a2da\",\"line_width\":2,\"x\":{\"field\":\"k\"},\"y\":{\"field\":\"inertia\"}},\"id\":\"1591\",\"type\":\"Line\"},{\"attributes\":{\"end\":10.0,\"reset_end\":10.0,\"reset_start\":1.0,\"start\":1.0,\"tags\":[[[\"k\",\"k\",null]]]},\"id\":\"1553\",\"type\":\"Range1d\"},{\"attributes\":{\"coordinates\":null,\"group\":null,\"text\":\"Elbow Curve\",\"text_color\":\"black\",\"text_font_size\":\"12pt\"},\"id\":\"1557\",\"type\":\"Title\"},{\"attributes\":{\"source\":{\"id\":\"1586\"}},\"id\":\"1593\",\"type\":\"CDSView\"},{\"attributes\":{},\"id\":\"1598\",\"type\":\"AllLabels\"},{\"attributes\":{\"tools\":[{\"id\":\"1555\"},{\"id\":\"1573\"},{\"id\":\"1574\"},{\"id\":\"1575\"},{\"id\":\"1576\"},{\"id\":\"1577\"}]},\"id\":\"1579\",\"type\":\"Toolbar\"},{\"attributes\":{\"line_alpha\":0.1,\"line_color\":\"#30a2da\",\"line_width\":2,\"x\":{\"field\":\"k\"},\"y\":{\"field\":\"inertia\"}},\"id\":\"1590\",\"type\":\"Line\"},{\"attributes\":{\"callback\":null,\"renderers\":[{\"id\":\"1592\"}],\"tags\":[\"hv_created\"],\"tooltips\":[[\"k\",\"@{k}\"],[\"inertia\",\"@{inertia}\"]]},\"id\":\"1555\",\"type\":\"HoverTool\"},{\"attributes\":{},\"id\":\"1597\",\"type\":\"BasicTickFormatter\"},{\"attributes\":{\"data\":{\"inertia\":{\"__ndarray__\":\"YeZU1HNurED3ac3BtU6jQM+Rfqr7KZdADQos+8Udf0CICAoH7CFzQKmhzNz6dG5AzD34auDbaECEukkH981kQNoYYCQ5oWFA8NXYSWD8XUA=\",\"dtype\":\"float64\",\"order\":\"little\",\"shape\":[10]},\"k\":[1,2,3,4,5,6,7,8,9,10]},\"selected\":{\"id\":\"1587\"},\"selection_policy\":{\"id\":\"1610\"}},\"id\":\"1586\",\"type\":\"ColumnDataSource\"},{\"attributes\":{},\"id\":\"1573\",\"type\":\"SaveTool\"},{\"attributes\":{},\"id\":\"1587\",\"type\":\"Selection\"},{\"attributes\":{\"end\":3991.154514572391,\"reset_end\":3991.154514572391,\"reset_start\":-231.9849082540353,\"start\":-231.9849082540353,\"tags\":[[[\"inertia\",\"inertia\",null]]]},\"id\":\"1554\",\"type\":\"Range1d\"},{\"attributes\":{\"children\":[{\"id\":\"1552\"},{\"id\":\"1556\"},{\"id\":\"1622\"}],\"margin\":[0,0,0,0],\"name\":\"Row02710\",\"tags\":[\"embedded\"]},\"id\":\"1551\",\"type\":\"Row\"},{\"attributes\":{},\"id\":\"1574\",\"type\":\"PanTool\"},{\"attributes\":{},\"id\":\"1603\",\"type\":\"AllLabels\"},{\"attributes\":{},\"id\":\"1577\",\"type\":\"ResetTool\"},{\"attributes\":{},\"id\":\"1575\",\"type\":\"WheelZoomTool\"},{\"attributes\":{},\"id\":\"1610\",\"type\":\"UnionRenderers\"},{\"attributes\":{\"margin\":[5,5,5,5],\"name\":\"HSpacer02715\",\"sizing_mode\":\"stretch_width\"},\"id\":\"1622\",\"type\":\"Spacer\"},{\"attributes\":{\"overlay\":{\"id\":\"1578\"}},\"id\":\"1576\",\"type\":\"BoxZoomTool\"},{\"attributes\":{\"line_color\":\"#30a2da\",\"line_width\":2,\"x\":{\"field\":\"k\"},\"y\":{\"field\":\"inertia\"}},\"id\":\"1589\",\"type\":\"Line\"},{\"attributes\":{},\"id\":\"1570\",\"type\":\"BasicTicker\"},{\"attributes\":{},\"id\":\"1561\",\"type\":\"LinearScale\"},{\"attributes\":{\"axis\":{\"id\":\"1565\"},\"coordinates\":null,\"grid_line_color\":null,\"group\":null,\"ticker\":null},\"id\":\"1568\",\"type\":\"Grid\"},{\"attributes\":{\"bottom_units\":\"screen\",\"coordinates\":null,\"fill_alpha\":0.5,\"fill_color\":\"lightgrey\",\"group\":null,\"left_units\":\"screen\",\"level\":\"overlay\",\"line_alpha\":1.0,\"line_color\":\"black\",\"line_dash\":[4,4],\"line_width\":2,\"right_units\":\"screen\",\"syncable\":false,\"top_units\":\"screen\"},\"id\":\"1578\",\"type\":\"BoxAnnotation\"},{\"attributes\":{\"below\":[{\"id\":\"1565\"}],\"center\":[{\"id\":\"1568\"},{\"id\":\"1572\"}],\"height\":300,\"left\":[{\"id\":\"1569\"}],\"margin\":[5,5,5,5],\"min_border_bottom\":10,\"min_border_left\":10,\"min_border_right\":10,\"min_border_top\":10,\"renderers\":[{\"id\":\"1592\"}],\"sizing_mode\":\"fixed\",\"title\":{\"id\":\"1557\"},\"toolbar\":{\"id\":\"1579\"},\"width\":700,\"x_range\":{\"id\":\"1553\"},\"x_scale\":{\"id\":\"1561\"},\"y_range\":{\"id\":\"1554\"},\"y_scale\":{\"id\":\"1563\"}},\"id\":\"1556\",\"subtype\":\"Figure\",\"type\":\"Plot\"}],\"root_ids\":[\"1551\"]},\"title\":\"Bokeh Application\",\"version\":\"2.4.2\"}};\n",
       "    var render_items = [{\"docid\":\"22b57fad-9051-4b50-99de-cb7bf71365dc\",\"root_ids\":[\"1551\"],\"roots\":{\"1551\":\"cd54b3ea-3640-4976-a967-f6bda710dd8c\"}}];\n",
       "    root.Bokeh.embed.embed_items_notebook(docs_json, render_items);\n",
       "  }\n",
       "  if (root.Bokeh !== undefined && root.Bokeh.Panel !== undefined) {\n",
       "    embed_document(root);\n",
       "  } else {\n",
       "    var attempts = 0;\n",
       "    var timer = setInterval(function(root) {\n",
       "      if (root.Bokeh !== undefined && root.Bokeh.Panel !== undefined) {\n",
       "        clearInterval(timer);\n",
       "        embed_document(root);\n",
       "      } else if (document.readyState == \"complete\") {\n",
       "        attempts++;\n",
       "        if (attempts > 200) {\n",
       "          clearInterval(timer);\n",
       "          console.log(\"Bokeh: ERROR: Unable to run BokehJS code because BokehJS library is missing\");\n",
       "        }\n",
       "      }\n",
       "    }, 25, root)\n",
       "  }\n",
       "})(window);</script>"
      ],
      "text/plain": [
       ":Curve   [k]   (inertia)"
      ]
     },
     "execution_count": 102,
     "metadata": {
      "application/vnd.holoviews_exec.v0+json": {
       "id": "1551"
      }
     },
     "output_type": "execute_result"
    }
   ],
   "source": [
    "# Create an elbow curve to find the best value for K.\n",
    "inertia = []\n",
    "k = list(range(1, 11))\n",
    "for i in k:\n",
    "   km = KMeans(n_clusters=i, random_state=0)\n",
    "   km.fit(pcs_df)\n",
    "   inertia.append(km.inertia_)\n",
    "elbow_data = {\"k\": k, \"inertia\": inertia}\n",
    "df_elbow = pd.DataFrame(elbow_data)\n",
    "df_elbow.hvplot.line(x=\"k\", y=\"inertia\", title=\"Elbow Curve\", xticks=k)"
   ]
  },
  {
   "cell_type": "markdown",
   "metadata": {},
   "source": [
    "Running K-Means with `k=4`"
   ]
  },
  {
   "cell_type": "code",
   "execution_count": 103,
   "metadata": {},
   "outputs": [
    {
     "data": {
      "text/plain": [
       "array([0, 0, 0, 3, 3, 3, 0, 3, 3, 3, 0, 3, 0, 0, 3, 0, 3, 3, 0, 0, 3, 3,\n",
       "       3, 3, 3, 0, 3, 3, 3, 0, 3, 0, 3, 3, 0, 0, 3, 3, 3, 3, 3, 3, 0, 0,\n",
       "       3, 3, 3, 3, 3, 0, 0, 3, 0, 3, 3, 3, 3, 0, 3, 3, 0, 3, 0, 0, 0, 3,\n",
       "       3, 3, 0, 0, 0, 0, 0, 3, 3, 3, 0, 0, 3, 0, 3, 0, 0, 3, 3, 3, 3, 0,\n",
       "       0, 3, 0, 3, 3, 0, 0, 3, 0, 0, 3, 3, 0, 0, 3, 0, 0, 3, 0, 3, 0, 3,\n",
       "       0, 3, 0, 0, 3, 3, 0, 3, 3, 3, 0, 3, 3, 3, 3, 3, 0, 0, 3, 3, 3, 0,\n",
       "       3, 0, 3, 3, 0, 3, 0, 3, 0, 0, 3, 3, 0, 3, 3, 0, 0, 3, 0, 3, 0, 0,\n",
       "       0, 3, 3, 3, 3, 0, 0, 0, 0, 0, 3, 3, 0, 0, 0, 0, 0, 3, 0, 0, 0, 0,\n",
       "       0, 3, 0, 3, 0, 0, 3, 0, 3, 0, 0, 3, 0, 3, 0, 3, 0, 3, 0, 0, 0, 0,\n",
       "       3, 0, 0, 0, 0, 0, 3, 3, 0, 0, 3, 3, 0, 0, 0, 0, 0, 3, 0, 0, 0, 0,\n",
       "       0, 0, 0, 0, 3, 0, 0, 0, 0, 0, 0, 3, 3, 3, 0, 0, 0, 0, 3, 0, 3, 0,\n",
       "       0, 3, 0, 3, 3, 0, 3, 3, 0, 3, 0, 0, 0, 3, 0, 0, 3, 0, 0, 0, 0, 0,\n",
       "       0, 0, 3, 0, 3, 0, 0, 0, 0, 3, 0, 3, 0, 3, 3, 3, 3, 0, 3, 0, 0, 3,\n",
       "       0, 3, 3, 3, 0, 3, 0, 3, 3, 3, 0, 3, 0, 3, 0, 0, 0, 3, 0, 3, 3, 3,\n",
       "       3, 3, 0, 0, 3, 0, 0, 0, 3, 0, 3, 0, 3, 0, 3, 0, 0, 0, 0, 3, 0, 0,\n",
       "       3, 0, 0, 0, 3, 3, 3, 3, 0, 0, 0, 0, 3, 0, 3, 3, 3, 0, 0, 3, 3, 0,\n",
       "       0, 3, 0, 3, 3, 3, 0, 3, 3, 0, 0, 0, 3, 3, 3, 0, 3, 0, 3, 3, 0, 3,\n",
       "       3, 3, 3, 0, 1, 1, 3, 3, 3, 0, 1, 0, 0, 0, 0, 3, 3, 3, 3, 0, 0, 0,\n",
       "       3, 0, 3, 0, 0, 0, 0, 3, 0, 0, 3, 0, 0, 3, 3, 0, 3, 0, 3, 3, 3, 3,\n",
       "       0, 0, 3, 0, 3, 0, 0, 0, 0, 0, 0, 3, 3, 3, 0, 0, 0, 0, 0, 0, 3, 0,\n",
       "       3, 3, 3, 3, 0, 0, 0, 0, 3, 0, 0, 3, 0, 0, 3, 1, 3, 0, 3, 3, 0, 0,\n",
       "       3, 0, 3, 3, 3, 3, 3, 0, 3, 0, 3, 0, 0, 3, 0, 0, 0, 0, 0, 3, 3, 3,\n",
       "       0, 0, 0, 3, 0, 3, 0, 3, 0, 0, 0, 0, 3, 0, 0, 0, 3, 0, 3, 0, 3, 0,\n",
       "       0, 0, 3, 3, 0, 0, 0, 0, 0, 0, 3, 0, 3, 0, 3, 0, 0, 1, 0, 2, 0, 0,\n",
       "       0, 3, 3, 0])"
      ]
     },
     "execution_count": 103,
     "metadata": {},
     "output_type": "execute_result"
    }
   ],
   "source": [
    "# Initialize the K-Means model.\n",
    "model = KMeans(n_clusters=4, random_state=0)\n",
    "\n",
    "# Fit the model\n",
    "model.fit(pcs_df)\n",
    "\n",
    "# Predict clusters\n",
    "prediction_clusters = model.predict(pcs_df)\n",
    "\n",
    "prediction_clusters"
   ]
  },
  {
   "cell_type": "code",
   "execution_count": 104,
   "metadata": {},
   "outputs": [
    {
     "name": "stdout",
     "output_type": "stream",
     "text": [
      "(532, 9)\n"
     ]
    },
    {
     "data": {
      "text/html": [
       "<div>\n",
       "<style scoped>\n",
       "    .dataframe tbody tr th:only-of-type {\n",
       "        vertical-align: middle;\n",
       "    }\n",
       "\n",
       "    .dataframe tbody tr th {\n",
       "        vertical-align: top;\n",
       "    }\n",
       "\n",
       "    .dataframe thead th {\n",
       "        text-align: right;\n",
       "    }\n",
       "</style>\n",
       "<table border=\"1\" class=\"dataframe\">\n",
       "  <thead>\n",
       "    <tr style=\"text-align: right;\">\n",
       "      <th></th>\n",
       "      <th>Algorithm</th>\n",
       "      <th>ProofType</th>\n",
       "      <th>TotalCoinsMined</th>\n",
       "      <th>TotalCoinSupply</th>\n",
       "      <th>PC 1</th>\n",
       "      <th>PC 2</th>\n",
       "      <th>PC 3</th>\n",
       "      <th>CoinName</th>\n",
       "      <th>Class</th>\n",
       "    </tr>\n",
       "  </thead>\n",
       "  <tbody>\n",
       "    <tr>\n",
       "      <th>42</th>\n",
       "      <td>Scrypt</td>\n",
       "      <td>PoW/PoS</td>\n",
       "      <td>4.199995e+01</td>\n",
       "      <td>42</td>\n",
       "      <td>-0.331749</td>\n",
       "      <td>1.025058</td>\n",
       "      <td>-0.613413</td>\n",
       "      <td>42 Coin</td>\n",
       "      <td>0</td>\n",
       "    </tr>\n",
       "    <tr>\n",
       "      <th>404</th>\n",
       "      <td>Scrypt</td>\n",
       "      <td>PoW/PoS</td>\n",
       "      <td>1.055185e+09</td>\n",
       "      <td>532000000</td>\n",
       "      <td>-0.315058</td>\n",
       "      <td>1.025341</td>\n",
       "      <td>-0.613662</td>\n",
       "      <td>404Coin</td>\n",
       "      <td>0</td>\n",
       "    </tr>\n",
       "    <tr>\n",
       "      <th>1337</th>\n",
       "      <td>X13</td>\n",
       "      <td>PoW/PoS</td>\n",
       "      <td>2.927942e+10</td>\n",
       "      <td>314159265359</td>\n",
       "      <td>2.314263</td>\n",
       "      <td>1.776594</td>\n",
       "      <td>-0.596169</td>\n",
       "      <td>EliteCoin</td>\n",
       "      <td>0</td>\n",
       "    </tr>\n",
       "    <tr>\n",
       "      <th>BTC</th>\n",
       "      <td>SHA-256</td>\n",
       "      <td>PoW</td>\n",
       "      <td>1.792718e+07</td>\n",
       "      <td>21000000</td>\n",
       "      <td>-0.134570</td>\n",
       "      <td>-1.263933</td>\n",
       "      <td>0.189701</td>\n",
       "      <td>Bitcoin</td>\n",
       "      <td>3</td>\n",
       "    </tr>\n",
       "    <tr>\n",
       "      <th>ETH</th>\n",
       "      <td>Ethash</td>\n",
       "      <td>PoW</td>\n",
       "      <td>1.076842e+08</td>\n",
       "      <td>0</td>\n",
       "      <td>-0.146161</td>\n",
       "      <td>-2.073020</td>\n",
       "      <td>0.379397</td>\n",
       "      <td>Ethereum</td>\n",
       "      <td>3</td>\n",
       "    </tr>\n",
       "    <tr>\n",
       "      <th>LTC</th>\n",
       "      <td>Scrypt</td>\n",
       "      <td>PoW</td>\n",
       "      <td>6.303924e+07</td>\n",
       "      <td>84000000</td>\n",
       "      <td>-0.161474</td>\n",
       "      <td>-1.166232</td>\n",
       "      <td>-0.069621</td>\n",
       "      <td>Litecoin</td>\n",
       "      <td>3</td>\n",
       "    </tr>\n",
       "    <tr>\n",
       "      <th>DASH</th>\n",
       "      <td>X11</td>\n",
       "      <td>PoW/PoS</td>\n",
       "      <td>9.031294e+06</td>\n",
       "      <td>22000000</td>\n",
       "      <td>-0.408726</td>\n",
       "      <td>1.284677</td>\n",
       "      <td>-0.427509</td>\n",
       "      <td>Dash</td>\n",
       "      <td>0</td>\n",
       "    </tr>\n",
       "    <tr>\n",
       "      <th>XMR</th>\n",
       "      <td>CryptoNight-V7</td>\n",
       "      <td>PoW</td>\n",
       "      <td>1.720114e+07</td>\n",
       "      <td>0</td>\n",
       "      <td>-0.161716</td>\n",
       "      <td>-2.271524</td>\n",
       "      <td>0.331359</td>\n",
       "      <td>Monero</td>\n",
       "      <td>3</td>\n",
       "    </tr>\n",
       "    <tr>\n",
       "      <th>ETC</th>\n",
       "      <td>Ethash</td>\n",
       "      <td>PoW</td>\n",
       "      <td>1.133597e+08</td>\n",
       "      <td>210000000</td>\n",
       "      <td>-0.144600</td>\n",
       "      <td>-2.073102</td>\n",
       "      <td>0.379387</td>\n",
       "      <td>Ethereum Classic</td>\n",
       "      <td>3</td>\n",
       "    </tr>\n",
       "    <tr>\n",
       "      <th>ZEC</th>\n",
       "      <td>Equihash</td>\n",
       "      <td>PoW</td>\n",
       "      <td>7.383056e+06</td>\n",
       "      <td>21000000</td>\n",
       "      <td>-0.171914</td>\n",
       "      <td>-2.030051</td>\n",
       "      <td>0.450295</td>\n",
       "      <td>ZCash</td>\n",
       "      <td>3</td>\n",
       "    </tr>\n",
       "  </tbody>\n",
       "</table>\n",
       "</div>"
      ],
      "text/plain": [
       "           Algorithm ProofType  TotalCoinsMined TotalCoinSupply      PC 1  \\\n",
       "42            Scrypt   PoW/PoS     4.199995e+01              42 -0.331749   \n",
       "404           Scrypt   PoW/PoS     1.055185e+09       532000000 -0.315058   \n",
       "1337             X13   PoW/PoS     2.927942e+10    314159265359  2.314263   \n",
       "BTC          SHA-256       PoW     1.792718e+07        21000000 -0.134570   \n",
       "ETH           Ethash       PoW     1.076842e+08               0 -0.146161   \n",
       "LTC           Scrypt       PoW     6.303924e+07        84000000 -0.161474   \n",
       "DASH             X11   PoW/PoS     9.031294e+06        22000000 -0.408726   \n",
       "XMR   CryptoNight-V7       PoW     1.720114e+07               0 -0.161716   \n",
       "ETC           Ethash       PoW     1.133597e+08       210000000 -0.144600   \n",
       "ZEC         Equihash       PoW     7.383056e+06        21000000 -0.171914   \n",
       "\n",
       "          PC 2      PC 3          CoinName  Class  \n",
       "42    1.025058 -0.613413           42 Coin      0  \n",
       "404   1.025341 -0.613662           404Coin      0  \n",
       "1337  1.776594 -0.596169         EliteCoin      0  \n",
       "BTC  -1.263933  0.189701           Bitcoin      3  \n",
       "ETH  -2.073020  0.379397          Ethereum      3  \n",
       "LTC  -1.166232 -0.069621          Litecoin      3  \n",
       "DASH  1.284677 -0.427509              Dash      0  \n",
       "XMR  -2.271524  0.331359            Monero      3  \n",
       "ETC  -2.073102  0.379387  Ethereum Classic      3  \n",
       "ZEC  -2.030051  0.450295             ZCash      3  "
      ]
     },
     "execution_count": 104,
     "metadata": {},
     "output_type": "execute_result"
    }
   ],
   "source": [
    "# Create a new DataFrame including predicted clusters and cryptocurrencies features.\n",
    "# Concatentate the crypto_df and pcs_df DataFrames on the same columns.\n",
    "clustered_df = pd.concat([new_crypto_df, pcs_df], axis=1)\n",
    "\n",
    "#  Add a new column, \"CoinName\" to the clustered_df DataFrame that holds the names of the cryptocurrencies. \n",
    "clustered_df['CoinName'] = crypto_names_df \n",
    "\n",
    "#  Add a new column, \"Class\" to the clustered_df DataFrame that holds the predictions.\n",
    "clustered_df['Class'] = prediction_clusters\n",
    "\n",
    "# Print the shape of the clustered_df\n",
    "print(clustered_df.shape)\n",
    "clustered_df.head(10)"
   ]
  },
  {
   "cell_type": "markdown",
   "metadata": {},
   "source": [
    "### Deliverable 4: Visualizing Cryptocurrencies Results\n",
    "\n",
    "#### 3D-Scatter with Clusters"
   ]
  },
  {
   "cell_type": "code",
   "execution_count": 112,
   "metadata": {},
   "outputs": [
    {
     "data": {
      "application/vnd.plotly.v1+json": {
       "config": {
        "plotlyServerURL": "https://plot.ly"
       },
       "data": [
        {
         "customdata": [
          [
           "Scrypt"
          ],
          [
           "Scrypt"
          ],
          [
           "X13"
          ],
          [
           "X11"
          ],
          [
           "SHA-512"
          ],
          [
           "SHA-256"
          ],
          [
           "SHA-256"
          ],
          [
           "X15"
          ],
          [
           "Scrypt"
          ],
          [
           "Scrypt"
          ],
          [
           "Scrypt"
          ],
          [
           "Scrypt"
          ],
          [
           "Scrypt"
          ],
          [
           "Scrypt"
          ],
          [
           "Groestl"
          ],
          [
           "PoS"
          ],
          [
           "Scrypt"
          ],
          [
           "Scrypt"
          ],
          [
           "X11"
          ],
          [
           "X11"
          ],
          [
           "SHA3"
          ],
          [
           "Scrypt"
          ],
          [
           "SHA-256"
          ],
          [
           "Scrypt"
          ],
          [
           "X13"
          ],
          [
           "X13"
          ],
          [
           "NeoScrypt"
          ],
          [
           "Scrypt"
          ],
          [
           "Scrypt"
          ],
          [
           "Scrypt"
          ],
          [
           "X11"
          ],
          [
           "X11"
          ],
          [
           "Multiple"
          ],
          [
           "PHI1612"
          ],
          [
           "X11"
          ],
          [
           "Scrypt"
          ],
          [
           "Scrypt"
          ],
          [
           "Scrypt"
          ],
          [
           "X11"
          ],
          [
           "Multiple"
          ],
          [
           "X13"
          ],
          [
           "Scrypt"
          ],
          [
           "Shabal256"
          ],
          [
           "Counterparty"
          ],
          [
           "SHA-256"
          ],
          [
           "Groestl"
          ],
          [
           "Scrypt"
          ],
          [
           "X13"
          ],
          [
           "Scrypt"
          ],
          [
           "Scrypt"
          ],
          [
           "X13"
          ],
          [
           "X11"
          ],
          [
           "Scrypt"
          ],
          [
           "X11"
          ],
          [
           "SHA3"
          ],
          [
           "QUAIT"
          ],
          [
           "X11"
          ],
          [
           "Scrypt"
          ],
          [
           "X13"
          ],
          [
           "SHA-256"
          ],
          [
           "X15"
          ],
          [
           "BLAKE256"
          ],
          [
           "SHA-256"
          ],
          [
           "X11"
          ],
          [
           "SHA-256"
          ],
          [
           "NIST5"
          ],
          [
           "Scrypt"
          ],
          [
           "Scrypt"
          ],
          [
           "X11"
          ],
          [
           "Scrypt"
          ],
          [
           "SHA-256"
          ],
          [
           "Scrypt"
          ],
          [
           "PoS"
          ],
          [
           "X11"
          ],
          [
           "SHA-256"
          ],
          [
           "SHA-256"
          ],
          [
           "NIST5"
          ],
          [
           "X11"
          ],
          [
           "POS 3.0"
          ],
          [
           "Scrypt"
          ],
          [
           "Scrypt"
          ],
          [
           "Scrypt"
          ],
          [
           "X13"
          ],
          [
           "X11"
          ],
          [
           "X11"
          ],
          [
           "Scrypt"
          ],
          [
           "SHA-256"
          ],
          [
           "X11"
          ],
          [
           "Scrypt"
          ],
          [
           "Scrypt"
          ],
          [
           "Scrypt"
          ],
          [
           "Scrypt"
          ],
          [
           "SHA-256D"
          ],
          [
           "PoS"
          ],
          [
           "Scrypt"
          ],
          [
           "X11"
          ],
          [
           "PoS"
          ],
          [
           "X13"
          ],
          [
           "X14"
          ],
          [
           "PoS"
          ],
          [
           "SHA-256D"
          ],
          [
           "DPoS"
          ],
          [
           "X11"
          ],
          [
           "X13"
          ],
          [
           "X11"
          ],
          [
           "PoS"
          ],
          [
           "Scrypt"
          ],
          [
           "Scrypt"
          ],
          [
           "PoS"
          ],
          [
           "X11"
          ],
          [
           "SHA-256"
          ],
          [
           "Scrypt"
          ],
          [
           "X11"
          ],
          [
           "Scrypt"
          ],
          [
           "Scrypt"
          ],
          [
           "X11"
          ],
          [
           "Scrypt"
          ],
          [
           "Scrypt"
          ],
          [
           "Scrypt"
          ],
          [
           "Scrypt"
          ],
          [
           "Quark"
          ],
          [
           "QuBit"
          ],
          [
           "Scrypt"
          ],
          [
           "SHA-256"
          ],
          [
           "X11"
          ],
          [
           "Scrypt"
          ],
          [
           "Scrypt"
          ],
          [
           "Scrypt"
          ],
          [
           "Scrypt"
          ],
          [
           "X13"
          ],
          [
           "Scrypt"
          ],
          [
           "Scrypt"
          ],
          [
           "X11"
          ],
          [
           "Blake2S"
          ],
          [
           "X11"
          ],
          [
           "PoS"
          ],
          [
           "X11"
          ],
          [
           "PoS"
          ],
          [
           "X11"
          ],
          [
           "Scrypt"
          ],
          [
           "Scrypt"
          ],
          [
           "Scrypt"
          ],
          [
           "SHA-256"
          ],
          [
           "X11"
          ],
          [
           "Scrypt"
          ],
          [
           "PoS"
          ],
          [
           "Scrypt"
          ],
          [
           "X15"
          ],
          [
           "SHA-256"
          ],
          [
           "POS 3.0"
          ],
          [
           "536"
          ],
          [
           "NIST5"
          ],
          [
           "NIST5"
          ],
          [
           "Skein"
          ],
          [
           "X13"
          ],
          [
           "Scrypt"
          ],
          [
           "X13"
          ],
          [
           "SkunkHash v2 Raptor"
          ],
          [
           "Skein"
          ],
          [
           "X11"
          ],
          [
           "Scrypt"
          ],
          [
           "VeChainThor Authority"
          ],
          [
           "PoS"
          ],
          [
           "Scrypt"
          ],
          [
           "Scrypt"
          ],
          [
           "SHA-512"
          ],
          [
           "Ouroboros"
          ],
          [
           "X11"
          ],
          [
           "NeoScrypt"
          ],
          [
           "Scrypt"
          ],
          [
           "Lyra2REv2"
          ],
          [
           "Scrypt"
          ],
          [
           "SHA-256"
          ],
          [
           "NIST5"
          ],
          [
           "PHI1612"
          ],
          [
           "Scrypt"
          ],
          [
           "Quark"
          ],
          [
           "POS 2.0"
          ],
          [
           "Scrypt"
          ],
          [
           "SHA-256"
          ],
          [
           "X11"
          ],
          [
           "DPoS"
          ],
          [
           "NIST5"
          ],
          [
           "X13"
          ],
          [
           "Scrypt"
          ],
          [
           "NIST5"
          ],
          [
           "Quark"
          ],
          [
           "Scrypt"
          ],
          [
           "Scrypt"
          ],
          [
           "X11"
          ],
          [
           "Quark"
          ],
          [
           "Scrypt"
          ],
          [
           "Scrypt"
          ],
          [
           "X11"
          ],
          [
           "POS 3.0"
          ],
          [
           "Scrypt"
          ],
          [
           "Scrypt"
          ],
          [
           "X13"
          ],
          [
           "C11"
          ],
          [
           "X11"
          ],
          [
           "XEVAN"
          ],
          [
           "Scrypt"
          ],
          [
           "VBFT"
          ],
          [
           "NIST5"
          ],
          [
           "Scrypt"
          ],
          [
           "Scrypt"
          ],
          [
           "Scrypt"
          ],
          [
           "Green Protocol"
          ],
          [
           "PoS"
          ],
          [
           "Scrypt"
          ],
          [
           "Semux BFT consensus"
          ],
          [
           "Quark"
          ],
          [
           "PoS"
          ],
          [
           "X16R"
          ],
          [
           "Scrypt"
          ],
          [
           "XEVAN"
          ],
          [
           "Scrypt"
          ],
          [
           "Scrypt"
          ],
          [
           "Scrypt"
          ],
          [
           "SHA-256D"
          ],
          [
           "Scrypt"
          ],
          [
           "X15"
          ],
          [
           "Scrypt"
          ],
          [
           "Quark"
          ],
          [
           "SHA-256"
          ],
          [
           "DPoS"
          ],
          [
           "X16R"
          ],
          [
           "Quark"
          ],
          [
           "Quark"
          ],
          [
           "Scrypt"
          ],
          [
           "Lyra2REv2"
          ],
          [
           "Quark"
          ],
          [
           "Scrypt"
          ],
          [
           "X11"
          ],
          [
           "X11"
          ],
          [
           "Scrypt"
          ],
          [
           "PoS"
          ],
          [
           "Keccak"
          ],
          [
           "X11"
          ],
          [
           "Scrypt"
          ],
          [
           "SHA-512"
          ],
          [
           "XEVAN"
          ],
          [
           "XEVAN"
          ],
          [
           "X11"
          ],
          [
           "Quark"
          ],
          [
           "Scrypt"
          ],
          [
           "Quark"
          ],
          [
           "Quark"
          ],
          [
           "Scrypt"
          ],
          [
           "X11"
          ],
          [
           "Scrypt"
          ],
          [
           "XEVAN"
          ],
          [
           "SHA-256D"
          ],
          [
           "X11"
          ],
          [
           "X11"
          ],
          [
           "DPoS"
          ],
          [
           "Scrypt"
          ],
          [
           "X11"
          ],
          [
           "Scrypt"
          ],
          [
           "Scrypt"
          ],
          [
           "SHA-256"
          ],
          [
           "Scrypt"
          ],
          [
           "X11"
          ],
          [
           "Scrypt"
          ],
          [
           "SHA-256"
          ],
          [
           "X11"
          ],
          [
           "Scrypt"
          ],
          [
           "Scrypt"
          ],
          [
           "X11"
          ],
          [
           "Scrypt"
          ],
          [
           "PoS"
          ],
          [
           "X11"
          ],
          [
           "SHA-256"
          ],
          [
           "DPoS"
          ],
          [
           "Scrypt"
          ],
          [
           "Scrypt"
          ],
          [
           "NeoScrypt"
          ],
          [
           "X13"
          ],
          [
           "DPoS"
          ],
          [
           "DPoS"
          ],
          [
           "SHA-256"
          ],
          [
           "PoS"
          ],
          [
           "PoS"
          ],
          [
           "SHA-256"
          ],
          [
           "Scrypt"
          ],
          [
           "Scrypt"
          ]
         ],
         "hovertemplate": "<b>%{hovertext}</b><br><br>Class=%{marker.color}<br>PC 1=%{x}<br>PC 2=%{y}<br>PC 3=%{z}<br>Algorithm=%{customdata[0]}<extra></extra>",
         "hovertext": [
          "42 Coin",
          "404Coin",
          "EliteCoin",
          "Dash",
          "Bitshares",
          "BitcoinDark",
          "PayCoin",
          "KoboCoin",
          "Aurora Coin",
          "BlueCoin",
          "EnergyCoin",
          "BitBar",
          "CryptoBullion",
          "CasinoCoin",
          "Diamond",
          "Exclusive Coin",
          "FlutterCoin",
          "HoboNickels",
          "HyperStake",
          "IOCoin",
          "MaxCoin",
          "MintCoin",
          "MazaCoin",
          "Nautilus Coin",
          "NavCoin",
          "OpalCoin",
          "Orbitcoin",
          "PotCoin",
          "PhoenixCoin",
          "Reddcoin",
          "SuperCoin",
          "SyncCoin",
          "TeslaCoin",
          "TittieCoin",
          "TorCoin",
          "UnitaryStatus Dollar",
          "UltraCoin",
          "VeriCoin",
          "X11 Coin",
          "Crypti",
          "StealthCoin",
          "ZCC Coin",
          "BurstCoin",
          "StorjCoin",
          "Neutron",
          "FairCoin",
          "RubyCoin",
          "Kore",
          "Dnotes",
          "8BIT Coin",
          "Sativa Coin",
          "Ucoin",
          "Vtorrent",
          "IslaCoin",
          "Nexus",
          "Droidz",
          "Squall Coin",
          "Diggits",
          "Paycon",
          "Emercoin",
          "EverGreenCoin",
          "Decred",
          "EDRCoin",
          "Hitcoin",
          "DubaiCoin",
          "PWR Coin",
          "BillaryCoin",
          "GPU Coin",
          "EuropeCoin",
          "ZeitCoin",
          "SwingCoin",
          "SafeExchangeCoin",
          "Nebuchadnezzar",
          "Ratecoin",
          "Revenu",
          "Clockcoin",
          "VIP Tokens",
          "BitSend",
          "Let it Ride",
          "PutinCoin",
          "iBankCoin",
          "Frankywillcoin",
          "MudraCoin",
          "Lutetium Coin",
          "GoldBlocks",
          "CarterCoin",
          "BitTokens",
          "MustangCoin",
          "ZoneCoin",
          "RootCoin",
          "BitCurrency",
          "Swiscoin",
          "BuzzCoin",
          "Opair",
          "PesoBit",
          "Halloween Coin",
          "CoffeeCoin",
          "RoyalCoin",
          "GanjaCoin V2",
          "TeamUP",
          "LanaCoin",
          "ARK",
          "InsaneCoin",
          "EmberCoin",
          "XenixCoin",
          "FreeCoin",
          "PLNCoin",
          "AquariusCoin",
          "Creatio",
          "Eternity",
          "Eurocoin",
          "BitcoinFast",
          "Stakenet",
          "BitConnect Coin",
          "MoneyCoin",
          "Enigma",
          "Russiacoin",
          "PandaCoin",
          "GameUnits",
          "GAKHcoin",
          "Allsafe",
          "LiteCreed",
          "Klingon Empire Darsek",
          "Internet of People",
          "KushCoin",
          "Printerium",
          "Impeach",
          "Zilbercoin",
          "FirstCoin",
          "FindCoin",
          "OpenChat",
          "RenosCoin",
          "VirtacoinPlus",
          "TajCoin",
          "Impact",
          "Atmos",
          "HappyCoin",
          "MacronCoin",
          "Condensate",
          "Independent Money System",
          "ArgusCoin",
          "LomoCoin",
          "ProCurrency",
          "GoldReserve",
          "GrowthCoin",
          "Phreak",
          "Degas Coin",
          "HTML5 Coin",
          "Ultimate Secure Cash",
          "QTUM",
          "Espers",
          "Denarius",
          "Virta Unique Coin",
          "Bitcoin Planet",
          "BritCoin",
          "Linda",
          "DeepOnion",
          "Signatum",
          "Cream",
          "Monoeci",
          "Draftcoin",
          "Vechain",
          "Stakecoin",
          "CoinonatX",
          "Ethereum Dark",
          "Obsidian",
          "Cardano",
          "Regalcoin",
          "TrezarCoin",
          "TerraNovaCoin",
          "Rupee",
          "WomenCoin",
          "Theresa May Coin",
          "NamoCoin",
          "LUXCoin",
          "Xios",
          "Bitcloud 2.0",
          "KekCoin",
          "BlackholeCoin",
          "Infinity Economics",
          "Magnet",
          "Lamden Tau",
          "Electra",
          "Bitcoin Diamond",
          "Cash & Back Coin",
          "Bulwark",
          "Kalkulus",
          "GermanCoin",
          "LiteCoin Ultra",
          "PhantomX",
          "Digiwage",
          "Trollcoin",
          "Litecoin Plus",
          "Monkey Project",
          "TokenPay",
          "My Big Coin",
          "Unified Society USDEX",
          "Tokyo Coin",
          "Stipend",
          "Pushi",
          "Ellerium",
          "Velox",
          "Ontology",
          "Bitspace",
          "Briacoin",
          "Ignition",
          "MedicCoin",
          "Bitcoin Green",
          "Deviant Coin",
          "Abjcoin",
          "Semux",
          "Carebit",
          "Zealium",
          "Proton",
          "iDealCash",
          "Bitcoin Incognito",
          "HollyWoodCoin",
          "Swisscoin",
          "Xt3ch",
          "TheVig",
          "EmaratCoin",
          "Dekado",
          "Lynx",
          "Poseidon Quark",
          "BitcoinWSpectrum",
          "Muse",
          "Trivechain",
          "Dystem",
          "Giant",
          "Peony Coin",
          "Absolute Coin",
          "Vitae",
          "TPCash",
          "ARENON",
          "EUNO",
          "MMOCoin",
          "Ketan",
          "XDNA",
          "PAXEX",
          "ThunderStake",
          "Kcash",
          "Bettex coin",
          "BitMoney",
          "Junson Ming Chan Coin",
          "HerbCoin",
          "Oduwa",
          "Galilel",
          "Crypto Sports",
          "Credit",
          "Dash Platinum",
          "Nasdacoin",
          "Beetle Coin",
          "Titan Coin",
          "Award",
          "Insane Coin",
          "ALAX",
          "LiteDoge",
          "TruckCoin",
          "OrangeCoin",
          "BitstarCoin",
          "NeosCoin",
          "HyperCoin",
          "PinkCoin",
          "AudioCoin",
          "IncaKoin",
          "Piggy Coin",
          "Genstake",
          "XiaoMiCoin",
          "CapriCoin",
          " ClubCoin",
          "Radium",
          "Creditbit ",
          "OKCash",
          "Lisk",
          "HiCoin",
          "WhiteCoin",
          "FriendshipCoin",
          "Triangles Coin",
          "EOS",
          "Oxycoin",
          "TigerCash",
          "Particl",
          "Nxt",
          "ZEPHYR",
          "Gapcoin",
          "BitcoinPlus"
         ],
         "legendgroup": "0",
         "marker": {
          "color": [
           0,
           0,
           0,
           0,
           0,
           0,
           0,
           0,
           0,
           0,
           0,
           0,
           0,
           0,
           0,
           0,
           0,
           0,
           0,
           0,
           0,
           0,
           0,
           0,
           0,
           0,
           0,
           0,
           0,
           0,
           0,
           0,
           0,
           0,
           0,
           0,
           0,
           0,
           0,
           0,
           0,
           0,
           0,
           0,
           0,
           0,
           0,
           0,
           0,
           0,
           0,
           0,
           0,
           0,
           0,
           0,
           0,
           0,
           0,
           0,
           0,
           0,
           0,
           0,
           0,
           0,
           0,
           0,
           0,
           0,
           0,
           0,
           0,
           0,
           0,
           0,
           0,
           0,
           0,
           0,
           0,
           0,
           0,
           0,
           0,
           0,
           0,
           0,
           0,
           0,
           0,
           0,
           0,
           0,
           0,
           0,
           0,
           0,
           0,
           0,
           0,
           0,
           0,
           0,
           0,
           0,
           0,
           0,
           0,
           0,
           0,
           0,
           0,
           0,
           0,
           0,
           0,
           0,
           0,
           0,
           0,
           0,
           0,
           0,
           0,
           0,
           0,
           0,
           0,
           0,
           0,
           0,
           0,
           0,
           0,
           0,
           0,
           0,
           0,
           0,
           0,
           0,
           0,
           0,
           0,
           0,
           0,
           0,
           0,
           0,
           0,
           0,
           0,
           0,
           0,
           0,
           0,
           0,
           0,
           0,
           0,
           0,
           0,
           0,
           0,
           0,
           0,
           0,
           0,
           0,
           0,
           0,
           0,
           0,
           0,
           0,
           0,
           0,
           0,
           0,
           0,
           0,
           0,
           0,
           0,
           0,
           0,
           0,
           0,
           0,
           0,
           0,
           0,
           0,
           0,
           0,
           0,
           0,
           0,
           0,
           0,
           0,
           0,
           0,
           0,
           0,
           0,
           0,
           0,
           0,
           0,
           0,
           0,
           0,
           0,
           0,
           0,
           0,
           0,
           0,
           0,
           0,
           0,
           0,
           0,
           0,
           0,
           0,
           0,
           0,
           0,
           0,
           0,
           0,
           0,
           0,
           0,
           0,
           0,
           0,
           0,
           0,
           0,
           0,
           0,
           0,
           0,
           0,
           0,
           0,
           0,
           0,
           0,
           0,
           0,
           0,
           0,
           0,
           0,
           0,
           0,
           0,
           0,
           0,
           0,
           0,
           0,
           0,
           0,
           0,
           0,
           0,
           0,
           0,
           0,
           0,
           0,
           0,
           0,
           0,
           0,
           0,
           0,
           0,
           0,
           0
          ],
          "coloraxis": "coloraxis",
          "symbol": "circle"
         },
         "mode": "markers",
         "name": "0",
         "scene": "scene",
         "showlegend": true,
         "type": "scatter3d",
         "x": [
          -0.33174932426490417,
          -0.3150584867139696,
          2.314262506438578,
          -0.4087260916447199,
          -0.3281649299708349,
          -0.3036739571540579,
          -0.25237831758330476,
          -0.24410910286432203,
          -0.33140829611464573,
          -0.32397408556460405,
          -0.33024349132768216,
          -0.3317452521107225,
          -0.33172950622860536,
          0.6822610021132368,
          -0.35857599469859885,
          -0.3165548341155635,
          -0.3107594128557661,
          -0.32980455954975896,
          -0.337221887367271,
          -0.40862061936568383,
          -0.5492878652975691,
          -0.019958277624367075,
          -0.266912865932098,
          -0.28020428156145266,
          -0.27495743409681983,
          -0.27558063797520044,
          -0.3505343466291864,
          -0.326040940111625,
          -0.330148154555151,
          0.02696484382183243,
          -0.3571402938313907,
          -0.4089928656426983,
          -0.238931744696955,
          -0.31151246146683226,
          -0.40890432756410494,
          -0.3069359644715923,
          -0.3304242415851763,
          -0.2646169052598583,
          -0.4088687632099126,
          -0.23940059596205093,
          -0.2753611509860675,
          -0.32283456948946543,
          0.035552024114164055,
          -0.35527032949603243,
          -0.30288424365062316,
          -0.35799664865866654,
          -0.2801845684172434,
          -0.2756561015252829,
          -0.2748282321972681,
          -0.3317313641296416,
          -0.27560821781049905,
          -0.3575857767575677,
          -0.33146524813678785,
          -0.4089743650076026,
          -0.737578499132812,
          -0.39727939354583397,
          -0.427771918716524,
          -0.2785831855464319,
          -0.27512894444723,
          -0.29621521903965026,
          -0.2465556324214955,
          -0.06670753743544469,
          -0.3036448245981638,
          -0.0858300021903245,
          -0.3037086627646495,
          -0.24219749026602416,
          -0.331340849835487,
          -0.27845158045473595,
          -0.40613764220953785,
          0.8751603626260414,
          -0.30350829852358613,
          -0.049814405295020125,
          -0.31623752860051785,
          -0.40681363942709026,
          -0.30224916849232963,
          -0.29991257395458165,
          -0.3637498462330091,
          -0.4077070291563454,
          -0.35089322022788805,
          -0.30759227635292247,
          -0.3313789999440973,
          -0.3298153045391116,
          -0.22305201490357277,
          -0.34505425322084815,
          -0.4084472477713259,
          -0.3305817877359998,
          -0.30368954611266985,
          -0.408963528404511,
          -0.33156854936396135,
          -0.33172558800718005,
          -0.2784419459937249,
          -0.23918409627667672,
          0.05561192270950126,
          -0.3151927438397591,
          -0.3313391280105662,
          -0.3950983480340394,
          -0.31452043329198903,
          -0.22448562394052074,
          -0.40617611060574466,
          -0.31426802335930365,
          -0.259462302013958,
          3.6668101338221186,
          -0.40855532186210974,
          0.8583715543879475,
          -0.4089183630174613,
          -0.3156573224390931,
          -0.3312664271603719,
          -0.33142098741435944,
          -0.31623752860051785,
          -0.40849238499590595,
          -0.30355200314495023,
          -0.33126718429420504,
          -0.41899787615282613,
          -0.3314148287377619,
          -0.32699354915441364,
          -0.40894739907653777,
          -0.3306238489714455,
          0.36421346294949886,
          -0.3316144778760217,
          -0.3316851970369345,
          -0.3419209401243329,
          -0.34384504761013907,
          -0.32790412643742667,
          -0.30366592210028237,
          -0.4088571908215901,
          -0.3314625927855716,
          -0.3315897418537754,
          -0.28009072947492186,
          -0.2629136196092953,
          -0.22425306324135688,
          -0.31240911969636975,
          -0.2798315209464462,
          -0.40812143354348146,
          -0.42312131182648,
          -0.40685775093995513,
          -0.31448095132691894,
          -0.40801915551070905,
          -0.3088708578621736,
          -0.4039522007099822,
          -0.33153294034056824,
          -0.33153210223469054,
          -0.32463930476311564,
          0.2814090754931273,
          -0.40849861682540034,
          -0.2626980347026816,
          -0.3162718413845132,
          -0.3307420630374615,
          0.8899592770717757,
          -0.2510659548672453,
          -0.34966937701222145,
          0.579425419015413,
          -0.36528824054581693,
          -0.3637876752880444,
          -0.4097431183200903,
          -0.275292735957376,
          0.13412230065685835,
          -0.27536366169043264,
          -0.31715100108131367,
          -0.40924721226974503,
          -0.40877154711809255,
          -0.28016518657098327,
          4.409027314191225,
          -0.31613778737068915,
          -0.33116745526652075,
          -0.33166809621459453,
          -0.38633458664888715,
          0.680842337270058,
          -0.40871221683685527,
          -0.34552415707097855,
          -0.33162359864053864,
          -0.2846802142834464,
          0.4388130277332045,
          -0.3020092621913317,
          -0.3500264177344927,
          -0.3984069681746702,
          -0.3315738388975892,
          -0.3915917400287902,
          -0.3173238175425675,
          -0.3314440535494562,
          -0.07855204661013612,
          -0.4075025156484274,
          3.6716752671625663,
          0.1952073561003405,
          -0.2720284984112827,
          -0.32889955767865714,
          -0.3138192137602738,
          -0.34180664338929795,
          0.08354438959979468,
          -0.33058071739310657,
          -0.4080849266591312,
          -0.34096968189144783,
          -0.3181238795774984,
          -0.3316902638156556,
          -0.35755765773880593,
          -0.3511756182349465,
          -0.3142264345959358,
          -0.3272275696576921,
          -0.21603284764502187,
          -0.3728499718364613,
          -0.40878876340494685,
          -0.33371489300708385,
          -0.27932343978235336,
          -0.34945543548407965,
          -0.3648864143843536,
          -0.33171766589000806,
          -0.33169934037770493,
          -0.27369451958635826,
          -0.36539637251565554,
          -0.31573150076772055,
          -0.33141530718934903,
          3.868786235897325,
          -0.3902576397989073,
          -0.3159205003678345,
          -0.3277169429615733,
          -0.27818178743256267,
          -0.3526466988961336,
          -0.2798588763710425,
          -0.134479230192787,
          -0.2801112713956212,
          -0.32490875907475025,
          -0.330888301225994,
          -0.19466597803480995,
          2.240724457715038,
          -0.3375054238659966,
          -0.251194249082674,
          0.9931756550236073,
          -0.3782844185694917,
          -0.3419203530687252,
          -0.39327929143412793,
          -0.1605905872017125,
          -0.33584040138591126,
          -0.3406375518215662,
          -0.3245793003488528,
          -0.35713426597061876,
          -0.4082611672127924,
          -0.277351560158449,
          -0.31501838364363605,
          -0.3616122249871089,
          -0.3569952578111096,
          -0.1909091666270222,
          -0.4919212351802182,
          -0.2824758906688607,
          0.49222261168118514,
          -0.14717492305148103,
          -0.39257261497703116,
          -0.33141932055657186,
          -0.3930295902154823,
          -0.34203754454494056,
          0.5768152911569383,
          -0.3576120642575109,
          -0.33090118374633354,
          -0.3281600389801519,
          -0.2795382039283016,
          -0.4058205615749758,
          -0.40848884022406295,
          3.683938357923953,
          0.1043337979002621,
          -0.4060246768442893,
          -0.3302852630047713,
          -0.33111211423136855,
          -0.2524109679660619,
          -0.3316314747937218,
          -0.40010158080780317,
          -0.2451578117705681,
          -0.0829803571883756,
          -0.39584130633389275,
          -0.3309085883516555,
          -0.3239604252212553,
          -0.40505132053117276,
          -0.32934475203436414,
          -0.316513639667107,
          -0.45106254588294814,
          -0.3021863452069436,
          3.6672027021456297,
          -0.0870493908391586,
          -0.32653453793228027,
          -0.35015939879166164,
          -0.2757635207773018,
          3.6770858447752723,
          3.6783319624893527,
          -0.2332736895343667,
          -0.31644940533636595,
          -0.22440117240951662,
          2.457840103443217,
          -0.329790648728461,
          -0.28050853193431363
         ],
         "y": [
          1.0250580809617769,
          1.0253412708817504,
          1.776594480116027,
          1.2846769369397673,
          1.6261473329975473,
          0.9273445918420258,
          0.6592682889075361,
          1.9132187569896282,
          1.0250598481251816,
          1.025358854753524,
          1.025116331940191,
          1.025057897847691,
          1.0250581662861156,
          0.2138910142503201,
          1.0478823603004856,
          1.6274878422668522,
          -0.019238982582739043,
          1.02505155104395,
          1.0173908895428718,
          1.2846810169809713,
          1.7084689219289448,
          0.7670521900583308,
          0.9271333421223006,
          0.7569739291412013,
          1.8904823325149143,
          1.8904582247822872,
          0.5578347415664281,
          1.024992740340963,
          1.025053248966676,
          1.038934415130238,
          1.0166203750546834,
          1.2846816058897281,
          0.06858583888362949,
          1.5490743629238213,
          1.2846782181764727,
          1.0249278118510443,
          1.0250412062706058,
          0.17697788167383413,
          1.2846826599440508,
          0.06863583566624235,
          1.890466715316176,
          1.0247215991737209,
          0.34099177135306785,
          1.3087506527871335,
          0.9273437992960875,
          1.0479077557087333,
          0.7569857157334573,
          1.8904471295518162,
          0.7568522497357424,
          1.0250587757520213,
          1.8904503445356415,
          1.016589515475827,
          1.0250554433389492,
          1.2846823222411359,
          1.3618028961352007,
          2.2075778549348004,
          0.6570869318564103,
          0.7569795292833681,
          1.8904416310824674,
          0.9269667755396248,
          1.9133446664208555,
          1.0841617555482175,
          0.9273457187924388,
          1.2790932170115896,
          0.9273510846712317,
          1.59908232736744,
          1.0250452661115876,
          0.756902142706558,
          1.284530423662107,
          0.7342262749200936,
          0.9273387360546747,
          0.21136203112199353,
          1.627486490045748,
          1.28471480654996,
          0.9272629465243494,
          0.9271473834058539,
          1.5943189316031048,
          1.284636641561795,
          1.3564325381262752,
          1.0246298889451027,
          1.025042200546309,
          1.0250647621116433,
          1.6222868781031194,
          1.0166402680838913,
          1.2846686461974102,
          1.0250419251886234,
          0.9273446701420063,
          1.2846806974310236,
          1.0250507659456216,
          1.02505899919289,
          0.7570531265389945,
          0.18861848675716134,
          2.115797708474908,
          1.6274901138704172,
          1.0250739488339182,
          1.2841970915647198,
          1.6275392867196623,
          1.6223659848240553,
          2.121008966200882,
          1.6273712220389398,
          2.112122135050215,
          1.6347073090901123,
          1.2846780922308416,
          1.9337443749455727,
          1.2846818631857793,
          1.6274884943915486,
          1.025050502467067,
          1.0250421661062894,
          1.627486490045748,
          1.2846600867687799,
          0.9273506721270994,
          1.025054247780423,
          0.7471867210552195,
          1.0250519430510556,
          1.0247987331800377,
          1.2846799586983475,
          1.0250035059619056,
          0.7597597266890358,
          1.0250544399569244,
          1.0250583024918998,
          1.474945910901485,
          0.6647650415428282,
          1.0248661588090924,
          0.927345584002452,
          1.28468048173569,
          1.025055546057336,
          1.0250493102316152,
          0.7569518722707085,
          0.16298322589488332,
          1.6223667882144563,
          1.0251248924856597,
          0.7569759168950242,
          1.2846471830405541,
          2.0132143939124,
          1.2846892533970833,
          1.6274929228177186,
          1.2846511395170028,
          1.6275125512368613,
          1.2845359292902434,
          1.0250519989030349,
          1.0250469976952996,
          1.0246517856232145,
          0.6288253847571569,
          1.284673472421477,
          0.756299484580364,
          1.6274783493448068,
          1.0250255051310224,
          1.8960067563451517,
          0.6591912478575834,
          1.3564345718647772,
          1.999103062959876,
          1.5943139279517178,
          1.5942970281584228,
          2.055091661311128,
          1.8904489217688367,
          1.0090128401619893,
          1.8904537421758594,
          1.4673731552635725,
          2.055110844713036,
          1.28468369030832,
          0.7569746062299355,
          2.958667851891507,
          1.6274620048319166,
          1.0250477139141883,
          1.0250583615673865,
          1.6262880567755489,
          1.454938263806164,
          1.2846740669859806,
          0.5577585876369324,
          1.0250522248150222,
          0.7710469748492719,
          1.0378327587282452,
          0.9273558439219435,
          1.5940935193417665,
          1.8173062411793584,
          1.0250505613277319,
          1.742965493902516,
          1.4314384778042775,
          1.0250598141563234,
          0.6598689963788554,
          1.2846411461879312,
          1.6346400086378303,
          1.5955626126773637,
          1.890452553537638,
          1.025025239472042,
          1.326225788922979,
          1.4749469256234116,
          1.0070563074784147,
          1.025001086427496,
          1.2846826620609189,
          1.4749111686479885,
          1.0249719589485384,
          1.025057640313307,
          1.0165899218829393,
          1.3564274053282794,
          0.09412368028277175,
          1.0250749284946703,
          1.6221496026880167,
          1.0213682437257137,
          1.284672468565888,
          1.3617809174273974,
          0.7569345415621535,
          1.2699236829384137,
          1.594302218566557,
          1.0250572616401434,
          1.0250566078636527,
          0.7568961057537285,
          1.3794587870216068,
          1.6274597341394899,
          1.0250505618706613,
          1.62644424512057,
          1.7430171016231273,
          1.6274578736545267,
          0.5819577032200386,
          1.0236404927346365,
          0.7342069058007478,
          0.756980599916495,
          1.0257395585311644,
          0.7569585723335417,
          2.1146364094908185,
          1.0250341561781198,
          1.6452414669177813,
          0.12236552369909078,
          1.4746840702834374,
          0.659254297311474,
          1.5270201646472565,
          0.8500430649784281,
          1.4749418455942962,
          1.7430329710959898,
          0.7501110810734941,
          1.0391155721790086,
          1.474937643337008,
          1.024654106806419,
          1.016583134748383,
          1.2846758444522794,
          0.7569181591388429,
          1.6274041970310684,
          0.9840383228634696,
          1.0165578519518512,
          1.018242227234018,
          1.9869586575512634,
          1.0937027642322632,
          0.7291154990839823,
          1.024742579031955,
          1.7430270252565472,
          1.0250565386442736,
          1.7430331700722408,
          1.4749425108074656,
          1.009240637311954,
          1.016588702983081,
          1.0250336578366193,
          1.3616960109671377,
          2.113052956337772,
          1.2845181613642878,
          1.2846806639759965,
          1.6347737203608885,
          1.0180805568466482,
          1.2847964266234098,
          1.0249784488445512,
          1.0250457638783756,
          0.6592612345183051,
          1.025062639825218,
          1.2846848849021535,
          1.0212537182813217,
          0.9357673372460276,
          1.2845090193552162,
          1.0250803835909144,
          1.0250868487454385,
          1.2846923615839776,
          1.025042084582857,
          1.6274833037891114,
          0.7063683751257582,
          0.9273455870434106,
          1.6346987038565075,
          0.7576374872457248,
          1.0250554065611126,
          0.5578108197844266,
          1.8904510684676272,
          1.6351899769855758,
          1.6352381812309518,
          0.6593345041701071,
          1.6274860378740863,
          2.2659816992079054,
          0.7670893215039346,
          1.0249635154712489,
          0.756972502341446
         ],
         "z": [
          -0.6134131763466592,
          -0.6136619188479092,
          -0.5961691297056626,
          -0.4275094855129269,
          -0.02899379308938745,
          -0.3541048834886275,
          -0.0009453221731323458,
          -0.6287346408801077,
          -0.6134177626247469,
          -0.613549890882699,
          -0.613439653896925,
          -0.6134132059053069,
          -0.6134134407233489,
          -0.3475731088067397,
          -0.4774149824635557,
          0.027758284920260907,
          -0.5476714680484257,
          -0.6134372805231609,
          -0.07470630908771414,
          -0.4275113400660626,
          -1.0219827782564825,
          -0.2648331909941105,
          -0.3545496760287136,
          -0.2602558408423781,
          -0.5770608779012978,
          -0.5770499199062866,
          -0.3206951674839119,
          -0.6134782293265848,
          -0.6134330890442808,
          -0.6197205633879219,
          -0.07435607731567642,
          -0.42750664471852895,
          0.20763045207786143,
          -0.14852092949416915,
          -0.4275073606585009,
          -0.6137149276279352,
          -0.6134280663293409,
          -0.6504051923902938,
          -0.4275083644200086,
          0.20763028666359015,
          -0.577053779216884,
          -0.6134858335873048,
          -0.10654599074319927,
          0.16322202968785587,
          -0.35411490096251236,
          -0.47742553762276535,
          -0.26025754810222856,
          -0.5770475838810265,
          -0.26030968340418453,
          -0.6134134921490497,
          -0.5770485940233928,
          -0.07434656237006057,
          -0.6134164894769853,
          -0.4275069701052632,
          -1.4149286822181466,
          -0.6120283917725323,
          -0.07947614974928419,
          -0.26027729635684776,
          -0.5770536574907066,
          -0.35415378917771395,
          -0.6287188440839602,
          -0.49565417161838876,
          -0.35410539573576366,
          -0.430956232060224,
          -0.354105240327077,
          -0.46523535780198944,
          -0.6134168267494436,
          -0.2602694306389333,
          -0.4275245571087366,
          -0.27224706738598436,
          -0.3541062826298736,
          -0.33788395152172956,
          0.027754387510428857,
          -0.427538655807707,
          -0.354113056284817,
          -0.3541287219353282,
          -0.46309049504095956,
          -0.4275175650460775,
          -0.055415317889738865,
          -0.613669749974432,
          -0.6134159597249874,
          -0.613438773466033,
          -0.2238944208920385,
          -0.07451334046020212,
          -0.4275120338890988,
          -0.6134261370822477,
          -0.3541046934767091,
          -0.42750690836743066,
          -0.6134145890043797,
          -0.6134135937124757,
          -0.2602881891949524,
          -0.3952654776036095,
          -0.7459259041636962,
          0.027740557786465905,
          -0.6134203889633749,
          -0.42762481593024565,
          0.02772587713612146,
          -0.22388582179149313,
          -0.9858637433319157,
          0.02774338741449102,
          -0.7414365199586004,
          -0.14977818615681182,
          -0.42751181546295536,
          -0.5969170877224641,
          -0.42750763076554427,
          0.027746708371391763,
          -0.6134184263118296,
          -0.6134154176645199,
          0.027754387510428857,
          -0.42751039928896073,
          -0.3541071960328943,
          -0.6134188788784112,
          -0.12215569177013175,
          -0.6134167032673616,
          -0.6134420822382357,
          -0.42750702378706334,
          -0.6134208564421434,
          -0.26885390466012277,
          -0.6134144541787188,
          -0.6134140250827346,
          -0.14746884211496813,
          -0.41253439198129566,
          -0.6134387408178825,
          -0.3541051088653465,
          -0.42750824380364216,
          -0.6134165361668831,
          -0.6134141378824939,
          -0.2602545729450541,
          -0.3603429477694076,
          -0.22388889977663393,
          -0.613669147637146,
          -0.2602608608020464,
          -0.4275135580971414,
          -0.6897249948854647,
          -0.42753493689862737,
          0.027731093874489354,
          -0.42751535648481465,
          0.027656812594611377,
          -0.4275532295544124,
          -0.6134151972912797,
          -0.6134145907533357,
          -0.6134541003442824,
          -0.004025096340058909,
          -0.42751197158817983,
          -0.2603968319215847,
          0.027755831780933507,
          -0.6134220575032564,
          -0.6411363244873116,
          -0.0009526232070912887,
          -0.055431244884147704,
          -0.6707471175111922,
          -0.46307017245900406,
          -0.463087307067237,
          -0.7113587516185843,
          -0.5770524593671889,
          -0.6174000588267414,
          -0.5770521458504305,
          -0.019577251532006196,
          -0.7113674712947841,
          -0.427509736815396,
          -0.2602564251724004,
          4.306628060055988,
          0.02775613202625524,
          -0.613419349847857,
          -0.6134142514153745,
          -0.028266077556758053,
          -0.10005775226575418,
          -0.4275093090092801,
          -0.32074994278832814,
          -0.6134140639490825,
          -0.008387745928353528,
          -0.6248598786199532,
          -0.3541275950432389,
          -0.46323845442556005,
          -0.5012437133804268,
          -0.6134144959968019,
          -0.5006422150535176,
          0.06374043395898886,
          -0.6134173004218005,
          -0.0032459728220026137,
          -0.4275207406042474,
          -0.14983219620174687,
          -0.4704035752092744,
          -0.5770947186305023,
          -0.6134456250235624,
          -0.10991137116054854,
          -0.1474704313624914,
          -0.6165107310862225,
          -0.6134211102759648,
          -0.4275184046981992,
          -0.1474767385492965,
          -0.613577072546443,
          -0.6134138784540428,
          -0.07434697270207181,
          -0.05541106719148418,
          -0.52490603587657,
          -0.6134731740657418,
          -0.22396738491158777,
          -0.7187230157116834,
          -0.4275081312538073,
          -0.6667115099099562,
          -0.26026226197701985,
          0.13394477501495655,
          -0.46307387414716245,
          -0.6134134807282965,
          -0.6134136347641471,
          -0.2603296178390711,
          -0.013726908354637204,
          0.02775120823632429,
          -0.6134165266670439,
          -0.3930097330306979,
          -0.500665672968609,
          0.027753858727120273,
          0.08929608519543562,
          -0.6139243474352766,
          -0.31868160861175077,
          -0.26026108841249895,
          -0.6160240836085235,
          -0.2602551367813489,
          -0.7409085522666935,
          -0.6134212521192343,
          -0.2755635716902888,
          -0.5914840882410607,
          -0.14749308201621758,
          -0.0009587617768124271,
          -0.07148545438287321,
          -0.2638739211206973,
          -0.14746834787470947,
          -0.5006289278801481,
          -0.2609409047750026,
          -0.3615480911666171,
          -0.1474842603750416,
          -0.613455155421272,
          -0.07435155814790273,
          -0.4275153058036405,
          -0.26028549741979246,
          0.027748928708167624,
          -0.5592066798903138,
          -0.07435021815340334,
          -0.614375926375483,
          -0.024004811848044916,
          -0.31355099477060216,
          -0.9556715145786449,
          -0.07804796622291624,
          -0.5006372457036736,
          -0.6134172129426826,
          -0.500632150815324,
          -0.14746692889464413,
          -0.6230985470069688,
          -0.0743461253765937,
          -0.6134210256017195,
          -0.666772181441076,
          -0.7412942578920214,
          -0.42752710506403113,
          -0.42751298443106256,
          -0.1500057751988317,
          -0.6181376845817647,
          -0.42755883542462253,
          -0.6134221006571466,
          -0.6134198180181172,
          -0.0009440332738271884,
          -0.6134152485354948,
          -0.4276209362474258,
          -0.614052758240824,
          -0.35797128255942007,
          -0.42765379914180857,
          -0.6134266978745916,
          -0.6135164935671403,
          -0.4275584587578609,
          -0.6134420017161865,
          0.02775831742894293,
          0.26044527674908324,
          -0.35412406086652715,
          -0.1497821523923408,
          -0.2628118255217752,
          -0.6134796414896693,
          -0.3206970175799149,
          -0.5770466941276755,
          -0.14996937902209168,
          -0.14999128991220148,
          -0.0011982024142609847,
          0.027757157209418078,
          0.19100665384040488,
          -0.07972317599308935,
          -0.6134265929309428,
          -0.2602517676533331
         ]
        },
        {
         "customdata": [
          [
           "SHA-256"
          ],
          [
           "Ethash"
          ],
          [
           "Scrypt"
          ],
          [
           "CryptoNight-V7"
          ],
          [
           "Ethash"
          ],
          [
           "Equihash"
          ],
          [
           "Multiple"
          ],
          [
           "Scrypt"
          ],
          [
           "X11"
          ],
          [
           "Scrypt"
          ],
          [
           "Multiple"
          ],
          [
           "Scrypt"
          ],
          [
           "SHA-256"
          ],
          [
           "Scrypt"
          ],
          [
           "Scrypt"
          ],
          [
           "Quark"
          ],
          [
           "Groestl"
          ],
          [
           "Scrypt"
          ],
          [
           "Scrypt"
          ],
          [
           "Scrypt"
          ],
          [
           "X11"
          ],
          [
           "Multiple"
          ],
          [
           "SHA-256"
          ],
          [
           "Scrypt"
          ],
          [
           "Scrypt"
          ],
          [
           "Scrypt"
          ],
          [
           "Scrypt"
          ],
          [
           "Scrypt"
          ],
          [
           "NeoScrypt"
          ],
          [
           "Scrypt"
          ],
          [
           "Scrypt"
          ],
          [
           "Scrypt"
          ],
          [
           "Scrypt"
          ],
          [
           "SHA-256"
          ],
          [
           "Scrypt"
          ],
          [
           "Scrypt"
          ],
          [
           "Scrypt"
          ],
          [
           "Scrypt"
          ],
          [
           "HybridScryptHash256"
          ],
          [
           "Scrypt"
          ],
          [
           "Scrypt"
          ],
          [
           "SHA-256"
          ],
          [
           "Scrypt"
          ],
          [
           "Scrypt"
          ],
          [
           "Scrypt"
          ],
          [
           "Scrypt"
          ],
          [
           "SHA-256"
          ],
          [
           "SHA-256"
          ],
          [
           "SHA-256"
          ],
          [
           "SHA-256"
          ],
          [
           "SHA-256"
          ],
          [
           "X11"
          ],
          [
           "Scrypt"
          ],
          [
           "Lyra2REv2"
          ],
          [
           "Scrypt"
          ],
          [
           "SHA-256"
          ],
          [
           "CryptoNight"
          ],
          [
           "CryptoNight"
          ],
          [
           "Scrypt"
          ],
          [
           "Scrypt"
          ],
          [
           "Scrypt"
          ],
          [
           "Scrypt"
          ],
          [
           "Scrypt"
          ],
          [
           "Scrypt"
          ],
          [
           "Stanford Folding"
          ],
          [
           "Multiple"
          ],
          [
           "QuBit"
          ],
          [
           "Scrypt"
          ],
          [
           "Scrypt"
          ],
          [
           "M7 POW"
          ],
          [
           "Scrypt"
          ],
          [
           "SHA-256"
          ],
          [
           "Scrypt"
          ],
          [
           "X11"
          ],
          [
           "Lyra2RE"
          ],
          [
           "SHA-256"
          ],
          [
           "X11"
          ],
          [
           "Scrypt"
          ],
          [
           "Scrypt"
          ],
          [
           "Ethash"
          ],
          [
           "Blake2b"
          ],
          [
           "X11"
          ],
          [
           "SHA-256"
          ],
          [
           "Scrypt"
          ],
          [
           "1GB AES Pattern Search"
          ],
          [
           "Scrypt"
          ],
          [
           "SHA-256"
          ],
          [
           "X11"
          ],
          [
           "Dagger"
          ],
          [
           "Scrypt"
          ],
          [
           "X11GOST"
          ],
          [
           "Scrypt"
          ],
          [
           "X11"
          ],
          [
           "Scrypt"
          ],
          [
           "X11"
          ],
          [
           "Equihash"
          ],
          [
           "CryptoNight"
          ],
          [
           "SHA-256"
          ],
          [
           "Multiple"
          ],
          [
           "Scrypt"
          ],
          [
           "SHA-256"
          ],
          [
           "Scrypt"
          ],
          [
           "Lyra2Z"
          ],
          [
           "Ethash"
          ],
          [
           "Equihash"
          ],
          [
           "Scrypt"
          ],
          [
           "X11"
          ],
          [
           "X11"
          ],
          [
           "CryptoNight"
          ],
          [
           "Scrypt"
          ],
          [
           "CryptoNight"
          ],
          [
           "Lyra2RE"
          ],
          [
           "X11"
          ],
          [
           "CryptoNight-V7"
          ],
          [
           "Scrypt"
          ],
          [
           "X11"
          ],
          [
           "Equihash"
          ],
          [
           "Scrypt"
          ],
          [
           "Lyra2RE"
          ],
          [
           "Dagger-Hashimoto"
          ],
          [
           "Scrypt"
          ],
          [
           "NIST5"
          ],
          [
           "Scrypt"
          ],
          [
           "SHA-256"
          ],
          [
           "Scrypt"
          ],
          [
           "CryptoNight-V7"
          ],
          [
           "Argon2d"
          ],
          [
           "Blake2b"
          ],
          [
           "Cloverhash"
          ],
          [
           "CryptoNight"
          ],
          [
           "X11"
          ],
          [
           "Scrypt"
          ],
          [
           "Scrypt"
          ],
          [
           "X11"
          ],
          [
           "X11"
          ],
          [
           "CryptoNight"
          ],
          [
           "Time Travel"
          ],
          [
           "Scrypt"
          ],
          [
           "Keccak"
          ],
          [
           "X11"
          ],
          [
           "SHA-256"
          ],
          [
           "Scrypt"
          ],
          [
           "Scrypt"
          ],
          [
           "Scrypt"
          ],
          [
           "Scrypt"
          ],
          [
           "Scrypt"
          ],
          [
           "Scrypt"
          ],
          [
           "CryptoNight"
          ],
          [
           "Equihash"
          ],
          [
           "X11"
          ],
          [
           "NeoScrypt"
          ],
          [
           "Equihash"
          ],
          [
           "Dagger"
          ],
          [
           "Scrypt"
          ],
          [
           "X11"
          ],
          [
           "NeoScrypt"
          ],
          [
           "Ethash"
          ],
          [
           "NeoScrypt"
          ],
          [
           "Multiple"
          ],
          [
           "CryptoNight"
          ],
          [
           "CryptoNight"
          ],
          [
           "Ethash"
          ],
          [
           "X11"
          ],
          [
           "CryptoNight-V7"
          ],
          [
           "Scrypt"
          ],
          [
           "BLAKE256"
          ],
          [
           "X11"
          ],
          [
           "NeoScrypt"
          ],
          [
           "NeoScrypt"
          ],
          [
           "Scrypt"
          ],
          [
           "X11"
          ],
          [
           "SHA-256"
          ],
          [
           "C11"
          ],
          [
           "Ethash"
          ],
          [
           "CryptoNight"
          ],
          [
           "SkunkHash"
          ],
          [
           "CryptoNight"
          ],
          [
           "Scrypt"
          ],
          [
           "Dagger"
          ],
          [
           "Lyra2REv2"
          ],
          [
           "Scrypt"
          ],
          [
           "Scrypt"
          ],
          [
           "X11"
          ],
          [
           "Ethash"
          ],
          [
           "CryptoNight"
          ],
          [
           "Scrypt"
          ],
          [
           "IMesh"
          ],
          [
           "Equihash"
          ],
          [
           "Lyra2Z"
          ],
          [
           "X11"
          ],
          [
           "CryptoNight"
          ],
          [
           "NIST5"
          ],
          [
           "Lyra2RE"
          ],
          [
           "Tribus"
          ],
          [
           "Lyra2Z"
          ],
          [
           "CryptoNight"
          ],
          [
           "CryptoNight Heavy"
          ],
          [
           "CryptoNight"
          ],
          [
           "Jump Consistent Hash"
          ],
          [
           "CryptoNight"
          ],
          [
           "X16R"
          ],
          [
           "HMQ1725"
          ],
          [
           "X11"
          ],
          [
           "Scrypt"
          ],
          [
           "CryptoNight-V7"
          ],
          [
           "Cryptonight-GPU"
          ],
          [
           "XEVAN"
          ],
          [
           "CryptoNight Heavy"
          ],
          [
           "SHA-256"
          ],
          [
           "X11"
          ],
          [
           "X16R"
          ],
          [
           "Equihash"
          ],
          [
           "Lyra2Z"
          ],
          [
           "SHA-256"
          ],
          [
           "CryptoNight"
          ],
          [
           "Blake"
          ],
          [
           "Blake"
          ],
          [
           "Equihash"
          ],
          [
           "Exosis"
          ],
          [
           "Scrypt"
          ],
          [
           "Equihash"
          ],
          [
           "Equihash"
          ],
          [
           "QuBit"
          ],
          [
           "SHA-256"
          ],
          [
           "X13"
          ],
          [
           "SHA-256"
          ],
          [
           "Scrypt"
          ],
          [
           "NeoScrypt"
          ],
          [
           "Blake"
          ],
          [
           "Scrypt"
          ],
          [
           "SHA-256"
          ],
          [
           "Scrypt"
          ],
          [
           "Groestl"
          ],
          [
           "Scrypt"
          ],
          [
           "Scrypt"
          ],
          [
           "Multiple"
          ],
          [
           "Equihash+Scrypt"
          ],
          [
           "Ethash"
          ],
          [
           "CryptoNight"
          ],
          [
           "Equihash"
          ]
         ],
         "hovertemplate": "<b>%{hovertext}</b><br><br>Class=%{marker.color}<br>PC 1=%{x}<br>PC 2=%{y}<br>PC 3=%{z}<br>Algorithm=%{customdata[0]}<extra></extra>",
         "hovertext": [
          "Bitcoin",
          "Ethereum",
          "Litecoin",
          "Monero",
          "Ethereum Classic",
          "ZCash",
          "DigiByte",
          "ProsperCoin",
          "Spreadcoin",
          "Argentum",
          "MyriadCoin",
          "MoonCoin",
          "ZetaCoin",
          "SexCoin",
          "Quatloo",
          "QuarkCoin",
          "Riecoin",
          "Digitalcoin ",
          "Catcoin",
          "CannaCoin",
          "CryptCoin",
          "Verge",
          "DevCoin",
          "EarthCoin",
          "E-Gulden",
          "Einsteinium",
          "Emerald",
          "Franko",
          "FeatherCoin",
          "GrandCoin",
          "GlobalCoin",
          "GoldCoin",
          "Infinite Coin",
          "IXcoin",
          "KrugerCoin",
          "LuckyCoin",
          "Litebar ",
          "MegaCoin",
          "MediterraneanCoin",
          "MinCoin",
          "NobleCoin",
          "Namecoin",
          "NyanCoin",
          "RonPaulCoin",
          "StableCoin",
          "SmartCoin",
          "SysCoin",
          "TigerCoin",
          "TerraCoin",
          "UnbreakableCoin",
          "Unobtanium",
          "UroCoin",
          "ViaCoin",
          "Vertcoin",
          "WorldCoin",
          "JouleCoin",
          "ByteCoin",
          "DigitalNote ",
          "MonaCoin",
          "Gulden",
          "PesetaCoin",
          "Wild Beast Coin",
          "Flo",
          "ArtByte",
          "Folding Coin",
          "Unitus",
          "CypherPunkCoin",
          "OmniCron",
          "GreenCoin",
          "Cryptonite",
          "MasterCoin",
          "SoonCoin",
          "1Credit",
          "MarsCoin ",
          "Crypto",
          "Anarchists Prime",
          "BowsCoin",
          "Song Coin",
          "BitZeny",
          "Expanse",
          "Siacoin",
          "MindCoin",
          "I0coin",
          "Revolution VR",
          "HOdlcoin",
          "Gamecredits",
          "CarpeDiemCoin",
          "Adzcoin",
          "SoilCoin",
          "YoCoin",
          "SibCoin",
          "Francs",
          "BolivarCoin",
          "Omni",
          "PizzaCoin",
          "Komodo",
          "Karbo",
          "ZayedCoin",
          "Circuits of Value",
          "DopeCoin",
          "DollarCoin",
          "Shilling",
          "ZCoin",
          "Elementrem",
          "ZClassic",
          "KiloCoin",
          "ArtexCoin",
          "Kurrent",
          "Cannabis Industry Coin",
          "OsmiumCoin",
          "Bikercoins",
          "HexxCoin",
          "PacCoin",
          "Citadel",
          "BeaverCoin",
          "VaultCoin",
          "Zero",
          "Canada eCoin",
          "Zoin",
          "DubaiCoin",
          "EB3coin",
          "Coinonat",
          "BenjiRolls",
          "ILCoin",
          "EquiTrader",
          "Quantum Resistant Ledger",
          "Dynamic",
          "Nano",
          "ChanCoin",
          "Dinastycoin",
          "DigitalPrice",
          "Unify",
          "SocialCoin",
          "ArcticCoin",
          "DAS",
          "LeviarCoin",
          "Bitcore",
          "gCn Coin",
          "SmartCash",
          "Onix",
          "Bitcoin Cash",
          "Sojourn Coin",
          "NewYorkCoin",
          "FrazCoin",
          "Kronecoin",
          "AdCoin",
          "Linx",
          "Sumokoin",
          "BitcoinZ",
          "Elements",
          "VIVO Coin",
          "Bitcoin Gold",
          "Pirl",
          "eBoost",
          "Pura",
          "Innova",
          "Ellaism",
          "GoByte",
          "SHIELD",
          "UltraNote",
          "BitCoal",
          "DaxxCoin",
          "AC3",
          "Lethean",
          "PopularCoin",
          "Photon",
          "Sucre",
          "SparksPay",
          "GunCoin",
          "IrishCoin",
          "Pioneer Coin",
          "UnitedBitcoin",
          "Interzone",
          "1717 Masonic Commemorative Token",
          "TurtleCoin",
          "MUNcoin",
          "Niobio Cash",
          "ShareChain",
          "Travelflex",
          "KREDS",
          "BitFlip",
          "LottoCoin",
          "Crypto Improvement Fund",
          "Callisto Network",
          "BitTube",
          "Poseidon",
          "Aidos Kuneen",
          "Bitrolium",
          "Alpenschillling",
          "FuturoCoin",
          "Monero Classic",
          "Jumpcoin",
          "Infinex",
          "KEYCO",
          "GINcoin",
          "PlatinCoin",
          "Loki",
          "Newton Coin",
          "MassGrid",
          "PluraCoin",
          "Motion",
          "PlusOneCoin",
          "Axe",
          "HexCoin",
          "Webchain",
          "Ryo",
          "Urals Coin",
          "Qwertycoin",
          "Project Pai",
          "Azart",
          "Xchange",
          "CrypticCoin",
          "Actinium",
          "Bitcoin SV",
          "FREDEnergy",
          "Universal Molecule",
          "Lithium",
          "PirateCash",
          "Exosis",
          "Block-Logic",
          "Beam",
          "Bithereum",
          "SLICE",
          "BLAST",
          "Bitcoin Rhodium",
          "GlobalToken",
          "SolarCoin",
          "UFO Coin",
          "BlakeCoin",
          "Crypto Escudo",
          "Crown Coin",
          "SmileyCoin",
          "Groestlcoin",
          "Bata",
          "Pakcoin",
          "JoinCoin",
          "Vollar",
          "Reality Clash",
          "Beldex",
          "Horizen"
         ],
         "legendgroup": "3",
         "marker": {
          "color": [
           3,
           3,
           3,
           3,
           3,
           3,
           3,
           3,
           3,
           3,
           3,
           3,
           3,
           3,
           3,
           3,
           3,
           3,
           3,
           3,
           3,
           3,
           3,
           3,
           3,
           3,
           3,
           3,
           3,
           3,
           3,
           3,
           3,
           3,
           3,
           3,
           3,
           3,
           3,
           3,
           3,
           3,
           3,
           3,
           3,
           3,
           3,
           3,
           3,
           3,
           3,
           3,
           3,
           3,
           3,
           3,
           3,
           3,
           3,
           3,
           3,
           3,
           3,
           3,
           3,
           3,
           3,
           3,
           3,
           3,
           3,
           3,
           3,
           3,
           3,
           3,
           3,
           3,
           3,
           3,
           3,
           3,
           3,
           3,
           3,
           3,
           3,
           3,
           3,
           3,
           3,
           3,
           3,
           3,
           3,
           3,
           3,
           3,
           3,
           3,
           3,
           3,
           3,
           3,
           3,
           3,
           3,
           3,
           3,
           3,
           3,
           3,
           3,
           3,
           3,
           3,
           3,
           3,
           3,
           3,
           3,
           3,
           3,
           3,
           3,
           3,
           3,
           3,
           3,
           3,
           3,
           3,
           3,
           3,
           3,
           3,
           3,
           3,
           3,
           3,
           3,
           3,
           3,
           3,
           3,
           3,
           3,
           3,
           3,
           3,
           3,
           3,
           3,
           3,
           3,
           3,
           3,
           3,
           3,
           3,
           3,
           3,
           3,
           3,
           3,
           3,
           3,
           3,
           3,
           3,
           3,
           3,
           3,
           3,
           3,
           3,
           3,
           3,
           3,
           3,
           3,
           3,
           3,
           3,
           3,
           3,
           3,
           3,
           3,
           3,
           3,
           3,
           3,
           3,
           3,
           3,
           3,
           3,
           3,
           3,
           3,
           3,
           3,
           3,
           3,
           3,
           3,
           3,
           3,
           3,
           3,
           3,
           3,
           3,
           3,
           3,
           3,
           3,
           3,
           3,
           3,
           3,
           3,
           3,
           3,
           3,
           3,
           3,
           3,
           3,
           3,
           3,
           3,
           3,
           3,
           3,
           3,
           3,
           3,
           3
          ],
          "coloraxis": "coloraxis",
          "symbol": "diamond"
         },
         "mode": "markers",
         "name": "3",
         "scene": "scene",
         "showlegend": true,
         "type": "scatter3d",
         "x": [
          -0.1345703213096268,
          -0.14616142864191406,
          -0.1614740816961868,
          -0.16171626471577835,
          -0.14460016228976705,
          -0.17191397503400213,
          0.16580270442325093,
          -0.16262241203788033,
          -0.23980722927579673,
          -0.16223817322102602,
          -0.08808340173526699,
          2.5650562546914193,
          -0.13164998183728008,
          -0.15948844065695356,
          -0.16204175434916332,
          -0.21955048399565982,
          -0.18853737690696737,
          -0.1620907916760466,
          -0.16260464924935084,
          -0.16269127340300704,
          -0.23989672396772918,
          0.18957447072024058,
          0.24396569275585483,
          0.08649169430533675,
          -0.16243712786898357,
          -0.15803429759128118,
          -0.162376283315235,
          -0.16274837584016785,
          -0.17675313905306578,
          -0.1419318736681473,
          -0.16154131230128096,
          -0.16181920254045618,
          1.5893284633773748,
          -0.13453162798974505,
          -0.1591034940137654,
          -0.1624636160291227,
          -0.16281907341474217,
          -0.16207697344238367,
          -0.18343939635628287,
          -0.16270011574093457,
          -0.027331739584401455,
          -0.13460936460002743,
          -0.15635255819623775,
          -0.16267948402308513,
          -0.1607698969268177,
          -0.16216528425471044,
          -0.12173744375058813,
          -0.13407216769709246,
          -0.13435985725347369,
          -0.13434267729701194,
          -0.13493463121104465,
          -0.2400709658338065,
          -0.16239550568743016,
          -0.16624644491850166,
          -0.15949310658132954,
          -0.13413957905517315,
          3.87001726063364,
          0.4628312015114393,
          -0.16126096385859015,
          -0.14582915860399384,
          -0.15997747919101876,
          -0.16282128169960078,
          -0.15984232240101923,
          -0.14604054850819925,
          -0.1593098394086959,
          -0.12215245086606161,
          -0.1757899252114907,
          -0.16269415046685243,
          -0.035389629126982965,
          -0.09880953671222549,
          -0.1628301959417608,
          -0.13463718726155946,
          0.49071790157466383,
          -0.23945703711400101,
          -0.14949943878839875,
          -0.13437650861310793,
          -0.2397424421737765,
          -0.1609501734976755,
          -0.1601409592831881,
          -0.14723056064835952,
          0.3532463443653652,
          -0.23977791448304914,
          -0.13453275216503374,
          -0.1587807336435366,
          -0.16017092869171723,
          -0.16139091329667488,
          0.284709000135748,
          -0.23893702746065548,
          -0.12324068323835115,
          -0.16163843766051594,
          -0.13534962087700736,
          -0.16261969633538245,
          -0.23974106579735963,
          -0.1628302545425831,
          -0.23989128068076157,
          -0.3549329880887371,
          0.3074478363623139,
          -0.13479330049324575,
          -0.10218821115956375,
          -0.15999164270158997,
          -0.13475185966219233,
          -0.16249300180589002,
          -0.15399875792186185,
          -0.1469722649361611,
          -0.17193562724902392,
          -0.08940119365451475,
          -0.22645107391188599,
          -0.2377151706931965,
          0.3074422305061917,
          -0.1628119551781036,
          0.30757317340203877,
          -0.15004096231608746,
          0.47687515288215093,
          -0.16047829731139962,
          -0.1627801884207524,
          -0.23261003000168265,
          -0.17194803650171464,
          -0.16091007233875604,
          -0.14975884496977815,
          -0.14934162151001926,
          -0.13364226939626186,
          -0.19603652552686554,
          -0.16234173882989558,
          -0.10105475222278433,
          -0.16216338387067566,
          -0.16033608775697433,
          -0.17196070301313546,
          -0.04770664877854253,
          -0.12186973209742802,
          0.3436300726323054,
          -0.238945377475916,
          -0.16248335299996666,
          -0.1622461496494603,
          -0.2393408424482992,
          -0.23991938066577123,
          0.30783797851436834,
          -0.14893296075710455,
          3.253129870028765,
          -0.13242110089373876,
          -0.23077279741813062,
          -0.13456948416726192,
          -0.08824526684195431,
          1.5870307964329404,
          -0.1625813571299047,
          -0.1620318796218546,
          -0.1617323112568874,
          -0.16171922092165716,
          0.3080220116045483,
          0.040798593021163634,
          -0.19422575343306692,
          -0.18145060707316504,
          -0.17179382304259863,
          -0.12199730956225562,
          -0.16090827858018494,
          -0.23545537870879232,
          -0.1812957032739771,
          -0.14533390206246818,
          -0.18139611850984574,
          -0.11236602026359854,
          1.1470509769095076,
          0.3074249418234818,
          -0.07006627405381663,
          -0.23519581919348692,
          -0.14942725256537095,
          -0.07881549746849752,
          1.109461138276146,
          -0.23989333376029928,
          -0.181448183150611,
          -0.17447301873561247,
          -0.16183098265209425,
          -0.2398186084398908,
          -0.13454885102247666,
          -0.20390868731994993,
          -0.26512282166300777,
          8.06141837880018,
          -0.12381650356775238,
          0.31130682909502444,
          0.030559877034732442,
          -0.12149991757716538,
          -0.15177737553852377,
          -0.16240572643349097,
          0.14523565351330409,
          -0.23394828578979635,
          -0.09827386033093843,
          0.31536448669522327,
          -0.162643190478076,
          -0.11356748558764365,
          -0.17078309789013194,
          -0.15177767189525998,
          -0.23898621630692995,
          0.3076077786862689,
          -0.19609618070398202,
          -0.14988589100153032,
          -0.17750260669913626,
          -0.15408331053445778,
          0.3115444561796322,
          0.5582734564070241,
          2.1196913457607294,
          -0.13669945852711562,
          0.3212383633864019,
          -0.2101592213187168,
          -0.11321258060268959,
          -0.23987546066204163,
          -0.16266780842904818,
          -0.14930427029173693,
          -0.11609111719135197,
          -0.1635668513591203,
          3.0855923801052882,
          -0.09432443430445568,
          -0.23984676544559413,
          -0.20958573537699388,
          -0.0663417333331141,
          -0.15347982127176604,
          -0.13456952179389414,
          0.38752645870952895,
          -0.15728866242618,
          -0.15768160874735607,
          -0.28891772243504615,
          -0.1343794952080888,
          -0.16155795401569906,
          -0.16984990949023912,
          -0.17162633451014672,
          -0.17499925866162605,
          -0.13384433262435952,
          -0.10682970929272843,
          -0.13271005849304662,
          0.534730536487724,
          -0.10647777430259066,
          -0.10804162105668395,
          -0.14619137991163556,
          -0.1343592266790146,
          0.5543515951137912,
          -0.18809758742525817,
          -0.1627448326564348,
          -0.16069658645358642,
          -0.12288852339651374,
          -0.13385819501462143,
          -0.14700548357504972,
          0.32922242500298843,
          -0.17191503370366124
         ],
         "y": [
          -1.2639329280980496,
          -2.073019500535271,
          -1.1662320306213987,
          -2.271523502814203,
          -2.073102185804933,
          -2.030050994690318,
          -1.857750180046732,
          -1.1662335279308997,
          -0.9066070493564783,
          -1.1662479616651114,
          -1.8546260077505725,
          -1.3223360119998415,
          -1.2639213388321355,
          -1.1662683207873277,
          -1.166264891587145,
          -0.4482310926198937,
          -1.143413920543415,
          -1.1662314721493603,
          -1.1662328408033458,
          -1.1662308364306069,
          -0.9066091486558481,
          -1.8538020650082083,
          -1.2635835647364826,
          -1.1657806414885272,
          -1.166226360483201,
          -1.1662459947837467,
          -1.1662315014974864,
          -1.1662317479637243,
          -1.633488874964318,
          -1.1663867491974682,
          -1.1662250926339017,
          -1.1662373724887647,
          -1.1601766071144721,
          -1.2639314313034302,
          -1.1662639364358423,
          -1.166226703802927,
          -1.1662277472349931,
          -1.1662267364927856,
          -2.225039076099976,
          -1.1662290390882035,
          -1.171205739076542,
          -1.2639344384307623,
          -1.1662062899907428,
          -1.1662357356773652,
          -1.1663178920531658,
          -1.1662364209597795,
          -1.2640272253515357,
          -1.26393138064521,
          -1.263939094661176,
          -1.2639643208512914,
          -1.2639328831709662,
          -0.9066036248984415,
          -1.1662261130620375,
          -1.1521651238463941,
          -1.1662790080294774,
          -1.2639326175288046,
          -2.2526190331115266,
          -2.265550088874644,
          -1.166238176287197,
          -1.166714242011134,
          -1.166230269293031,
          -1.1662287034068013,
          -1.1662206899375256,
          -1.1662591107756008,
          -2.271489439690275,
          -1.8545812470083691,
          -1.5265000066785293,
          -1.166224291982909,
          -1.1681107662933747,
          -2.095540379544632,
          -1.1662276797627127,
          -1.2639355147098237,
          -1.203628624088449,
          -0.9066023600529685,
          -2.2196957930001946,
          -1.2639477513072184,
          -0.9066052244980733,
          -1.1662977758660515,
          -1.1662935625181978,
          -2.0730723772853397,
          -2.303159942893575,
          -0.906603190012113,
          -1.263931474790511,
          -1.1662136907303797,
          -2.2277850537642054,
          -1.1662288133732261,
          -1.262434176515455,
          -0.9066169923792642,
          -2.1194776899158296,
          -1.1662958600775049,
          -2.01408603885854,
          -1.166232741541815,
          -0.9066078965993453,
          -1.1662276799651516,
          -0.906613707442909,
          -1.3790995403031612,
          -2.26475432001034,
          -1.263933879152594,
          -1.8546265628436827,
          -1.1662537196193112,
          -1.263932890842714,
          -1.1662346539097836,
          -2.2342569861361863,
          -2.0730687213337404,
          -2.030051832274661,
          -1.1702001248509053,
          -0.906417427302396,
          -0.906667839031078,
          -2.2647620315617636,
          -1.1662284014136939,
          -2.2647596915713017,
          -2.2196787299193534,
          -0.9470032201308454,
          -2.2716016610294862,
          -1.1662276125112971,
          -0.9069963455794586,
          -2.0300495869641075,
          -1.166221114119976,
          -2.2196753113192313,
          -2.1547720838906645,
          -1.1678235097293101,
          -0.596984607566025,
          -1.1662325637700737,
          -1.2643254593982303,
          -1.1662505192369998,
          -2.2715416529726866,
          -2.3052822984622363,
          -2.318902071003455,
          -2.072419740914321,
          -2.2647105218307617,
          -0.9066282167649612,
          -1.166226974556578,
          -1.1662557649186656,
          -0.9066162613064834,
          -0.9066106382996366,
          -2.2647692067187406,
          -2.281529521492857,
          -1.1703530465344272,
          -1.208072793082691,
          -0.9069934085275734,
          -1.2639328957144156,
          -1.1704960775571112,
          -1.098536438679478,
          -1.1662312584455978,
          -1.1662536082201875,
          -1.1662529212326749,
          -1.1662524148521578,
          -2.2647858587259524,
          -2.036116269360288,
          -0.9060565747296114,
          -1.6334600568061417,
          -2.0300463467858627,
          -2.119515649155764,
          -1.1662210447310433,
          -0.9066635452795089,
          -1.633466328628447,
          -2.0731782629840763,
          -1.633461219408845,
          -1.8546523550449134,
          -2.290182252534125,
          -2.264756908992408,
          -2.0768892314849943,
          -0.9067897718176877,
          -2.271729103146339,
          -1.1663839521587431,
          -1.129465544829437,
          -0.9066102439155942,
          -1.6334558750236565,
          -1.6335124109568948,
          -1.1662322100921436,
          -0.9066095335511252,
          -1.2639315293170141,
          -1.1699187311600636,
          -0.14986979478087012,
          -2.6461325675080296,
          -2.1750369571726615,
          -2.2648271560751048,
          -1.1655596058841309,
          -2.119458044463177,
          -1.152297646485252,
          -1.1662380911503218,
          -1.1668515196374922,
          -0.9067074460036088,
          -2.0755957244611185,
          -2.2651225986799317,
          -1.1662343317145383,
          -2.0491456446577216,
          -2.030040633826957,
          -2.234360886900799,
          -0.9066297965555449,
          -2.2647538560981424,
          -0.5969683474682027,
          -2.2196838233641656,
          -2.23599823665157,
          -2.2342528303671716,
          -2.2649978369004566,
          -2.2601684386709877,
          -2.3200093527247936,
          -2.041369687345081,
          -2.2648953763315696,
          -1.3412317847845328,
          -2.030957567579765,
          -0.9066103701241849,
          -1.1662360370796252,
          -2.2722357010906595,
          -2.0923024268145665,
          -0.8295590829487575,
          -2.2879866633667363,
          -1.2637925724322225,
          -0.9066119854359953,
          -1.3412626929561065,
          -2.0311309328502194,
          -2.2342795634687658,
          -1.2639328971699475,
          -2.2671549776567494,
          -2.235438884201753,
          -2.235399651997462,
          -0.10688169007960653,
          -2.0794881065187285,
          -1.1662598031991558,
          -2.030135896394833,
          -2.0300466034250397,
          -1.5265375545064588,
          -1.2639341417372962,
          -0.3008350512615569,
          -1.2639611229517314,
          -1.2060822097197836,
          -1.6332667904850338,
          -2.2382315648928865,
          -1.1662649454683425,
          -1.2639390702683235,
          -1.1725509314651321,
          -1.1434112159870995,
          -1.166227362216345,
          -1.1662687252899362,
          -1.8546116286411678,
          -2.2073910468929707,
          -2.0730688360888383,
          -2.264859210669413,
          -2.03005103564341
         ],
         "z": [
          0.1897010963710619,
          0.3793965728617245,
          -0.06962064925899374,
          0.3313586809195585,
          0.3793867803039956,
          0.45029475189595075,
          0.3949885952491947,
          -0.06960575570361484,
          0.11629965918466821,
          -0.06960889586649148,
          0.3978549749127033,
          -0.08527716697749609,
          0.18966225988183136,
          -0.06964160385993792,
          -0.06960932218705339,
          0.043116148183080905,
          0.06638133694677013,
          -0.06961281886460766,
          -0.06960606803246087,
          -0.06960520586906568,
          0.11630106461118313,
          0.3941968117795576,
          0.18480937871000988,
          -0.07285250948243142,
          -0.06960901361498034,
          -0.0696629852912366,
          -0.06960915843289517,
          -0.06960436194874807,
          0.22305658769020853,
          -0.06985186566503179,
          -0.0696206444343962,
          -0.06961556935120726,
          -0.09279374361189016,
          0.18970041601392632,
          -0.06964707570777781,
          -0.06960863195888291,
          -0.06960395018579668,
          -0.0696135803572849,
          0.2794484970906849,
          -0.06960531444583465,
          -0.0707249746317734,
          0.18970178288184406,
          -0.06968942693536764,
          -0.06960475218847192,
          -0.06961907160059301,
          -0.06961125389703325,
          0.18954836104397377,
          0.18969452461982217,
          0.18969916168287354,
          0.1897020551655818,
          0.18970575720386626,
          0.11630261467423263,
          -0.06960957728368877,
          0.18225200027491625,
          -0.06964022502420573,
          0.18969554074151368,
          0.35502593965418877,
          0.4002639666181222,
          -0.0696226205182227,
          -0.06976152532904549,
          -0.0696400363543526,
          -0.06960380388496727,
          -0.0696429498826741,
          -0.0698149921587439,
          0.27617794168202686,
          0.3982858344547223,
          0.13128347877309737,
          -0.06960597676446599,
          -0.07100375903057592,
          0.32674135719838004,
          -0.0696038160471653,
          0.18970227209668505,
          -0.07335878810427884,
          0.1162945948618867,
          0.32179521404629297,
          0.18970044341189402,
          0.11629860410590963,
          -0.06961924530791347,
          -0.06963013041425015,
          0.3794167934777238,
          0.2655792971297947,
          0.11629880735810444,
          0.1897004357806633,
          -0.06965741145183524,
          0.2033074689080622,
          -0.06962211163581186,
          0.18414564223037827,
          0.11628974014675081,
          0.2543464034858594,
          -0.06961066591580443,
          0.399921866258085,
          -0.06960588754846303,
          0.11629891627973642,
          -0.06960381527157218,
          0.11630155755653189,
          0.8005843979439545,
          0.4021560256902109,
          0.18970406985376742,
          0.3980357093113447,
          -0.06963696058463822,
          0.18970341706389926,
          -0.06960727432153721,
          0.4235060721810521,
          0.379413033780769,
          0.4502951326138361,
          -0.07005405625244063,
          0.11610517860426375,
          0.11628036534822318,
          0.4021570492913085,
          -0.06960396062009043,
          0.4021550832551901,
          0.32180004431324827,
          0.11210569703062806,
          0.3313524706872523,
          -0.06960446488471429,
          0.11625552040500382,
          0.4502950144346353,
          -0.06962922091723563,
          0.3217960087844622,
          0.31164994783386385,
          -0.06978071378008001,
          0.08073650452558419,
          -0.0696094697960108,
          0.18932024976533118,
          -0.06960953816159061,
          0.3313432426687838,
          0.2788384566417349,
          0.27265799869503976,
          0.540929979133312,
          0.40168716835868035,
          0.11629123246815655,
          -0.0696083457339697,
          -0.06960783058285562,
          0.11629482230547358,
          0.1163015386756171,
          0.40215286582086013,
          0.25923160006626816,
          -0.1128490420203013,
          -0.01606746309267387,
          0.11623162512873532,
          0.18970108165131827,
          -0.07003233439957414,
          -0.1003722389587659,
          -0.06960656167909166,
          -0.06961084131796362,
          -0.06961476322485666,
          -0.06961499339644751,
          0.40215256384589493,
          0.4483187614265358,
          0.11564787229630202,
          0.22311319981079678,
          0.45029263922468954,
          0.25433516245495114,
          -0.0696292524574717,
          0.11625089013661333,
          0.2231119897752211,
          0.3794055684515365,
          0.2231126453709121,
          0.39816925837678135,
          0.3945401424739816,
          0.4021566384867155,
          0.378899504933946,
          0.11626314497274337,
          0.33122664942427693,
          -0.070660656838763,
          0.03801101631445608,
          0.11630115636886534,
          0.2231126526275371,
          0.22303028697748256,
          -0.06961605562973726,
          0.1163001115495079,
          0.18970064871786377,
          -0.17491378934913834,
          0.1887712857285251,
          0.34990839159841197,
          0.41817566038132875,
          0.40211558634549105,
          -0.07216337049094189,
          0.2543216816053997,
          0.18208302523114778,
          -0.0696079679748448,
          -0.07347277702823636,
          0.11623700450138418,
          0.37910115982038295,
          0.40210007750803106,
          -0.06960539034959218,
          0.6264632331406702,
          0.45027898791294363,
          0.4234904466338767,
          0.11629195055050824,
          0.40215391976039283,
          0.08073526173828299,
          0.32179868669098793,
          0.24992684431963225,
          0.4235066422747977,
          0.40213360887175753,
          0.44239805772426044,
          0.3857631764981997,
          0.40914043499116487,
          0.40199679523763476,
          0.2799442618112751,
          0.26676092282788477,
          0.11630094301293709,
          -0.0696048645384743,
          0.3312876009193778,
          0.7509030079046645,
          -0.12291119601477918,
          0.41345955758737085,
          0.1891682709025276,
          0.11630077483077918,
          0.27994073097130634,
          0.44907578780003793,
          0.423502211820663,
          0.18970108231291946,
          0.4014266141779408,
          0.5876533905906026,
          0.587653581539965,
          0.2596419706582907,
          0.4057763668349319,
          -0.06961614712903504,
          0.45027879263972076,
          0.4502905255707997,
          0.13127798560531023,
          0.1896919471099075,
          -0.03323747759198666,
          0.18968074855417116,
          -0.07361970445034371,
          0.22212903285120325,
          0.5873672804450751,
          -0.06981234004147747,
          0.18969915059527948,
          -0.07800961841115457,
          0.06637536995557969,
          -0.06960494864274387,
          -0.0696260790189777,
          0.3982990125182542,
          0.41835886044860393,
          0.3794134734357753,
          0.4018900651342687,
          0.450294770510879
         ]
        },
        {
         "customdata": [
          [
           "Proof-of-BibleHash"
          ],
          [
           "SHA-256 + Hive"
          ],
          [
           "Proof-of-Authority"
          ],
          [
           "ECC 256K1"
          ],
          [
           "Leased POS"
          ]
         ],
         "hovertemplate": "<b>%{hovertext}</b><br><br>Class=%{marker.color}<br>PC 1=%{x}<br>PC 2=%{y}<br>PC 3=%{z}<br>Algorithm=%{customdata[0]}<extra></extra>",
         "hovertext": [
          "BiblePay",
          "LitecoinCash",
          "Poa Network",
          "Acute Angle Cloud",
          "Waves"
         ],
         "legendgroup": "1",
         "marker": {
          "color": [
           1,
           1,
           1,
           1,
           1
          ],
          "coloraxis": "coloraxis",
          "symbol": "square"
         },
         "mode": "markers",
         "name": "1",
         "scene": "scene",
         "showlegend": true,
         "type": "scatter3d",
         "x": [
          -0.22647375872444092,
          -0.48289488042295015,
          -0.4048795979840848,
          -0.33987455714994513,
          -0.2897843335739355
         ],
         "y": [
          3.9422023934147488,
          2.371448353503628,
          2.7886851501930408,
          2.785122373153726,
          2.763977283100375
         ],
         "z": [
          13.997892443875742,
          13.674118576603256,
          12.850328198877419,
          18.049734318170785,
          9.848160841780263
         ]
        },
        {
         "customdata": [
          [
           "TRC10"
          ]
         ],
         "hovertemplate": "<b>%{hovertext}</b><br><br>Class=%{marker.color}<br>PC 1=%{x}<br>PC 2=%{y}<br>PC 3=%{z}<br>Algorithm=%{customdata[0]}<extra></extra>",
         "hovertext": [
          "BitTorrent"
         ],
         "legendgroup": "2",
         "marker": {
          "color": [
           2
          ],
          "coloraxis": "coloraxis",
          "symbol": "x"
         },
         "mode": "markers",
         "name": "2",
         "scene": "scene",
         "showlegend": true,
         "type": "scatter3d",
         "x": [
          34.08698987045402
         ],
         "y": [
          1.8387995090938647
         ],
         "z": [
          -0.6098576647624512
         ]
        }
       ],
       "layout": {
        "coloraxis": {
         "colorbar": {
          "title": {
           "text": "Class"
          }
         },
         "colorscale": [
          [
           0,
           "#0d0887"
          ],
          [
           0.1111111111111111,
           "#46039f"
          ],
          [
           0.2222222222222222,
           "#7201a8"
          ],
          [
           0.3333333333333333,
           "#9c179e"
          ],
          [
           0.4444444444444444,
           "#bd3786"
          ],
          [
           0.5555555555555556,
           "#d8576b"
          ],
          [
           0.6666666666666666,
           "#ed7953"
          ],
          [
           0.7777777777777778,
           "#fb9f3a"
          ],
          [
           0.8888888888888888,
           "#fdca26"
          ],
          [
           1,
           "#f0f921"
          ]
         ]
        },
        "legend": {
         "title": {
          "text": "Class"
         },
         "tracegroupgap": 0,
         "x": 0,
         "y": 1
        },
        "margin": {
         "t": 60
        },
        "scene": {
         "domain": {
          "x": [
           0,
           1
          ],
          "y": [
           0,
           1
          ]
         },
         "xaxis": {
          "title": {
           "text": "PC 1"
          }
         },
         "yaxis": {
          "title": {
           "text": "PC 2"
          }
         },
         "zaxis": {
          "title": {
           "text": "PC 3"
          }
         }
        },
        "template": {
         "data": {
          "bar": [
           {
            "error_x": {
             "color": "#2a3f5f"
            },
            "error_y": {
             "color": "#2a3f5f"
            },
            "marker": {
             "line": {
              "color": "#E5ECF6",
              "width": 0.5
             },
             "pattern": {
              "fillmode": "overlay",
              "size": 10,
              "solidity": 0.2
             }
            },
            "type": "bar"
           }
          ],
          "barpolar": [
           {
            "marker": {
             "line": {
              "color": "#E5ECF6",
              "width": 0.5
             },
             "pattern": {
              "fillmode": "overlay",
              "size": 10,
              "solidity": 0.2
             }
            },
            "type": "barpolar"
           }
          ],
          "carpet": [
           {
            "aaxis": {
             "endlinecolor": "#2a3f5f",
             "gridcolor": "white",
             "linecolor": "white",
             "minorgridcolor": "white",
             "startlinecolor": "#2a3f5f"
            },
            "baxis": {
             "endlinecolor": "#2a3f5f",
             "gridcolor": "white",
             "linecolor": "white",
             "minorgridcolor": "white",
             "startlinecolor": "#2a3f5f"
            },
            "type": "carpet"
           }
          ],
          "choropleth": [
           {
            "colorbar": {
             "outlinewidth": 0,
             "ticks": ""
            },
            "type": "choropleth"
           }
          ],
          "contour": [
           {
            "colorbar": {
             "outlinewidth": 0,
             "ticks": ""
            },
            "colorscale": [
             [
              0,
              "#0d0887"
             ],
             [
              0.1111111111111111,
              "#46039f"
             ],
             [
              0.2222222222222222,
              "#7201a8"
             ],
             [
              0.3333333333333333,
              "#9c179e"
             ],
             [
              0.4444444444444444,
              "#bd3786"
             ],
             [
              0.5555555555555556,
              "#d8576b"
             ],
             [
              0.6666666666666666,
              "#ed7953"
             ],
             [
              0.7777777777777778,
              "#fb9f3a"
             ],
             [
              0.8888888888888888,
              "#fdca26"
             ],
             [
              1,
              "#f0f921"
             ]
            ],
            "type": "contour"
           }
          ],
          "contourcarpet": [
           {
            "colorbar": {
             "outlinewidth": 0,
             "ticks": ""
            },
            "type": "contourcarpet"
           }
          ],
          "heatmap": [
           {
            "colorbar": {
             "outlinewidth": 0,
             "ticks": ""
            },
            "colorscale": [
             [
              0,
              "#0d0887"
             ],
             [
              0.1111111111111111,
              "#46039f"
             ],
             [
              0.2222222222222222,
              "#7201a8"
             ],
             [
              0.3333333333333333,
              "#9c179e"
             ],
             [
              0.4444444444444444,
              "#bd3786"
             ],
             [
              0.5555555555555556,
              "#d8576b"
             ],
             [
              0.6666666666666666,
              "#ed7953"
             ],
             [
              0.7777777777777778,
              "#fb9f3a"
             ],
             [
              0.8888888888888888,
              "#fdca26"
             ],
             [
              1,
              "#f0f921"
             ]
            ],
            "type": "heatmap"
           }
          ],
          "heatmapgl": [
           {
            "colorbar": {
             "outlinewidth": 0,
             "ticks": ""
            },
            "colorscale": [
             [
              0,
              "#0d0887"
             ],
             [
              0.1111111111111111,
              "#46039f"
             ],
             [
              0.2222222222222222,
              "#7201a8"
             ],
             [
              0.3333333333333333,
              "#9c179e"
             ],
             [
              0.4444444444444444,
              "#bd3786"
             ],
             [
              0.5555555555555556,
              "#d8576b"
             ],
             [
              0.6666666666666666,
              "#ed7953"
             ],
             [
              0.7777777777777778,
              "#fb9f3a"
             ],
             [
              0.8888888888888888,
              "#fdca26"
             ],
             [
              1,
              "#f0f921"
             ]
            ],
            "type": "heatmapgl"
           }
          ],
          "histogram": [
           {
            "marker": {
             "pattern": {
              "fillmode": "overlay",
              "size": 10,
              "solidity": 0.2
             }
            },
            "type": "histogram"
           }
          ],
          "histogram2d": [
           {
            "colorbar": {
             "outlinewidth": 0,
             "ticks": ""
            },
            "colorscale": [
             [
              0,
              "#0d0887"
             ],
             [
              0.1111111111111111,
              "#46039f"
             ],
             [
              0.2222222222222222,
              "#7201a8"
             ],
             [
              0.3333333333333333,
              "#9c179e"
             ],
             [
              0.4444444444444444,
              "#bd3786"
             ],
             [
              0.5555555555555556,
              "#d8576b"
             ],
             [
              0.6666666666666666,
              "#ed7953"
             ],
             [
              0.7777777777777778,
              "#fb9f3a"
             ],
             [
              0.8888888888888888,
              "#fdca26"
             ],
             [
              1,
              "#f0f921"
             ]
            ],
            "type": "histogram2d"
           }
          ],
          "histogram2dcontour": [
           {
            "colorbar": {
             "outlinewidth": 0,
             "ticks": ""
            },
            "colorscale": [
             [
              0,
              "#0d0887"
             ],
             [
              0.1111111111111111,
              "#46039f"
             ],
             [
              0.2222222222222222,
              "#7201a8"
             ],
             [
              0.3333333333333333,
              "#9c179e"
             ],
             [
              0.4444444444444444,
              "#bd3786"
             ],
             [
              0.5555555555555556,
              "#d8576b"
             ],
             [
              0.6666666666666666,
              "#ed7953"
             ],
             [
              0.7777777777777778,
              "#fb9f3a"
             ],
             [
              0.8888888888888888,
              "#fdca26"
             ],
             [
              1,
              "#f0f921"
             ]
            ],
            "type": "histogram2dcontour"
           }
          ],
          "mesh3d": [
           {
            "colorbar": {
             "outlinewidth": 0,
             "ticks": ""
            },
            "type": "mesh3d"
           }
          ],
          "parcoords": [
           {
            "line": {
             "colorbar": {
              "outlinewidth": 0,
              "ticks": ""
             }
            },
            "type": "parcoords"
           }
          ],
          "pie": [
           {
            "automargin": true,
            "type": "pie"
           }
          ],
          "scatter": [
           {
            "marker": {
             "colorbar": {
              "outlinewidth": 0,
              "ticks": ""
             }
            },
            "type": "scatter"
           }
          ],
          "scatter3d": [
           {
            "line": {
             "colorbar": {
              "outlinewidth": 0,
              "ticks": ""
             }
            },
            "marker": {
             "colorbar": {
              "outlinewidth": 0,
              "ticks": ""
             }
            },
            "type": "scatter3d"
           }
          ],
          "scattercarpet": [
           {
            "marker": {
             "colorbar": {
              "outlinewidth": 0,
              "ticks": ""
             }
            },
            "type": "scattercarpet"
           }
          ],
          "scattergeo": [
           {
            "marker": {
             "colorbar": {
              "outlinewidth": 0,
              "ticks": ""
             }
            },
            "type": "scattergeo"
           }
          ],
          "scattergl": [
           {
            "marker": {
             "colorbar": {
              "outlinewidth": 0,
              "ticks": ""
             }
            },
            "type": "scattergl"
           }
          ],
          "scattermapbox": [
           {
            "marker": {
             "colorbar": {
              "outlinewidth": 0,
              "ticks": ""
             }
            },
            "type": "scattermapbox"
           }
          ],
          "scatterpolar": [
           {
            "marker": {
             "colorbar": {
              "outlinewidth": 0,
              "ticks": ""
             }
            },
            "type": "scatterpolar"
           }
          ],
          "scatterpolargl": [
           {
            "marker": {
             "colorbar": {
              "outlinewidth": 0,
              "ticks": ""
             }
            },
            "type": "scatterpolargl"
           }
          ],
          "scatterternary": [
           {
            "marker": {
             "colorbar": {
              "outlinewidth": 0,
              "ticks": ""
             }
            },
            "type": "scatterternary"
           }
          ],
          "surface": [
           {
            "colorbar": {
             "outlinewidth": 0,
             "ticks": ""
            },
            "colorscale": [
             [
              0,
              "#0d0887"
             ],
             [
              0.1111111111111111,
              "#46039f"
             ],
             [
              0.2222222222222222,
              "#7201a8"
             ],
             [
              0.3333333333333333,
              "#9c179e"
             ],
             [
              0.4444444444444444,
              "#bd3786"
             ],
             [
              0.5555555555555556,
              "#d8576b"
             ],
             [
              0.6666666666666666,
              "#ed7953"
             ],
             [
              0.7777777777777778,
              "#fb9f3a"
             ],
             [
              0.8888888888888888,
              "#fdca26"
             ],
             [
              1,
              "#f0f921"
             ]
            ],
            "type": "surface"
           }
          ],
          "table": [
           {
            "cells": {
             "fill": {
              "color": "#EBF0F8"
             },
             "line": {
              "color": "white"
             }
            },
            "header": {
             "fill": {
              "color": "#C8D4E3"
             },
             "line": {
              "color": "white"
             }
            },
            "type": "table"
           }
          ]
         },
         "layout": {
          "annotationdefaults": {
           "arrowcolor": "#2a3f5f",
           "arrowhead": 0,
           "arrowwidth": 1
          },
          "autotypenumbers": "strict",
          "coloraxis": {
           "colorbar": {
            "outlinewidth": 0,
            "ticks": ""
           }
          },
          "colorscale": {
           "diverging": [
            [
             0,
             "#8e0152"
            ],
            [
             0.1,
             "#c51b7d"
            ],
            [
             0.2,
             "#de77ae"
            ],
            [
             0.3,
             "#f1b6da"
            ],
            [
             0.4,
             "#fde0ef"
            ],
            [
             0.5,
             "#f7f7f7"
            ],
            [
             0.6,
             "#e6f5d0"
            ],
            [
             0.7,
             "#b8e186"
            ],
            [
             0.8,
             "#7fbc41"
            ],
            [
             0.9,
             "#4d9221"
            ],
            [
             1,
             "#276419"
            ]
           ],
           "sequential": [
            [
             0,
             "#0d0887"
            ],
            [
             0.1111111111111111,
             "#46039f"
            ],
            [
             0.2222222222222222,
             "#7201a8"
            ],
            [
             0.3333333333333333,
             "#9c179e"
            ],
            [
             0.4444444444444444,
             "#bd3786"
            ],
            [
             0.5555555555555556,
             "#d8576b"
            ],
            [
             0.6666666666666666,
             "#ed7953"
            ],
            [
             0.7777777777777778,
             "#fb9f3a"
            ],
            [
             0.8888888888888888,
             "#fdca26"
            ],
            [
             1,
             "#f0f921"
            ]
           ],
           "sequentialminus": [
            [
             0,
             "#0d0887"
            ],
            [
             0.1111111111111111,
             "#46039f"
            ],
            [
             0.2222222222222222,
             "#7201a8"
            ],
            [
             0.3333333333333333,
             "#9c179e"
            ],
            [
             0.4444444444444444,
             "#bd3786"
            ],
            [
             0.5555555555555556,
             "#d8576b"
            ],
            [
             0.6666666666666666,
             "#ed7953"
            ],
            [
             0.7777777777777778,
             "#fb9f3a"
            ],
            [
             0.8888888888888888,
             "#fdca26"
            ],
            [
             1,
             "#f0f921"
            ]
           ]
          },
          "colorway": [
           "#636efa",
           "#EF553B",
           "#00cc96",
           "#ab63fa",
           "#FFA15A",
           "#19d3f3",
           "#FF6692",
           "#B6E880",
           "#FF97FF",
           "#FECB52"
          ],
          "font": {
           "color": "#2a3f5f"
          },
          "geo": {
           "bgcolor": "white",
           "lakecolor": "white",
           "landcolor": "#E5ECF6",
           "showlakes": true,
           "showland": true,
           "subunitcolor": "white"
          },
          "hoverlabel": {
           "align": "left"
          },
          "hovermode": "closest",
          "mapbox": {
           "style": "light"
          },
          "paper_bgcolor": "white",
          "plot_bgcolor": "#E5ECF6",
          "polar": {
           "angularaxis": {
            "gridcolor": "white",
            "linecolor": "white",
            "ticks": ""
           },
           "bgcolor": "#E5ECF6",
           "radialaxis": {
            "gridcolor": "white",
            "linecolor": "white",
            "ticks": ""
           }
          },
          "scene": {
           "xaxis": {
            "backgroundcolor": "#E5ECF6",
            "gridcolor": "white",
            "gridwidth": 2,
            "linecolor": "white",
            "showbackground": true,
            "ticks": "",
            "zerolinecolor": "white"
           },
           "yaxis": {
            "backgroundcolor": "#E5ECF6",
            "gridcolor": "white",
            "gridwidth": 2,
            "linecolor": "white",
            "showbackground": true,
            "ticks": "",
            "zerolinecolor": "white"
           },
           "zaxis": {
            "backgroundcolor": "#E5ECF6",
            "gridcolor": "white",
            "gridwidth": 2,
            "linecolor": "white",
            "showbackground": true,
            "ticks": "",
            "zerolinecolor": "white"
           }
          },
          "shapedefaults": {
           "line": {
            "color": "#2a3f5f"
           }
          },
          "ternary": {
           "aaxis": {
            "gridcolor": "white",
            "linecolor": "white",
            "ticks": ""
           },
           "baxis": {
            "gridcolor": "white",
            "linecolor": "white",
            "ticks": ""
           },
           "bgcolor": "#E5ECF6",
           "caxis": {
            "gridcolor": "white",
            "linecolor": "white",
            "ticks": ""
           }
          },
          "title": {
           "x": 0.05
          },
          "xaxis": {
           "automargin": true,
           "gridcolor": "white",
           "linecolor": "white",
           "ticks": "",
           "title": {
            "standoff": 15
           },
           "zerolinecolor": "white",
           "zerolinewidth": 2
          },
          "yaxis": {
           "automargin": true,
           "gridcolor": "white",
           "linecolor": "white",
           "ticks": "",
           "title": {
            "standoff": 15
           },
           "zerolinecolor": "white",
           "zerolinewidth": 2
          }
         }
        },
        "width": 800
       }
      },
      "text/html": [
       "<div>                            <div id=\"ad17f054-8559-4330-9818-51fddc217a05\" class=\"plotly-graph-div\" style=\"height:525px; width:800px;\"></div>            <script type=\"text/javascript\">                require([\"plotly\"], function(Plotly) {                    window.PLOTLYENV=window.PLOTLYENV || {};                                    if (document.getElementById(\"ad17f054-8559-4330-9818-51fddc217a05\")) {                    Plotly.newPlot(                        \"ad17f054-8559-4330-9818-51fddc217a05\",                        [{\"customdata\":[[\"Scrypt\"],[\"Scrypt\"],[\"X13\"],[\"X11\"],[\"SHA-512\"],[\"SHA-256\"],[\"SHA-256\"],[\"X15\"],[\"Scrypt\"],[\"Scrypt\"],[\"Scrypt\"],[\"Scrypt\"],[\"Scrypt\"],[\"Scrypt\"],[\"Groestl\"],[\"PoS\"],[\"Scrypt\"],[\"Scrypt\"],[\"X11\"],[\"X11\"],[\"SHA3\"],[\"Scrypt\"],[\"SHA-256\"],[\"Scrypt\"],[\"X13\"],[\"X13\"],[\"NeoScrypt\"],[\"Scrypt\"],[\"Scrypt\"],[\"Scrypt\"],[\"X11\"],[\"X11\"],[\"Multiple\"],[\"PHI1612\"],[\"X11\"],[\"Scrypt\"],[\"Scrypt\"],[\"Scrypt\"],[\"X11\"],[\"Multiple\"],[\"X13\"],[\"Scrypt\"],[\"Shabal256\"],[\"Counterparty\"],[\"SHA-256\"],[\"Groestl\"],[\"Scrypt\"],[\"X13\"],[\"Scrypt\"],[\"Scrypt\"],[\"X13\"],[\"X11\"],[\"Scrypt\"],[\"X11\"],[\"SHA3\"],[\"QUAIT\"],[\"X11\"],[\"Scrypt\"],[\"X13\"],[\"SHA-256\"],[\"X15\"],[\"BLAKE256\"],[\"SHA-256\"],[\"X11\"],[\"SHA-256\"],[\"NIST5\"],[\"Scrypt\"],[\"Scrypt\"],[\"X11\"],[\"Scrypt\"],[\"SHA-256\"],[\"Scrypt\"],[\"PoS\"],[\"X11\"],[\"SHA-256\"],[\"SHA-256\"],[\"NIST5\"],[\"X11\"],[\"POS 3.0\"],[\"Scrypt\"],[\"Scrypt\"],[\"Scrypt\"],[\"X13\"],[\"X11\"],[\"X11\"],[\"Scrypt\"],[\"SHA-256\"],[\"X11\"],[\"Scrypt\"],[\"Scrypt\"],[\"Scrypt\"],[\"Scrypt\"],[\"SHA-256D\"],[\"PoS\"],[\"Scrypt\"],[\"X11\"],[\"PoS\"],[\"X13\"],[\"X14\"],[\"PoS\"],[\"SHA-256D\"],[\"DPoS\"],[\"X11\"],[\"X13\"],[\"X11\"],[\"PoS\"],[\"Scrypt\"],[\"Scrypt\"],[\"PoS\"],[\"X11\"],[\"SHA-256\"],[\"Scrypt\"],[\"X11\"],[\"Scrypt\"],[\"Scrypt\"],[\"X11\"],[\"Scrypt\"],[\"Scrypt\"],[\"Scrypt\"],[\"Scrypt\"],[\"Quark\"],[\"QuBit\"],[\"Scrypt\"],[\"SHA-256\"],[\"X11\"],[\"Scrypt\"],[\"Scrypt\"],[\"Scrypt\"],[\"Scrypt\"],[\"X13\"],[\"Scrypt\"],[\"Scrypt\"],[\"X11\"],[\"Blake2S\"],[\"X11\"],[\"PoS\"],[\"X11\"],[\"PoS\"],[\"X11\"],[\"Scrypt\"],[\"Scrypt\"],[\"Scrypt\"],[\"SHA-256\"],[\"X11\"],[\"Scrypt\"],[\"PoS\"],[\"Scrypt\"],[\"X15\"],[\"SHA-256\"],[\"POS 3.0\"],[\"536\"],[\"NIST5\"],[\"NIST5\"],[\"Skein\"],[\"X13\"],[\"Scrypt\"],[\"X13\"],[\"SkunkHash v2 Raptor\"],[\"Skein\"],[\"X11\"],[\"Scrypt\"],[\"VeChainThor Authority\"],[\"PoS\"],[\"Scrypt\"],[\"Scrypt\"],[\"SHA-512\"],[\"Ouroboros\"],[\"X11\"],[\"NeoScrypt\"],[\"Scrypt\"],[\"Lyra2REv2\"],[\"Scrypt\"],[\"SHA-256\"],[\"NIST5\"],[\"PHI1612\"],[\"Scrypt\"],[\"Quark\"],[\"POS 2.0\"],[\"Scrypt\"],[\"SHA-256\"],[\"X11\"],[\"DPoS\"],[\"NIST5\"],[\"X13\"],[\"Scrypt\"],[\"NIST5\"],[\"Quark\"],[\"Scrypt\"],[\"Scrypt\"],[\"X11\"],[\"Quark\"],[\"Scrypt\"],[\"Scrypt\"],[\"X11\"],[\"POS 3.0\"],[\"Scrypt\"],[\"Scrypt\"],[\"X13\"],[\"C11\"],[\"X11\"],[\"XEVAN\"],[\"Scrypt\"],[\"VBFT\"],[\"NIST5\"],[\"Scrypt\"],[\"Scrypt\"],[\"Scrypt\"],[\"Green Protocol\"],[\"PoS\"],[\"Scrypt\"],[\"Semux BFT consensus\"],[\"Quark\"],[\"PoS\"],[\"X16R\"],[\"Scrypt\"],[\"XEVAN\"],[\"Scrypt\"],[\"Scrypt\"],[\"Scrypt\"],[\"SHA-256D\"],[\"Scrypt\"],[\"X15\"],[\"Scrypt\"],[\"Quark\"],[\"SHA-256\"],[\"DPoS\"],[\"X16R\"],[\"Quark\"],[\"Quark\"],[\"Scrypt\"],[\"Lyra2REv2\"],[\"Quark\"],[\"Scrypt\"],[\"X11\"],[\"X11\"],[\"Scrypt\"],[\"PoS\"],[\"Keccak\"],[\"X11\"],[\"Scrypt\"],[\"SHA-512\"],[\"XEVAN\"],[\"XEVAN\"],[\"X11\"],[\"Quark\"],[\"Scrypt\"],[\"Quark\"],[\"Quark\"],[\"Scrypt\"],[\"X11\"],[\"Scrypt\"],[\"XEVAN\"],[\"SHA-256D\"],[\"X11\"],[\"X11\"],[\"DPoS\"],[\"Scrypt\"],[\"X11\"],[\"Scrypt\"],[\"Scrypt\"],[\"SHA-256\"],[\"Scrypt\"],[\"X11\"],[\"Scrypt\"],[\"SHA-256\"],[\"X11\"],[\"Scrypt\"],[\"Scrypt\"],[\"X11\"],[\"Scrypt\"],[\"PoS\"],[\"X11\"],[\"SHA-256\"],[\"DPoS\"],[\"Scrypt\"],[\"Scrypt\"],[\"NeoScrypt\"],[\"X13\"],[\"DPoS\"],[\"DPoS\"],[\"SHA-256\"],[\"PoS\"],[\"PoS\"],[\"SHA-256\"],[\"Scrypt\"],[\"Scrypt\"]],\"hovertemplate\":\"<b>%{hovertext}</b><br><br>Class=%{marker.color}<br>PC 1=%{x}<br>PC 2=%{y}<br>PC 3=%{z}<br>Algorithm=%{customdata[0]}<extra></extra>\",\"hovertext\":[\"42 Coin\",\"404Coin\",\"EliteCoin\",\"Dash\",\"Bitshares\",\"BitcoinDark\",\"PayCoin\",\"KoboCoin\",\"Aurora Coin\",\"BlueCoin\",\"EnergyCoin\",\"BitBar\",\"CryptoBullion\",\"CasinoCoin\",\"Diamond\",\"Exclusive Coin\",\"FlutterCoin\",\"HoboNickels\",\"HyperStake\",\"IOCoin\",\"MaxCoin\",\"MintCoin\",\"MazaCoin\",\"Nautilus Coin\",\"NavCoin\",\"OpalCoin\",\"Orbitcoin\",\"PotCoin\",\"PhoenixCoin\",\"Reddcoin\",\"SuperCoin\",\"SyncCoin\",\"TeslaCoin\",\"TittieCoin\",\"TorCoin\",\"UnitaryStatus Dollar\",\"UltraCoin\",\"VeriCoin\",\"X11 Coin\",\"Crypti\",\"StealthCoin\",\"ZCC Coin\",\"BurstCoin\",\"StorjCoin\",\"Neutron\",\"FairCoin\",\"RubyCoin\",\"Kore\",\"Dnotes\",\"8BIT Coin\",\"Sativa Coin\",\"Ucoin\",\"Vtorrent\",\"IslaCoin\",\"Nexus\",\"Droidz\",\"Squall Coin\",\"Diggits\",\"Paycon\",\"Emercoin\",\"EverGreenCoin\",\"Decred\",\"EDRCoin\",\"Hitcoin\",\"DubaiCoin\",\"PWR Coin\",\"BillaryCoin\",\"GPU Coin\",\"EuropeCoin\",\"ZeitCoin\",\"SwingCoin\",\"SafeExchangeCoin\",\"Nebuchadnezzar\",\"Ratecoin\",\"Revenu\",\"Clockcoin\",\"VIP Tokens\",\"BitSend\",\"Let it Ride\",\"PutinCoin\",\"iBankCoin\",\"Frankywillcoin\",\"MudraCoin\",\"Lutetium Coin\",\"GoldBlocks\",\"CarterCoin\",\"BitTokens\",\"MustangCoin\",\"ZoneCoin\",\"RootCoin\",\"BitCurrency\",\"Swiscoin\",\"BuzzCoin\",\"Opair\",\"PesoBit\",\"Halloween Coin\",\"CoffeeCoin\",\"RoyalCoin\",\"GanjaCoin V2\",\"TeamUP\",\"LanaCoin\",\"ARK\",\"InsaneCoin\",\"EmberCoin\",\"XenixCoin\",\"FreeCoin\",\"PLNCoin\",\"AquariusCoin\",\"Creatio\",\"Eternity\",\"Eurocoin\",\"BitcoinFast\",\"Stakenet\",\"BitConnect Coin\",\"MoneyCoin\",\"Enigma\",\"Russiacoin\",\"PandaCoin\",\"GameUnits\",\"GAKHcoin\",\"Allsafe\",\"LiteCreed\",\"Klingon Empire Darsek\",\"Internet of People\",\"KushCoin\",\"Printerium\",\"Impeach\",\"Zilbercoin\",\"FirstCoin\",\"FindCoin\",\"OpenChat\",\"RenosCoin\",\"VirtacoinPlus\",\"TajCoin\",\"Impact\",\"Atmos\",\"HappyCoin\",\"MacronCoin\",\"Condensate\",\"Independent Money System\",\"ArgusCoin\",\"LomoCoin\",\"ProCurrency\",\"GoldReserve\",\"GrowthCoin\",\"Phreak\",\"Degas Coin\",\"HTML5 Coin\",\"Ultimate Secure Cash\",\"QTUM\",\"Espers\",\"Denarius\",\"Virta Unique Coin\",\"Bitcoin Planet\",\"BritCoin\",\"Linda\",\"DeepOnion\",\"Signatum\",\"Cream\",\"Monoeci\",\"Draftcoin\",\"Vechain\",\"Stakecoin\",\"CoinonatX\",\"Ethereum Dark\",\"Obsidian\",\"Cardano\",\"Regalcoin\",\"TrezarCoin\",\"TerraNovaCoin\",\"Rupee\",\"WomenCoin\",\"Theresa May Coin\",\"NamoCoin\",\"LUXCoin\",\"Xios\",\"Bitcloud 2.0\",\"KekCoin\",\"BlackholeCoin\",\"Infinity Economics\",\"Magnet\",\"Lamden Tau\",\"Electra\",\"Bitcoin Diamond\",\"Cash & Back Coin\",\"Bulwark\",\"Kalkulus\",\"GermanCoin\",\"LiteCoin Ultra\",\"PhantomX\",\"Digiwage\",\"Trollcoin\",\"Litecoin Plus\",\"Monkey Project\",\"TokenPay\",\"My Big Coin\",\"Unified Society USDEX\",\"Tokyo Coin\",\"Stipend\",\"Pushi\",\"Ellerium\",\"Velox\",\"Ontology\",\"Bitspace\",\"Briacoin\",\"Ignition\",\"MedicCoin\",\"Bitcoin Green\",\"Deviant Coin\",\"Abjcoin\",\"Semux\",\"Carebit\",\"Zealium\",\"Proton\",\"iDealCash\",\"Bitcoin Incognito\",\"HollyWoodCoin\",\"Swisscoin\",\"Xt3ch\",\"TheVig\",\"EmaratCoin\",\"Dekado\",\"Lynx\",\"Poseidon Quark\",\"BitcoinWSpectrum\",\"Muse\",\"Trivechain\",\"Dystem\",\"Giant\",\"Peony Coin\",\"Absolute Coin\",\"Vitae\",\"TPCash\",\"ARENON\",\"EUNO\",\"MMOCoin\",\"Ketan\",\"XDNA\",\"PAXEX\",\"ThunderStake\",\"Kcash\",\"Bettex coin\",\"BitMoney\",\"Junson Ming Chan Coin\",\"HerbCoin\",\"Oduwa\",\"Galilel\",\"Crypto Sports\",\"Credit\",\"Dash Platinum\",\"Nasdacoin\",\"Beetle Coin\",\"Titan Coin\",\"Award\",\"Insane Coin\",\"ALAX\",\"LiteDoge\",\"TruckCoin\",\"OrangeCoin\",\"BitstarCoin\",\"NeosCoin\",\"HyperCoin\",\"PinkCoin\",\"AudioCoin\",\"IncaKoin\",\"Piggy Coin\",\"Genstake\",\"XiaoMiCoin\",\"CapriCoin\",\" ClubCoin\",\"Radium\",\"Creditbit \",\"OKCash\",\"Lisk\",\"HiCoin\",\"WhiteCoin\",\"FriendshipCoin\",\"Triangles Coin\",\"EOS\",\"Oxycoin\",\"TigerCash\",\"Particl\",\"Nxt\",\"ZEPHYR\",\"Gapcoin\",\"BitcoinPlus\"],\"legendgroup\":\"0\",\"marker\":{\"color\":[0,0,0,0,0,0,0,0,0,0,0,0,0,0,0,0,0,0,0,0,0,0,0,0,0,0,0,0,0,0,0,0,0,0,0,0,0,0,0,0,0,0,0,0,0,0,0,0,0,0,0,0,0,0,0,0,0,0,0,0,0,0,0,0,0,0,0,0,0,0,0,0,0,0,0,0,0,0,0,0,0,0,0,0,0,0,0,0,0,0,0,0,0,0,0,0,0,0,0,0,0,0,0,0,0,0,0,0,0,0,0,0,0,0,0,0,0,0,0,0,0,0,0,0,0,0,0,0,0,0,0,0,0,0,0,0,0,0,0,0,0,0,0,0,0,0,0,0,0,0,0,0,0,0,0,0,0,0,0,0,0,0,0,0,0,0,0,0,0,0,0,0,0,0,0,0,0,0,0,0,0,0,0,0,0,0,0,0,0,0,0,0,0,0,0,0,0,0,0,0,0,0,0,0,0,0,0,0,0,0,0,0,0,0,0,0,0,0,0,0,0,0,0,0,0,0,0,0,0,0,0,0,0,0,0,0,0,0,0,0,0,0,0,0,0,0,0,0,0,0,0,0,0,0,0,0,0,0,0,0,0,0,0,0,0,0,0,0,0,0,0,0,0,0,0,0,0,0,0,0,0,0,0,0,0,0],\"coloraxis\":\"coloraxis\",\"symbol\":\"circle\"},\"mode\":\"markers\",\"name\":\"0\",\"scene\":\"scene\",\"showlegend\":true,\"x\":[-0.33174932426490417,-0.3150584867139696,2.314262506438578,-0.4087260916447199,-0.3281649299708349,-0.3036739571540579,-0.25237831758330476,-0.24410910286432203,-0.33140829611464573,-0.32397408556460405,-0.33024349132768216,-0.3317452521107225,-0.33172950622860536,0.6822610021132368,-0.35857599469859885,-0.3165548341155635,-0.3107594128557661,-0.32980455954975896,-0.337221887367271,-0.40862061936568383,-0.5492878652975691,-0.019958277624367075,-0.266912865932098,-0.28020428156145266,-0.27495743409681983,-0.27558063797520044,-0.3505343466291864,-0.326040940111625,-0.330148154555151,0.02696484382183243,-0.3571402938313907,-0.4089928656426983,-0.238931744696955,-0.31151246146683226,-0.40890432756410494,-0.3069359644715923,-0.3304242415851763,-0.2646169052598583,-0.4088687632099126,-0.23940059596205093,-0.2753611509860675,-0.32283456948946543,0.035552024114164055,-0.35527032949603243,-0.30288424365062316,-0.35799664865866654,-0.2801845684172434,-0.2756561015252829,-0.2748282321972681,-0.3317313641296416,-0.27560821781049905,-0.3575857767575677,-0.33146524813678785,-0.4089743650076026,-0.737578499132812,-0.39727939354583397,-0.427771918716524,-0.2785831855464319,-0.27512894444723,-0.29621521903965026,-0.2465556324214955,-0.06670753743544469,-0.3036448245981638,-0.0858300021903245,-0.3037086627646495,-0.24219749026602416,-0.331340849835487,-0.27845158045473595,-0.40613764220953785,0.8751603626260414,-0.30350829852358613,-0.049814405295020125,-0.31623752860051785,-0.40681363942709026,-0.30224916849232963,-0.29991257395458165,-0.3637498462330091,-0.4077070291563454,-0.35089322022788805,-0.30759227635292247,-0.3313789999440973,-0.3298153045391116,-0.22305201490357277,-0.34505425322084815,-0.4084472477713259,-0.3305817877359998,-0.30368954611266985,-0.408963528404511,-0.33156854936396135,-0.33172558800718005,-0.2784419459937249,-0.23918409627667672,0.05561192270950126,-0.3151927438397591,-0.3313391280105662,-0.3950983480340394,-0.31452043329198903,-0.22448562394052074,-0.40617611060574466,-0.31426802335930365,-0.259462302013958,3.6668101338221186,-0.40855532186210974,0.8583715543879475,-0.4089183630174613,-0.3156573224390931,-0.3312664271603719,-0.33142098741435944,-0.31623752860051785,-0.40849238499590595,-0.30355200314495023,-0.33126718429420504,-0.41899787615282613,-0.3314148287377619,-0.32699354915441364,-0.40894739907653777,-0.3306238489714455,0.36421346294949886,-0.3316144778760217,-0.3316851970369345,-0.3419209401243329,-0.34384504761013907,-0.32790412643742667,-0.30366592210028237,-0.4088571908215901,-0.3314625927855716,-0.3315897418537754,-0.28009072947492186,-0.2629136196092953,-0.22425306324135688,-0.31240911969636975,-0.2798315209464462,-0.40812143354348146,-0.42312131182648,-0.40685775093995513,-0.31448095132691894,-0.40801915551070905,-0.3088708578621736,-0.4039522007099822,-0.33153294034056824,-0.33153210223469054,-0.32463930476311564,0.2814090754931273,-0.40849861682540034,-0.2626980347026816,-0.3162718413845132,-0.3307420630374615,0.8899592770717757,-0.2510659548672453,-0.34966937701222145,0.579425419015413,-0.36528824054581693,-0.3637876752880444,-0.4097431183200903,-0.275292735957376,0.13412230065685835,-0.27536366169043264,-0.31715100108131367,-0.40924721226974503,-0.40877154711809255,-0.28016518657098327,4.409027314191225,-0.31613778737068915,-0.33116745526652075,-0.33166809621459453,-0.38633458664888715,0.680842337270058,-0.40871221683685527,-0.34552415707097855,-0.33162359864053864,-0.2846802142834464,0.4388130277332045,-0.3020092621913317,-0.3500264177344927,-0.3984069681746702,-0.3315738388975892,-0.3915917400287902,-0.3173238175425675,-0.3314440535494562,-0.07855204661013612,-0.4075025156484274,3.6716752671625663,0.1952073561003405,-0.2720284984112827,-0.32889955767865714,-0.3138192137602738,-0.34180664338929795,0.08354438959979468,-0.33058071739310657,-0.4080849266591312,-0.34096968189144783,-0.3181238795774984,-0.3316902638156556,-0.35755765773880593,-0.3511756182349465,-0.3142264345959358,-0.3272275696576921,-0.21603284764502187,-0.3728499718364613,-0.40878876340494685,-0.33371489300708385,-0.27932343978235336,-0.34945543548407965,-0.3648864143843536,-0.33171766589000806,-0.33169934037770493,-0.27369451958635826,-0.36539637251565554,-0.31573150076772055,-0.33141530718934903,3.868786235897325,-0.3902576397989073,-0.3159205003678345,-0.3277169429615733,-0.27818178743256267,-0.3526466988961336,-0.2798588763710425,-0.134479230192787,-0.2801112713956212,-0.32490875907475025,-0.330888301225994,-0.19466597803480995,2.240724457715038,-0.3375054238659966,-0.251194249082674,0.9931756550236073,-0.3782844185694917,-0.3419203530687252,-0.39327929143412793,-0.1605905872017125,-0.33584040138591126,-0.3406375518215662,-0.3245793003488528,-0.35713426597061876,-0.4082611672127924,-0.277351560158449,-0.31501838364363605,-0.3616122249871089,-0.3569952578111096,-0.1909091666270222,-0.4919212351802182,-0.2824758906688607,0.49222261168118514,-0.14717492305148103,-0.39257261497703116,-0.33141932055657186,-0.3930295902154823,-0.34203754454494056,0.5768152911569383,-0.3576120642575109,-0.33090118374633354,-0.3281600389801519,-0.2795382039283016,-0.4058205615749758,-0.40848884022406295,3.683938357923953,0.1043337979002621,-0.4060246768442893,-0.3302852630047713,-0.33111211423136855,-0.2524109679660619,-0.3316314747937218,-0.40010158080780317,-0.2451578117705681,-0.0829803571883756,-0.39584130633389275,-0.3309085883516555,-0.3239604252212553,-0.40505132053117276,-0.32934475203436414,-0.316513639667107,-0.45106254588294814,-0.3021863452069436,3.6672027021456297,-0.0870493908391586,-0.32653453793228027,-0.35015939879166164,-0.2757635207773018,3.6770858447752723,3.6783319624893527,-0.2332736895343667,-0.31644940533636595,-0.22440117240951662,2.457840103443217,-0.329790648728461,-0.28050853193431363],\"y\":[1.0250580809617769,1.0253412708817504,1.776594480116027,1.2846769369397673,1.6261473329975473,0.9273445918420258,0.6592682889075361,1.9132187569896282,1.0250598481251816,1.025358854753524,1.025116331940191,1.025057897847691,1.0250581662861156,0.2138910142503201,1.0478823603004856,1.6274878422668522,-0.019238982582739043,1.02505155104395,1.0173908895428718,1.2846810169809713,1.7084689219289448,0.7670521900583308,0.9271333421223006,0.7569739291412013,1.8904823325149143,1.8904582247822872,0.5578347415664281,1.024992740340963,1.025053248966676,1.038934415130238,1.0166203750546834,1.2846816058897281,0.06858583888362949,1.5490743629238213,1.2846782181764727,1.0249278118510443,1.0250412062706058,0.17697788167383413,1.2846826599440508,0.06863583566624235,1.890466715316176,1.0247215991737209,0.34099177135306785,1.3087506527871335,0.9273437992960875,1.0479077557087333,0.7569857157334573,1.8904471295518162,0.7568522497357424,1.0250587757520213,1.8904503445356415,1.016589515475827,1.0250554433389492,1.2846823222411359,1.3618028961352007,2.2075778549348004,0.6570869318564103,0.7569795292833681,1.8904416310824674,0.9269667755396248,1.9133446664208555,1.0841617555482175,0.9273457187924388,1.2790932170115896,0.9273510846712317,1.59908232736744,1.0250452661115876,0.756902142706558,1.284530423662107,0.7342262749200936,0.9273387360546747,0.21136203112199353,1.627486490045748,1.28471480654996,0.9272629465243494,0.9271473834058539,1.5943189316031048,1.284636641561795,1.3564325381262752,1.0246298889451027,1.025042200546309,1.0250647621116433,1.6222868781031194,1.0166402680838913,1.2846686461974102,1.0250419251886234,0.9273446701420063,1.2846806974310236,1.0250507659456216,1.02505899919289,0.7570531265389945,0.18861848675716134,2.115797708474908,1.6274901138704172,1.0250739488339182,1.2841970915647198,1.6275392867196623,1.6223659848240553,2.121008966200882,1.6273712220389398,2.112122135050215,1.6347073090901123,1.2846780922308416,1.9337443749455727,1.2846818631857793,1.6274884943915486,1.025050502467067,1.0250421661062894,1.627486490045748,1.2846600867687799,0.9273506721270994,1.025054247780423,0.7471867210552195,1.0250519430510556,1.0247987331800377,1.2846799586983475,1.0250035059619056,0.7597597266890358,1.0250544399569244,1.0250583024918998,1.474945910901485,0.6647650415428282,1.0248661588090924,0.927345584002452,1.28468048173569,1.025055546057336,1.0250493102316152,0.7569518722707085,0.16298322589488332,1.6223667882144563,1.0251248924856597,0.7569759168950242,1.2846471830405541,2.0132143939124,1.2846892533970833,1.6274929228177186,1.2846511395170028,1.6275125512368613,1.2845359292902434,1.0250519989030349,1.0250469976952996,1.0246517856232145,0.6288253847571569,1.284673472421477,0.756299484580364,1.6274783493448068,1.0250255051310224,1.8960067563451517,0.6591912478575834,1.3564345718647772,1.999103062959876,1.5943139279517178,1.5942970281584228,2.055091661311128,1.8904489217688367,1.0090128401619893,1.8904537421758594,1.4673731552635725,2.055110844713036,1.28468369030832,0.7569746062299355,2.958667851891507,1.6274620048319166,1.0250477139141883,1.0250583615673865,1.6262880567755489,1.454938263806164,1.2846740669859806,0.5577585876369324,1.0250522248150222,0.7710469748492719,1.0378327587282452,0.9273558439219435,1.5940935193417665,1.8173062411793584,1.0250505613277319,1.742965493902516,1.4314384778042775,1.0250598141563234,0.6598689963788554,1.2846411461879312,1.6346400086378303,1.5955626126773637,1.890452553537638,1.025025239472042,1.326225788922979,1.4749469256234116,1.0070563074784147,1.025001086427496,1.2846826620609189,1.4749111686479885,1.0249719589485384,1.025057640313307,1.0165899218829393,1.3564274053282794,0.09412368028277175,1.0250749284946703,1.6221496026880167,1.0213682437257137,1.284672468565888,1.3617809174273974,0.7569345415621535,1.2699236829384137,1.594302218566557,1.0250572616401434,1.0250566078636527,0.7568961057537285,1.3794587870216068,1.6274597341394899,1.0250505618706613,1.62644424512057,1.7430171016231273,1.6274578736545267,0.5819577032200386,1.0236404927346365,0.7342069058007478,0.756980599916495,1.0257395585311644,0.7569585723335417,2.1146364094908185,1.0250341561781198,1.6452414669177813,0.12236552369909078,1.4746840702834374,0.659254297311474,1.5270201646472565,0.8500430649784281,1.4749418455942962,1.7430329710959898,0.7501110810734941,1.0391155721790086,1.474937643337008,1.024654106806419,1.016583134748383,1.2846758444522794,0.7569181591388429,1.6274041970310684,0.9840383228634696,1.0165578519518512,1.018242227234018,1.9869586575512634,1.0937027642322632,0.7291154990839823,1.024742579031955,1.7430270252565472,1.0250565386442736,1.7430331700722408,1.4749425108074656,1.009240637311954,1.016588702983081,1.0250336578366193,1.3616960109671377,2.113052956337772,1.2845181613642878,1.2846806639759965,1.6347737203608885,1.0180805568466482,1.2847964266234098,1.0249784488445512,1.0250457638783756,0.6592612345183051,1.025062639825218,1.2846848849021535,1.0212537182813217,0.9357673372460276,1.2845090193552162,1.0250803835909144,1.0250868487454385,1.2846923615839776,1.025042084582857,1.6274833037891114,0.7063683751257582,0.9273455870434106,1.6346987038565075,0.7576374872457248,1.0250554065611126,0.5578108197844266,1.8904510684676272,1.6351899769855758,1.6352381812309518,0.6593345041701071,1.6274860378740863,2.2659816992079054,0.7670893215039346,1.0249635154712489,0.756972502341446],\"z\":[-0.6134131763466592,-0.6136619188479092,-0.5961691297056626,-0.4275094855129269,-0.02899379308938745,-0.3541048834886275,-0.0009453221731323458,-0.6287346408801077,-0.6134177626247469,-0.613549890882699,-0.613439653896925,-0.6134132059053069,-0.6134134407233489,-0.3475731088067397,-0.4774149824635557,0.027758284920260907,-0.5476714680484257,-0.6134372805231609,-0.07470630908771414,-0.4275113400660626,-1.0219827782564825,-0.2648331909941105,-0.3545496760287136,-0.2602558408423781,-0.5770608779012978,-0.5770499199062866,-0.3206951674839119,-0.6134782293265848,-0.6134330890442808,-0.6197205633879219,-0.07435607731567642,-0.42750664471852895,0.20763045207786143,-0.14852092949416915,-0.4275073606585009,-0.6137149276279352,-0.6134280663293409,-0.6504051923902938,-0.4275083644200086,0.20763028666359015,-0.577053779216884,-0.6134858335873048,-0.10654599074319927,0.16322202968785587,-0.35411490096251236,-0.47742553762276535,-0.26025754810222856,-0.5770475838810265,-0.26030968340418453,-0.6134134921490497,-0.5770485940233928,-0.07434656237006057,-0.6134164894769853,-0.4275069701052632,-1.4149286822181466,-0.6120283917725323,-0.07947614974928419,-0.26027729635684776,-0.5770536574907066,-0.35415378917771395,-0.6287188440839602,-0.49565417161838876,-0.35410539573576366,-0.430956232060224,-0.354105240327077,-0.46523535780198944,-0.6134168267494436,-0.2602694306389333,-0.4275245571087366,-0.27224706738598436,-0.3541062826298736,-0.33788395152172956,0.027754387510428857,-0.427538655807707,-0.354113056284817,-0.3541287219353282,-0.46309049504095956,-0.4275175650460775,-0.055415317889738865,-0.613669749974432,-0.6134159597249874,-0.613438773466033,-0.2238944208920385,-0.07451334046020212,-0.4275120338890988,-0.6134261370822477,-0.3541046934767091,-0.42750690836743066,-0.6134145890043797,-0.6134135937124757,-0.2602881891949524,-0.3952654776036095,-0.7459259041636962,0.027740557786465905,-0.6134203889633749,-0.42762481593024565,0.02772587713612146,-0.22388582179149313,-0.9858637433319157,0.02774338741449102,-0.7414365199586004,-0.14977818615681182,-0.42751181546295536,-0.5969170877224641,-0.42750763076554427,0.027746708371391763,-0.6134184263118296,-0.6134154176645199,0.027754387510428857,-0.42751039928896073,-0.3541071960328943,-0.6134188788784112,-0.12215569177013175,-0.6134167032673616,-0.6134420822382357,-0.42750702378706334,-0.6134208564421434,-0.26885390466012277,-0.6134144541787188,-0.6134140250827346,-0.14746884211496813,-0.41253439198129566,-0.6134387408178825,-0.3541051088653465,-0.42750824380364216,-0.6134165361668831,-0.6134141378824939,-0.2602545729450541,-0.3603429477694076,-0.22388889977663393,-0.613669147637146,-0.2602608608020464,-0.4275135580971414,-0.6897249948854647,-0.42753493689862737,0.027731093874489354,-0.42751535648481465,0.027656812594611377,-0.4275532295544124,-0.6134151972912797,-0.6134145907533357,-0.6134541003442824,-0.004025096340058909,-0.42751197158817983,-0.2603968319215847,0.027755831780933507,-0.6134220575032564,-0.6411363244873116,-0.0009526232070912887,-0.055431244884147704,-0.6707471175111922,-0.46307017245900406,-0.463087307067237,-0.7113587516185843,-0.5770524593671889,-0.6174000588267414,-0.5770521458504305,-0.019577251532006196,-0.7113674712947841,-0.427509736815396,-0.2602564251724004,4.306628060055988,0.02775613202625524,-0.613419349847857,-0.6134142514153745,-0.028266077556758053,-0.10005775226575418,-0.4275093090092801,-0.32074994278832814,-0.6134140639490825,-0.008387745928353528,-0.6248598786199532,-0.3541275950432389,-0.46323845442556005,-0.5012437133804268,-0.6134144959968019,-0.5006422150535176,0.06374043395898886,-0.6134173004218005,-0.0032459728220026137,-0.4275207406042474,-0.14983219620174687,-0.4704035752092744,-0.5770947186305023,-0.6134456250235624,-0.10991137116054854,-0.1474704313624914,-0.6165107310862225,-0.6134211102759648,-0.4275184046981992,-0.1474767385492965,-0.613577072546443,-0.6134138784540428,-0.07434697270207181,-0.05541106719148418,-0.52490603587657,-0.6134731740657418,-0.22396738491158777,-0.7187230157116834,-0.4275081312538073,-0.6667115099099562,-0.26026226197701985,0.13394477501495655,-0.46307387414716245,-0.6134134807282965,-0.6134136347641471,-0.2603296178390711,-0.013726908354637204,0.02775120823632429,-0.6134165266670439,-0.3930097330306979,-0.500665672968609,0.027753858727120273,0.08929608519543562,-0.6139243474352766,-0.31868160861175077,-0.26026108841249895,-0.6160240836085235,-0.2602551367813489,-0.7409085522666935,-0.6134212521192343,-0.2755635716902888,-0.5914840882410607,-0.14749308201621758,-0.0009587617768124271,-0.07148545438287321,-0.2638739211206973,-0.14746834787470947,-0.5006289278801481,-0.2609409047750026,-0.3615480911666171,-0.1474842603750416,-0.613455155421272,-0.07435155814790273,-0.4275153058036405,-0.26028549741979246,0.027748928708167624,-0.5592066798903138,-0.07435021815340334,-0.614375926375483,-0.024004811848044916,-0.31355099477060216,-0.9556715145786449,-0.07804796622291624,-0.5006372457036736,-0.6134172129426826,-0.500632150815324,-0.14746692889464413,-0.6230985470069688,-0.0743461253765937,-0.6134210256017195,-0.666772181441076,-0.7412942578920214,-0.42752710506403113,-0.42751298443106256,-0.1500057751988317,-0.6181376845817647,-0.42755883542462253,-0.6134221006571466,-0.6134198180181172,-0.0009440332738271884,-0.6134152485354948,-0.4276209362474258,-0.614052758240824,-0.35797128255942007,-0.42765379914180857,-0.6134266978745916,-0.6135164935671403,-0.4275584587578609,-0.6134420017161865,0.02775831742894293,0.26044527674908324,-0.35412406086652715,-0.1497821523923408,-0.2628118255217752,-0.6134796414896693,-0.3206970175799149,-0.5770466941276755,-0.14996937902209168,-0.14999128991220148,-0.0011982024142609847,0.027757157209418078,0.19100665384040488,-0.07972317599308935,-0.6134265929309428,-0.2602517676533331],\"type\":\"scatter3d\"},{\"customdata\":[[\"SHA-256\"],[\"Ethash\"],[\"Scrypt\"],[\"CryptoNight-V7\"],[\"Ethash\"],[\"Equihash\"],[\"Multiple\"],[\"Scrypt\"],[\"X11\"],[\"Scrypt\"],[\"Multiple\"],[\"Scrypt\"],[\"SHA-256\"],[\"Scrypt\"],[\"Scrypt\"],[\"Quark\"],[\"Groestl\"],[\"Scrypt\"],[\"Scrypt\"],[\"Scrypt\"],[\"X11\"],[\"Multiple\"],[\"SHA-256\"],[\"Scrypt\"],[\"Scrypt\"],[\"Scrypt\"],[\"Scrypt\"],[\"Scrypt\"],[\"NeoScrypt\"],[\"Scrypt\"],[\"Scrypt\"],[\"Scrypt\"],[\"Scrypt\"],[\"SHA-256\"],[\"Scrypt\"],[\"Scrypt\"],[\"Scrypt\"],[\"Scrypt\"],[\"HybridScryptHash256\"],[\"Scrypt\"],[\"Scrypt\"],[\"SHA-256\"],[\"Scrypt\"],[\"Scrypt\"],[\"Scrypt\"],[\"Scrypt\"],[\"SHA-256\"],[\"SHA-256\"],[\"SHA-256\"],[\"SHA-256\"],[\"SHA-256\"],[\"X11\"],[\"Scrypt\"],[\"Lyra2REv2\"],[\"Scrypt\"],[\"SHA-256\"],[\"CryptoNight\"],[\"CryptoNight\"],[\"Scrypt\"],[\"Scrypt\"],[\"Scrypt\"],[\"Scrypt\"],[\"Scrypt\"],[\"Scrypt\"],[\"Stanford Folding\"],[\"Multiple\"],[\"QuBit\"],[\"Scrypt\"],[\"Scrypt\"],[\"M7 POW\"],[\"Scrypt\"],[\"SHA-256\"],[\"Scrypt\"],[\"X11\"],[\"Lyra2RE\"],[\"SHA-256\"],[\"X11\"],[\"Scrypt\"],[\"Scrypt\"],[\"Ethash\"],[\"Blake2b\"],[\"X11\"],[\"SHA-256\"],[\"Scrypt\"],[\"1GB AES Pattern Search\"],[\"Scrypt\"],[\"SHA-256\"],[\"X11\"],[\"Dagger\"],[\"Scrypt\"],[\"X11GOST\"],[\"Scrypt\"],[\"X11\"],[\"Scrypt\"],[\"X11\"],[\"Equihash\"],[\"CryptoNight\"],[\"SHA-256\"],[\"Multiple\"],[\"Scrypt\"],[\"SHA-256\"],[\"Scrypt\"],[\"Lyra2Z\"],[\"Ethash\"],[\"Equihash\"],[\"Scrypt\"],[\"X11\"],[\"X11\"],[\"CryptoNight\"],[\"Scrypt\"],[\"CryptoNight\"],[\"Lyra2RE\"],[\"X11\"],[\"CryptoNight-V7\"],[\"Scrypt\"],[\"X11\"],[\"Equihash\"],[\"Scrypt\"],[\"Lyra2RE\"],[\"Dagger-Hashimoto\"],[\"Scrypt\"],[\"NIST5\"],[\"Scrypt\"],[\"SHA-256\"],[\"Scrypt\"],[\"CryptoNight-V7\"],[\"Argon2d\"],[\"Blake2b\"],[\"Cloverhash\"],[\"CryptoNight\"],[\"X11\"],[\"Scrypt\"],[\"Scrypt\"],[\"X11\"],[\"X11\"],[\"CryptoNight\"],[\"Time Travel\"],[\"Scrypt\"],[\"Keccak\"],[\"X11\"],[\"SHA-256\"],[\"Scrypt\"],[\"Scrypt\"],[\"Scrypt\"],[\"Scrypt\"],[\"Scrypt\"],[\"Scrypt\"],[\"CryptoNight\"],[\"Equihash\"],[\"X11\"],[\"NeoScrypt\"],[\"Equihash\"],[\"Dagger\"],[\"Scrypt\"],[\"X11\"],[\"NeoScrypt\"],[\"Ethash\"],[\"NeoScrypt\"],[\"Multiple\"],[\"CryptoNight\"],[\"CryptoNight\"],[\"Ethash\"],[\"X11\"],[\"CryptoNight-V7\"],[\"Scrypt\"],[\"BLAKE256\"],[\"X11\"],[\"NeoScrypt\"],[\"NeoScrypt\"],[\"Scrypt\"],[\"X11\"],[\"SHA-256\"],[\"C11\"],[\"Ethash\"],[\"CryptoNight\"],[\"SkunkHash\"],[\"CryptoNight\"],[\"Scrypt\"],[\"Dagger\"],[\"Lyra2REv2\"],[\"Scrypt\"],[\"Scrypt\"],[\"X11\"],[\"Ethash\"],[\"CryptoNight\"],[\"Scrypt\"],[\"IMesh\"],[\"Equihash\"],[\"Lyra2Z\"],[\"X11\"],[\"CryptoNight\"],[\"NIST5\"],[\"Lyra2RE\"],[\"Tribus\"],[\"Lyra2Z\"],[\"CryptoNight\"],[\"CryptoNight Heavy\"],[\"CryptoNight\"],[\"Jump Consistent Hash\"],[\"CryptoNight\"],[\"X16R\"],[\"HMQ1725\"],[\"X11\"],[\"Scrypt\"],[\"CryptoNight-V7\"],[\"Cryptonight-GPU\"],[\"XEVAN\"],[\"CryptoNight Heavy\"],[\"SHA-256\"],[\"X11\"],[\"X16R\"],[\"Equihash\"],[\"Lyra2Z\"],[\"SHA-256\"],[\"CryptoNight\"],[\"Blake\"],[\"Blake\"],[\"Equihash\"],[\"Exosis\"],[\"Scrypt\"],[\"Equihash\"],[\"Equihash\"],[\"QuBit\"],[\"SHA-256\"],[\"X13\"],[\"SHA-256\"],[\"Scrypt\"],[\"NeoScrypt\"],[\"Blake\"],[\"Scrypt\"],[\"SHA-256\"],[\"Scrypt\"],[\"Groestl\"],[\"Scrypt\"],[\"Scrypt\"],[\"Multiple\"],[\"Equihash+Scrypt\"],[\"Ethash\"],[\"CryptoNight\"],[\"Equihash\"]],\"hovertemplate\":\"<b>%{hovertext}</b><br><br>Class=%{marker.color}<br>PC 1=%{x}<br>PC 2=%{y}<br>PC 3=%{z}<br>Algorithm=%{customdata[0]}<extra></extra>\",\"hovertext\":[\"Bitcoin\",\"Ethereum\",\"Litecoin\",\"Monero\",\"Ethereum Classic\",\"ZCash\",\"DigiByte\",\"ProsperCoin\",\"Spreadcoin\",\"Argentum\",\"MyriadCoin\",\"MoonCoin\",\"ZetaCoin\",\"SexCoin\",\"Quatloo\",\"QuarkCoin\",\"Riecoin\",\"Digitalcoin \",\"Catcoin\",\"CannaCoin\",\"CryptCoin\",\"Verge\",\"DevCoin\",\"EarthCoin\",\"E-Gulden\",\"Einsteinium\",\"Emerald\",\"Franko\",\"FeatherCoin\",\"GrandCoin\",\"GlobalCoin\",\"GoldCoin\",\"Infinite Coin\",\"IXcoin\",\"KrugerCoin\",\"LuckyCoin\",\"Litebar \",\"MegaCoin\",\"MediterraneanCoin\",\"MinCoin\",\"NobleCoin\",\"Namecoin\",\"NyanCoin\",\"RonPaulCoin\",\"StableCoin\",\"SmartCoin\",\"SysCoin\",\"TigerCoin\",\"TerraCoin\",\"UnbreakableCoin\",\"Unobtanium\",\"UroCoin\",\"ViaCoin\",\"Vertcoin\",\"WorldCoin\",\"JouleCoin\",\"ByteCoin\",\"DigitalNote \",\"MonaCoin\",\"Gulden\",\"PesetaCoin\",\"Wild Beast Coin\",\"Flo\",\"ArtByte\",\"Folding Coin\",\"Unitus\",\"CypherPunkCoin\",\"OmniCron\",\"GreenCoin\",\"Cryptonite\",\"MasterCoin\",\"SoonCoin\",\"1Credit\",\"MarsCoin \",\"Crypto\",\"Anarchists Prime\",\"BowsCoin\",\"Song Coin\",\"BitZeny\",\"Expanse\",\"Siacoin\",\"MindCoin\",\"I0coin\",\"Revolution VR\",\"HOdlcoin\",\"Gamecredits\",\"CarpeDiemCoin\",\"Adzcoin\",\"SoilCoin\",\"YoCoin\",\"SibCoin\",\"Francs\",\"BolivarCoin\",\"Omni\",\"PizzaCoin\",\"Komodo\",\"Karbo\",\"ZayedCoin\",\"Circuits of Value\",\"DopeCoin\",\"DollarCoin\",\"Shilling\",\"ZCoin\",\"Elementrem\",\"ZClassic\",\"KiloCoin\",\"ArtexCoin\",\"Kurrent\",\"Cannabis Industry Coin\",\"OsmiumCoin\",\"Bikercoins\",\"HexxCoin\",\"PacCoin\",\"Citadel\",\"BeaverCoin\",\"VaultCoin\",\"Zero\",\"Canada eCoin\",\"Zoin\",\"DubaiCoin\",\"EB3coin\",\"Coinonat\",\"BenjiRolls\",\"ILCoin\",\"EquiTrader\",\"Quantum Resistant Ledger\",\"Dynamic\",\"Nano\",\"ChanCoin\",\"Dinastycoin\",\"DigitalPrice\",\"Unify\",\"SocialCoin\",\"ArcticCoin\",\"DAS\",\"LeviarCoin\",\"Bitcore\",\"gCn Coin\",\"SmartCash\",\"Onix\",\"Bitcoin Cash\",\"Sojourn Coin\",\"NewYorkCoin\",\"FrazCoin\",\"Kronecoin\",\"AdCoin\",\"Linx\",\"Sumokoin\",\"BitcoinZ\",\"Elements\",\"VIVO Coin\",\"Bitcoin Gold\",\"Pirl\",\"eBoost\",\"Pura\",\"Innova\",\"Ellaism\",\"GoByte\",\"SHIELD\",\"UltraNote\",\"BitCoal\",\"DaxxCoin\",\"AC3\",\"Lethean\",\"PopularCoin\",\"Photon\",\"Sucre\",\"SparksPay\",\"GunCoin\",\"IrishCoin\",\"Pioneer Coin\",\"UnitedBitcoin\",\"Interzone\",\"1717 Masonic Commemorative Token\",\"TurtleCoin\",\"MUNcoin\",\"Niobio Cash\",\"ShareChain\",\"Travelflex\",\"KREDS\",\"BitFlip\",\"LottoCoin\",\"Crypto Improvement Fund\",\"Callisto Network\",\"BitTube\",\"Poseidon\",\"Aidos Kuneen\",\"Bitrolium\",\"Alpenschillling\",\"FuturoCoin\",\"Monero Classic\",\"Jumpcoin\",\"Infinex\",\"KEYCO\",\"GINcoin\",\"PlatinCoin\",\"Loki\",\"Newton Coin\",\"MassGrid\",\"PluraCoin\",\"Motion\",\"PlusOneCoin\",\"Axe\",\"HexCoin\",\"Webchain\",\"Ryo\",\"Urals Coin\",\"Qwertycoin\",\"Project Pai\",\"Azart\",\"Xchange\",\"CrypticCoin\",\"Actinium\",\"Bitcoin SV\",\"FREDEnergy\",\"Universal Molecule\",\"Lithium\",\"PirateCash\",\"Exosis\",\"Block-Logic\",\"Beam\",\"Bithereum\",\"SLICE\",\"BLAST\",\"Bitcoin Rhodium\",\"GlobalToken\",\"SolarCoin\",\"UFO Coin\",\"BlakeCoin\",\"Crypto Escudo\",\"Crown Coin\",\"SmileyCoin\",\"Groestlcoin\",\"Bata\",\"Pakcoin\",\"JoinCoin\",\"Vollar\",\"Reality Clash\",\"Beldex\",\"Horizen\"],\"legendgroup\":\"3\",\"marker\":{\"color\":[3,3,3,3,3,3,3,3,3,3,3,3,3,3,3,3,3,3,3,3,3,3,3,3,3,3,3,3,3,3,3,3,3,3,3,3,3,3,3,3,3,3,3,3,3,3,3,3,3,3,3,3,3,3,3,3,3,3,3,3,3,3,3,3,3,3,3,3,3,3,3,3,3,3,3,3,3,3,3,3,3,3,3,3,3,3,3,3,3,3,3,3,3,3,3,3,3,3,3,3,3,3,3,3,3,3,3,3,3,3,3,3,3,3,3,3,3,3,3,3,3,3,3,3,3,3,3,3,3,3,3,3,3,3,3,3,3,3,3,3,3,3,3,3,3,3,3,3,3,3,3,3,3,3,3,3,3,3,3,3,3,3,3,3,3,3,3,3,3,3,3,3,3,3,3,3,3,3,3,3,3,3,3,3,3,3,3,3,3,3,3,3,3,3,3,3,3,3,3,3,3,3,3,3,3,3,3,3,3,3,3,3,3,3,3,3,3,3,3,3,3,3,3,3,3,3,3,3,3,3,3,3,3,3,3,3,3,3,3,3],\"coloraxis\":\"coloraxis\",\"symbol\":\"diamond\"},\"mode\":\"markers\",\"name\":\"3\",\"scene\":\"scene\",\"showlegend\":true,\"x\":[-0.1345703213096268,-0.14616142864191406,-0.1614740816961868,-0.16171626471577835,-0.14460016228976705,-0.17191397503400213,0.16580270442325093,-0.16262241203788033,-0.23980722927579673,-0.16223817322102602,-0.08808340173526699,2.5650562546914193,-0.13164998183728008,-0.15948844065695356,-0.16204175434916332,-0.21955048399565982,-0.18853737690696737,-0.1620907916760466,-0.16260464924935084,-0.16269127340300704,-0.23989672396772918,0.18957447072024058,0.24396569275585483,0.08649169430533675,-0.16243712786898357,-0.15803429759128118,-0.162376283315235,-0.16274837584016785,-0.17675313905306578,-0.1419318736681473,-0.16154131230128096,-0.16181920254045618,1.5893284633773748,-0.13453162798974505,-0.1591034940137654,-0.1624636160291227,-0.16281907341474217,-0.16207697344238367,-0.18343939635628287,-0.16270011574093457,-0.027331739584401455,-0.13460936460002743,-0.15635255819623775,-0.16267948402308513,-0.1607698969268177,-0.16216528425471044,-0.12173744375058813,-0.13407216769709246,-0.13435985725347369,-0.13434267729701194,-0.13493463121104465,-0.2400709658338065,-0.16239550568743016,-0.16624644491850166,-0.15949310658132954,-0.13413957905517315,3.87001726063364,0.4628312015114393,-0.16126096385859015,-0.14582915860399384,-0.15997747919101876,-0.16282128169960078,-0.15984232240101923,-0.14604054850819925,-0.1593098394086959,-0.12215245086606161,-0.1757899252114907,-0.16269415046685243,-0.035389629126982965,-0.09880953671222549,-0.1628301959417608,-0.13463718726155946,0.49071790157466383,-0.23945703711400101,-0.14949943878839875,-0.13437650861310793,-0.2397424421737765,-0.1609501734976755,-0.1601409592831881,-0.14723056064835952,0.3532463443653652,-0.23977791448304914,-0.13453275216503374,-0.1587807336435366,-0.16017092869171723,-0.16139091329667488,0.284709000135748,-0.23893702746065548,-0.12324068323835115,-0.16163843766051594,-0.13534962087700736,-0.16261969633538245,-0.23974106579735963,-0.1628302545425831,-0.23989128068076157,-0.3549329880887371,0.3074478363623139,-0.13479330049324575,-0.10218821115956375,-0.15999164270158997,-0.13475185966219233,-0.16249300180589002,-0.15399875792186185,-0.1469722649361611,-0.17193562724902392,-0.08940119365451475,-0.22645107391188599,-0.2377151706931965,0.3074422305061917,-0.1628119551781036,0.30757317340203877,-0.15004096231608746,0.47687515288215093,-0.16047829731139962,-0.1627801884207524,-0.23261003000168265,-0.17194803650171464,-0.16091007233875604,-0.14975884496977815,-0.14934162151001926,-0.13364226939626186,-0.19603652552686554,-0.16234173882989558,-0.10105475222278433,-0.16216338387067566,-0.16033608775697433,-0.17196070301313546,-0.04770664877854253,-0.12186973209742802,0.3436300726323054,-0.238945377475916,-0.16248335299996666,-0.1622461496494603,-0.2393408424482992,-0.23991938066577123,0.30783797851436834,-0.14893296075710455,3.253129870028765,-0.13242110089373876,-0.23077279741813062,-0.13456948416726192,-0.08824526684195431,1.5870307964329404,-0.1625813571299047,-0.1620318796218546,-0.1617323112568874,-0.16171922092165716,0.3080220116045483,0.040798593021163634,-0.19422575343306692,-0.18145060707316504,-0.17179382304259863,-0.12199730956225562,-0.16090827858018494,-0.23545537870879232,-0.1812957032739771,-0.14533390206246818,-0.18139611850984574,-0.11236602026359854,1.1470509769095076,0.3074249418234818,-0.07006627405381663,-0.23519581919348692,-0.14942725256537095,-0.07881549746849752,1.109461138276146,-0.23989333376029928,-0.181448183150611,-0.17447301873561247,-0.16183098265209425,-0.2398186084398908,-0.13454885102247666,-0.20390868731994993,-0.26512282166300777,8.06141837880018,-0.12381650356775238,0.31130682909502444,0.030559877034732442,-0.12149991757716538,-0.15177737553852377,-0.16240572643349097,0.14523565351330409,-0.23394828578979635,-0.09827386033093843,0.31536448669522327,-0.162643190478076,-0.11356748558764365,-0.17078309789013194,-0.15177767189525998,-0.23898621630692995,0.3076077786862689,-0.19609618070398202,-0.14988589100153032,-0.17750260669913626,-0.15408331053445778,0.3115444561796322,0.5582734564070241,2.1196913457607294,-0.13669945852711562,0.3212383633864019,-0.2101592213187168,-0.11321258060268959,-0.23987546066204163,-0.16266780842904818,-0.14930427029173693,-0.11609111719135197,-0.1635668513591203,3.0855923801052882,-0.09432443430445568,-0.23984676544559413,-0.20958573537699388,-0.0663417333331141,-0.15347982127176604,-0.13456952179389414,0.38752645870952895,-0.15728866242618,-0.15768160874735607,-0.28891772243504615,-0.1343794952080888,-0.16155795401569906,-0.16984990949023912,-0.17162633451014672,-0.17499925866162605,-0.13384433262435952,-0.10682970929272843,-0.13271005849304662,0.534730536487724,-0.10647777430259066,-0.10804162105668395,-0.14619137991163556,-0.1343592266790146,0.5543515951137912,-0.18809758742525817,-0.1627448326564348,-0.16069658645358642,-0.12288852339651374,-0.13385819501462143,-0.14700548357504972,0.32922242500298843,-0.17191503370366124],\"y\":[-1.2639329280980496,-2.073019500535271,-1.1662320306213987,-2.271523502814203,-2.073102185804933,-2.030050994690318,-1.857750180046732,-1.1662335279308997,-0.9066070493564783,-1.1662479616651114,-1.8546260077505725,-1.3223360119998415,-1.2639213388321355,-1.1662683207873277,-1.166264891587145,-0.4482310926198937,-1.143413920543415,-1.1662314721493603,-1.1662328408033458,-1.1662308364306069,-0.9066091486558481,-1.8538020650082083,-1.2635835647364826,-1.1657806414885272,-1.166226360483201,-1.1662459947837467,-1.1662315014974864,-1.1662317479637243,-1.633488874964318,-1.1663867491974682,-1.1662250926339017,-1.1662373724887647,-1.1601766071144721,-1.2639314313034302,-1.1662639364358423,-1.166226703802927,-1.1662277472349931,-1.1662267364927856,-2.225039076099976,-1.1662290390882035,-1.171205739076542,-1.2639344384307623,-1.1662062899907428,-1.1662357356773652,-1.1663178920531658,-1.1662364209597795,-1.2640272253515357,-1.26393138064521,-1.263939094661176,-1.2639643208512914,-1.2639328831709662,-0.9066036248984415,-1.1662261130620375,-1.1521651238463941,-1.1662790080294774,-1.2639326175288046,-2.2526190331115266,-2.265550088874644,-1.166238176287197,-1.166714242011134,-1.166230269293031,-1.1662287034068013,-1.1662206899375256,-1.1662591107756008,-2.271489439690275,-1.8545812470083691,-1.5265000066785293,-1.166224291982909,-1.1681107662933747,-2.095540379544632,-1.1662276797627127,-1.2639355147098237,-1.203628624088449,-0.9066023600529685,-2.2196957930001946,-1.2639477513072184,-0.9066052244980733,-1.1662977758660515,-1.1662935625181978,-2.0730723772853397,-2.303159942893575,-0.906603190012113,-1.263931474790511,-1.1662136907303797,-2.2277850537642054,-1.1662288133732261,-1.262434176515455,-0.9066169923792642,-2.1194776899158296,-1.1662958600775049,-2.01408603885854,-1.166232741541815,-0.9066078965993453,-1.1662276799651516,-0.906613707442909,-1.3790995403031612,-2.26475432001034,-1.263933879152594,-1.8546265628436827,-1.1662537196193112,-1.263932890842714,-1.1662346539097836,-2.2342569861361863,-2.0730687213337404,-2.030051832274661,-1.1702001248509053,-0.906417427302396,-0.906667839031078,-2.2647620315617636,-1.1662284014136939,-2.2647596915713017,-2.2196787299193534,-0.9470032201308454,-2.2716016610294862,-1.1662276125112971,-0.9069963455794586,-2.0300495869641075,-1.166221114119976,-2.2196753113192313,-2.1547720838906645,-1.1678235097293101,-0.596984607566025,-1.1662325637700737,-1.2643254593982303,-1.1662505192369998,-2.2715416529726866,-2.3052822984622363,-2.318902071003455,-2.072419740914321,-2.2647105218307617,-0.9066282167649612,-1.166226974556578,-1.1662557649186656,-0.9066162613064834,-0.9066106382996366,-2.2647692067187406,-2.281529521492857,-1.1703530465344272,-1.208072793082691,-0.9069934085275734,-1.2639328957144156,-1.1704960775571112,-1.098536438679478,-1.1662312584455978,-1.1662536082201875,-1.1662529212326749,-1.1662524148521578,-2.2647858587259524,-2.036116269360288,-0.9060565747296114,-1.6334600568061417,-2.0300463467858627,-2.119515649155764,-1.1662210447310433,-0.9066635452795089,-1.633466328628447,-2.0731782629840763,-1.633461219408845,-1.8546523550449134,-2.290182252534125,-2.264756908992408,-2.0768892314849943,-0.9067897718176877,-2.271729103146339,-1.1663839521587431,-1.129465544829437,-0.9066102439155942,-1.6334558750236565,-1.6335124109568948,-1.1662322100921436,-0.9066095335511252,-1.2639315293170141,-1.1699187311600636,-0.14986979478087012,-2.6461325675080296,-2.1750369571726615,-2.2648271560751048,-1.1655596058841309,-2.119458044463177,-1.152297646485252,-1.1662380911503218,-1.1668515196374922,-0.9067074460036088,-2.0755957244611185,-2.2651225986799317,-1.1662343317145383,-2.0491456446577216,-2.030040633826957,-2.234360886900799,-0.9066297965555449,-2.2647538560981424,-0.5969683474682027,-2.2196838233641656,-2.23599823665157,-2.2342528303671716,-2.2649978369004566,-2.2601684386709877,-2.3200093527247936,-2.041369687345081,-2.2648953763315696,-1.3412317847845328,-2.030957567579765,-0.9066103701241849,-1.1662360370796252,-2.2722357010906595,-2.0923024268145665,-0.8295590829487575,-2.2879866633667363,-1.2637925724322225,-0.9066119854359953,-1.3412626929561065,-2.0311309328502194,-2.2342795634687658,-1.2639328971699475,-2.2671549776567494,-2.235438884201753,-2.235399651997462,-0.10688169007960653,-2.0794881065187285,-1.1662598031991558,-2.030135896394833,-2.0300466034250397,-1.5265375545064588,-1.2639341417372962,-0.3008350512615569,-1.2639611229517314,-1.2060822097197836,-1.6332667904850338,-2.2382315648928865,-1.1662649454683425,-1.2639390702683235,-1.1725509314651321,-1.1434112159870995,-1.166227362216345,-1.1662687252899362,-1.8546116286411678,-2.2073910468929707,-2.0730688360888383,-2.264859210669413,-2.03005103564341],\"z\":[0.1897010963710619,0.3793965728617245,-0.06962064925899374,0.3313586809195585,0.3793867803039956,0.45029475189595075,0.3949885952491947,-0.06960575570361484,0.11629965918466821,-0.06960889586649148,0.3978549749127033,-0.08527716697749609,0.18966225988183136,-0.06964160385993792,-0.06960932218705339,0.043116148183080905,0.06638133694677013,-0.06961281886460766,-0.06960606803246087,-0.06960520586906568,0.11630106461118313,0.3941968117795576,0.18480937871000988,-0.07285250948243142,-0.06960901361498034,-0.0696629852912366,-0.06960915843289517,-0.06960436194874807,0.22305658769020853,-0.06985186566503179,-0.0696206444343962,-0.06961556935120726,-0.09279374361189016,0.18970041601392632,-0.06964707570777781,-0.06960863195888291,-0.06960395018579668,-0.0696135803572849,0.2794484970906849,-0.06960531444583465,-0.0707249746317734,0.18970178288184406,-0.06968942693536764,-0.06960475218847192,-0.06961907160059301,-0.06961125389703325,0.18954836104397377,0.18969452461982217,0.18969916168287354,0.1897020551655818,0.18970575720386626,0.11630261467423263,-0.06960957728368877,0.18225200027491625,-0.06964022502420573,0.18969554074151368,0.35502593965418877,0.4002639666181222,-0.0696226205182227,-0.06976152532904549,-0.0696400363543526,-0.06960380388496727,-0.0696429498826741,-0.0698149921587439,0.27617794168202686,0.3982858344547223,0.13128347877309737,-0.06960597676446599,-0.07100375903057592,0.32674135719838004,-0.0696038160471653,0.18970227209668505,-0.07335878810427884,0.1162945948618867,0.32179521404629297,0.18970044341189402,0.11629860410590963,-0.06961924530791347,-0.06963013041425015,0.3794167934777238,0.2655792971297947,0.11629880735810444,0.1897004357806633,-0.06965741145183524,0.2033074689080622,-0.06962211163581186,0.18414564223037827,0.11628974014675081,0.2543464034858594,-0.06961066591580443,0.399921866258085,-0.06960588754846303,0.11629891627973642,-0.06960381527157218,0.11630155755653189,0.8005843979439545,0.4021560256902109,0.18970406985376742,0.3980357093113447,-0.06963696058463822,0.18970341706389926,-0.06960727432153721,0.4235060721810521,0.379413033780769,0.4502951326138361,-0.07005405625244063,0.11610517860426375,0.11628036534822318,0.4021570492913085,-0.06960396062009043,0.4021550832551901,0.32180004431324827,0.11210569703062806,0.3313524706872523,-0.06960446488471429,0.11625552040500382,0.4502950144346353,-0.06962922091723563,0.3217960087844622,0.31164994783386385,-0.06978071378008001,0.08073650452558419,-0.0696094697960108,0.18932024976533118,-0.06960953816159061,0.3313432426687838,0.2788384566417349,0.27265799869503976,0.540929979133312,0.40168716835868035,0.11629123246815655,-0.0696083457339697,-0.06960783058285562,0.11629482230547358,0.1163015386756171,0.40215286582086013,0.25923160006626816,-0.1128490420203013,-0.01606746309267387,0.11623162512873532,0.18970108165131827,-0.07003233439957414,-0.1003722389587659,-0.06960656167909166,-0.06961084131796362,-0.06961476322485666,-0.06961499339644751,0.40215256384589493,0.4483187614265358,0.11564787229630202,0.22311319981079678,0.45029263922468954,0.25433516245495114,-0.0696292524574717,0.11625089013661333,0.2231119897752211,0.3794055684515365,0.2231126453709121,0.39816925837678135,0.3945401424739816,0.4021566384867155,0.378899504933946,0.11626314497274337,0.33122664942427693,-0.070660656838763,0.03801101631445608,0.11630115636886534,0.2231126526275371,0.22303028697748256,-0.06961605562973726,0.1163001115495079,0.18970064871786377,-0.17491378934913834,0.1887712857285251,0.34990839159841197,0.41817566038132875,0.40211558634549105,-0.07216337049094189,0.2543216816053997,0.18208302523114778,-0.0696079679748448,-0.07347277702823636,0.11623700450138418,0.37910115982038295,0.40210007750803106,-0.06960539034959218,0.6264632331406702,0.45027898791294363,0.4234904466338767,0.11629195055050824,0.40215391976039283,0.08073526173828299,0.32179868669098793,0.24992684431963225,0.4235066422747977,0.40213360887175753,0.44239805772426044,0.3857631764981997,0.40914043499116487,0.40199679523763476,0.2799442618112751,0.26676092282788477,0.11630094301293709,-0.0696048645384743,0.3312876009193778,0.7509030079046645,-0.12291119601477918,0.41345955758737085,0.1891682709025276,0.11630077483077918,0.27994073097130634,0.44907578780003793,0.423502211820663,0.18970108231291946,0.4014266141779408,0.5876533905906026,0.587653581539965,0.2596419706582907,0.4057763668349319,-0.06961614712903504,0.45027879263972076,0.4502905255707997,0.13127798560531023,0.1896919471099075,-0.03323747759198666,0.18968074855417116,-0.07361970445034371,0.22212903285120325,0.5873672804450751,-0.06981234004147747,0.18969915059527948,-0.07800961841115457,0.06637536995557969,-0.06960494864274387,-0.0696260790189777,0.3982990125182542,0.41835886044860393,0.3794134734357753,0.4018900651342687,0.450294770510879],\"type\":\"scatter3d\"},{\"customdata\":[[\"Proof-of-BibleHash\"],[\"SHA-256 + Hive\"],[\"Proof-of-Authority\"],[\"ECC 256K1\"],[\"Leased POS\"]],\"hovertemplate\":\"<b>%{hovertext}</b><br><br>Class=%{marker.color}<br>PC 1=%{x}<br>PC 2=%{y}<br>PC 3=%{z}<br>Algorithm=%{customdata[0]}<extra></extra>\",\"hovertext\":[\"BiblePay\",\"LitecoinCash\",\"Poa Network\",\"Acute Angle Cloud\",\"Waves\"],\"legendgroup\":\"1\",\"marker\":{\"color\":[1,1,1,1,1],\"coloraxis\":\"coloraxis\",\"symbol\":\"square\"},\"mode\":\"markers\",\"name\":\"1\",\"scene\":\"scene\",\"showlegend\":true,\"x\":[-0.22647375872444092,-0.48289488042295015,-0.4048795979840848,-0.33987455714994513,-0.2897843335739355],\"y\":[3.9422023934147488,2.371448353503628,2.7886851501930408,2.785122373153726,2.763977283100375],\"z\":[13.997892443875742,13.674118576603256,12.850328198877419,18.049734318170785,9.848160841780263],\"type\":\"scatter3d\"},{\"customdata\":[[\"TRC10\"]],\"hovertemplate\":\"<b>%{hovertext}</b><br><br>Class=%{marker.color}<br>PC 1=%{x}<br>PC 2=%{y}<br>PC 3=%{z}<br>Algorithm=%{customdata[0]}<extra></extra>\",\"hovertext\":[\"BitTorrent\"],\"legendgroup\":\"2\",\"marker\":{\"color\":[2],\"coloraxis\":\"coloraxis\",\"symbol\":\"x\"},\"mode\":\"markers\",\"name\":\"2\",\"scene\":\"scene\",\"showlegend\":true,\"x\":[34.08698987045402],\"y\":[1.8387995090938647],\"z\":[-0.6098576647624512],\"type\":\"scatter3d\"}],                        {\"template\":{\"data\":{\"bar\":[{\"error_x\":{\"color\":\"#2a3f5f\"},\"error_y\":{\"color\":\"#2a3f5f\"},\"marker\":{\"line\":{\"color\":\"#E5ECF6\",\"width\":0.5},\"pattern\":{\"fillmode\":\"overlay\",\"size\":10,\"solidity\":0.2}},\"type\":\"bar\"}],\"barpolar\":[{\"marker\":{\"line\":{\"color\":\"#E5ECF6\",\"width\":0.5},\"pattern\":{\"fillmode\":\"overlay\",\"size\":10,\"solidity\":0.2}},\"type\":\"barpolar\"}],\"carpet\":[{\"aaxis\":{\"endlinecolor\":\"#2a3f5f\",\"gridcolor\":\"white\",\"linecolor\":\"white\",\"minorgridcolor\":\"white\",\"startlinecolor\":\"#2a3f5f\"},\"baxis\":{\"endlinecolor\":\"#2a3f5f\",\"gridcolor\":\"white\",\"linecolor\":\"white\",\"minorgridcolor\":\"white\",\"startlinecolor\":\"#2a3f5f\"},\"type\":\"carpet\"}],\"choropleth\":[{\"colorbar\":{\"outlinewidth\":0,\"ticks\":\"\"},\"type\":\"choropleth\"}],\"contour\":[{\"colorbar\":{\"outlinewidth\":0,\"ticks\":\"\"},\"colorscale\":[[0.0,\"#0d0887\"],[0.1111111111111111,\"#46039f\"],[0.2222222222222222,\"#7201a8\"],[0.3333333333333333,\"#9c179e\"],[0.4444444444444444,\"#bd3786\"],[0.5555555555555556,\"#d8576b\"],[0.6666666666666666,\"#ed7953\"],[0.7777777777777778,\"#fb9f3a\"],[0.8888888888888888,\"#fdca26\"],[1.0,\"#f0f921\"]],\"type\":\"contour\"}],\"contourcarpet\":[{\"colorbar\":{\"outlinewidth\":0,\"ticks\":\"\"},\"type\":\"contourcarpet\"}],\"heatmap\":[{\"colorbar\":{\"outlinewidth\":0,\"ticks\":\"\"},\"colorscale\":[[0.0,\"#0d0887\"],[0.1111111111111111,\"#46039f\"],[0.2222222222222222,\"#7201a8\"],[0.3333333333333333,\"#9c179e\"],[0.4444444444444444,\"#bd3786\"],[0.5555555555555556,\"#d8576b\"],[0.6666666666666666,\"#ed7953\"],[0.7777777777777778,\"#fb9f3a\"],[0.8888888888888888,\"#fdca26\"],[1.0,\"#f0f921\"]],\"type\":\"heatmap\"}],\"heatmapgl\":[{\"colorbar\":{\"outlinewidth\":0,\"ticks\":\"\"},\"colorscale\":[[0.0,\"#0d0887\"],[0.1111111111111111,\"#46039f\"],[0.2222222222222222,\"#7201a8\"],[0.3333333333333333,\"#9c179e\"],[0.4444444444444444,\"#bd3786\"],[0.5555555555555556,\"#d8576b\"],[0.6666666666666666,\"#ed7953\"],[0.7777777777777778,\"#fb9f3a\"],[0.8888888888888888,\"#fdca26\"],[1.0,\"#f0f921\"]],\"type\":\"heatmapgl\"}],\"histogram\":[{\"marker\":{\"pattern\":{\"fillmode\":\"overlay\",\"size\":10,\"solidity\":0.2}},\"type\":\"histogram\"}],\"histogram2d\":[{\"colorbar\":{\"outlinewidth\":0,\"ticks\":\"\"},\"colorscale\":[[0.0,\"#0d0887\"],[0.1111111111111111,\"#46039f\"],[0.2222222222222222,\"#7201a8\"],[0.3333333333333333,\"#9c179e\"],[0.4444444444444444,\"#bd3786\"],[0.5555555555555556,\"#d8576b\"],[0.6666666666666666,\"#ed7953\"],[0.7777777777777778,\"#fb9f3a\"],[0.8888888888888888,\"#fdca26\"],[1.0,\"#f0f921\"]],\"type\":\"histogram2d\"}],\"histogram2dcontour\":[{\"colorbar\":{\"outlinewidth\":0,\"ticks\":\"\"},\"colorscale\":[[0.0,\"#0d0887\"],[0.1111111111111111,\"#46039f\"],[0.2222222222222222,\"#7201a8\"],[0.3333333333333333,\"#9c179e\"],[0.4444444444444444,\"#bd3786\"],[0.5555555555555556,\"#d8576b\"],[0.6666666666666666,\"#ed7953\"],[0.7777777777777778,\"#fb9f3a\"],[0.8888888888888888,\"#fdca26\"],[1.0,\"#f0f921\"]],\"type\":\"histogram2dcontour\"}],\"mesh3d\":[{\"colorbar\":{\"outlinewidth\":0,\"ticks\":\"\"},\"type\":\"mesh3d\"}],\"parcoords\":[{\"line\":{\"colorbar\":{\"outlinewidth\":0,\"ticks\":\"\"}},\"type\":\"parcoords\"}],\"pie\":[{\"automargin\":true,\"type\":\"pie\"}],\"scatter\":[{\"marker\":{\"colorbar\":{\"outlinewidth\":0,\"ticks\":\"\"}},\"type\":\"scatter\"}],\"scatter3d\":[{\"line\":{\"colorbar\":{\"outlinewidth\":0,\"ticks\":\"\"}},\"marker\":{\"colorbar\":{\"outlinewidth\":0,\"ticks\":\"\"}},\"type\":\"scatter3d\"}],\"scattercarpet\":[{\"marker\":{\"colorbar\":{\"outlinewidth\":0,\"ticks\":\"\"}},\"type\":\"scattercarpet\"}],\"scattergeo\":[{\"marker\":{\"colorbar\":{\"outlinewidth\":0,\"ticks\":\"\"}},\"type\":\"scattergeo\"}],\"scattergl\":[{\"marker\":{\"colorbar\":{\"outlinewidth\":0,\"ticks\":\"\"}},\"type\":\"scattergl\"}],\"scattermapbox\":[{\"marker\":{\"colorbar\":{\"outlinewidth\":0,\"ticks\":\"\"}},\"type\":\"scattermapbox\"}],\"scatterpolar\":[{\"marker\":{\"colorbar\":{\"outlinewidth\":0,\"ticks\":\"\"}},\"type\":\"scatterpolar\"}],\"scatterpolargl\":[{\"marker\":{\"colorbar\":{\"outlinewidth\":0,\"ticks\":\"\"}},\"type\":\"scatterpolargl\"}],\"scatterternary\":[{\"marker\":{\"colorbar\":{\"outlinewidth\":0,\"ticks\":\"\"}},\"type\":\"scatterternary\"}],\"surface\":[{\"colorbar\":{\"outlinewidth\":0,\"ticks\":\"\"},\"colorscale\":[[0.0,\"#0d0887\"],[0.1111111111111111,\"#46039f\"],[0.2222222222222222,\"#7201a8\"],[0.3333333333333333,\"#9c179e\"],[0.4444444444444444,\"#bd3786\"],[0.5555555555555556,\"#d8576b\"],[0.6666666666666666,\"#ed7953\"],[0.7777777777777778,\"#fb9f3a\"],[0.8888888888888888,\"#fdca26\"],[1.0,\"#f0f921\"]],\"type\":\"surface\"}],\"table\":[{\"cells\":{\"fill\":{\"color\":\"#EBF0F8\"},\"line\":{\"color\":\"white\"}},\"header\":{\"fill\":{\"color\":\"#C8D4E3\"},\"line\":{\"color\":\"white\"}},\"type\":\"table\"}]},\"layout\":{\"annotationdefaults\":{\"arrowcolor\":\"#2a3f5f\",\"arrowhead\":0,\"arrowwidth\":1},\"autotypenumbers\":\"strict\",\"coloraxis\":{\"colorbar\":{\"outlinewidth\":0,\"ticks\":\"\"}},\"colorscale\":{\"diverging\":[[0,\"#8e0152\"],[0.1,\"#c51b7d\"],[0.2,\"#de77ae\"],[0.3,\"#f1b6da\"],[0.4,\"#fde0ef\"],[0.5,\"#f7f7f7\"],[0.6,\"#e6f5d0\"],[0.7,\"#b8e186\"],[0.8,\"#7fbc41\"],[0.9,\"#4d9221\"],[1,\"#276419\"]],\"sequential\":[[0.0,\"#0d0887\"],[0.1111111111111111,\"#46039f\"],[0.2222222222222222,\"#7201a8\"],[0.3333333333333333,\"#9c179e\"],[0.4444444444444444,\"#bd3786\"],[0.5555555555555556,\"#d8576b\"],[0.6666666666666666,\"#ed7953\"],[0.7777777777777778,\"#fb9f3a\"],[0.8888888888888888,\"#fdca26\"],[1.0,\"#f0f921\"]],\"sequentialminus\":[[0.0,\"#0d0887\"],[0.1111111111111111,\"#46039f\"],[0.2222222222222222,\"#7201a8\"],[0.3333333333333333,\"#9c179e\"],[0.4444444444444444,\"#bd3786\"],[0.5555555555555556,\"#d8576b\"],[0.6666666666666666,\"#ed7953\"],[0.7777777777777778,\"#fb9f3a\"],[0.8888888888888888,\"#fdca26\"],[1.0,\"#f0f921\"]]},\"colorway\":[\"#636efa\",\"#EF553B\",\"#00cc96\",\"#ab63fa\",\"#FFA15A\",\"#19d3f3\",\"#FF6692\",\"#B6E880\",\"#FF97FF\",\"#FECB52\"],\"font\":{\"color\":\"#2a3f5f\"},\"geo\":{\"bgcolor\":\"white\",\"lakecolor\":\"white\",\"landcolor\":\"#E5ECF6\",\"showlakes\":true,\"showland\":true,\"subunitcolor\":\"white\"},\"hoverlabel\":{\"align\":\"left\"},\"hovermode\":\"closest\",\"mapbox\":{\"style\":\"light\"},\"paper_bgcolor\":\"white\",\"plot_bgcolor\":\"#E5ECF6\",\"polar\":{\"angularaxis\":{\"gridcolor\":\"white\",\"linecolor\":\"white\",\"ticks\":\"\"},\"bgcolor\":\"#E5ECF6\",\"radialaxis\":{\"gridcolor\":\"white\",\"linecolor\":\"white\",\"ticks\":\"\"}},\"scene\":{\"xaxis\":{\"backgroundcolor\":\"#E5ECF6\",\"gridcolor\":\"white\",\"gridwidth\":2,\"linecolor\":\"white\",\"showbackground\":true,\"ticks\":\"\",\"zerolinecolor\":\"white\"},\"yaxis\":{\"backgroundcolor\":\"#E5ECF6\",\"gridcolor\":\"white\",\"gridwidth\":2,\"linecolor\":\"white\",\"showbackground\":true,\"ticks\":\"\",\"zerolinecolor\":\"white\"},\"zaxis\":{\"backgroundcolor\":\"#E5ECF6\",\"gridcolor\":\"white\",\"gridwidth\":2,\"linecolor\":\"white\",\"showbackground\":true,\"ticks\":\"\",\"zerolinecolor\":\"white\"}},\"shapedefaults\":{\"line\":{\"color\":\"#2a3f5f\"}},\"ternary\":{\"aaxis\":{\"gridcolor\":\"white\",\"linecolor\":\"white\",\"ticks\":\"\"},\"baxis\":{\"gridcolor\":\"white\",\"linecolor\":\"white\",\"ticks\":\"\"},\"bgcolor\":\"#E5ECF6\",\"caxis\":{\"gridcolor\":\"white\",\"linecolor\":\"white\",\"ticks\":\"\"}},\"title\":{\"x\":0.05},\"xaxis\":{\"automargin\":true,\"gridcolor\":\"white\",\"linecolor\":\"white\",\"ticks\":\"\",\"title\":{\"standoff\":15},\"zerolinecolor\":\"white\",\"zerolinewidth\":2},\"yaxis\":{\"automargin\":true,\"gridcolor\":\"white\",\"linecolor\":\"white\",\"ticks\":\"\",\"title\":{\"standoff\":15},\"zerolinecolor\":\"white\",\"zerolinewidth\":2}}},\"scene\":{\"domain\":{\"x\":[0.0,1.0],\"y\":[0.0,1.0]},\"xaxis\":{\"title\":{\"text\":\"PC 1\"}},\"yaxis\":{\"title\":{\"text\":\"PC 2\"}},\"zaxis\":{\"title\":{\"text\":\"PC 3\"}}},\"coloraxis\":{\"colorbar\":{\"title\":{\"text\":\"Class\"}},\"colorscale\":[[0.0,\"#0d0887\"],[0.1111111111111111,\"#46039f\"],[0.2222222222222222,\"#7201a8\"],[0.3333333333333333,\"#9c179e\"],[0.4444444444444444,\"#bd3786\"],[0.5555555555555556,\"#d8576b\"],[0.6666666666666666,\"#ed7953\"],[0.7777777777777778,\"#fb9f3a\"],[0.8888888888888888,\"#fdca26\"],[1.0,\"#f0f921\"]]},\"legend\":{\"title\":{\"text\":\"Class\"},\"tracegroupgap\":0,\"x\":0,\"y\":1},\"margin\":{\"t\":60},\"width\":800},                        {\"responsive\": true}                    ).then(function(){\n",
       "                            \n",
       "var gd = document.getElementById('ad17f054-8559-4330-9818-51fddc217a05');\n",
       "var x = new MutationObserver(function (mutations, observer) {{\n",
       "        var display = window.getComputedStyle(gd).display;\n",
       "        if (!display || display === 'none') {{\n",
       "            console.log([gd, 'removed!']);\n",
       "            Plotly.purge(gd);\n",
       "            observer.disconnect();\n",
       "        }}\n",
       "}});\n",
       "\n",
       "// Listen for the removal of the full notebook cells\n",
       "var notebookContainer = gd.closest('#notebook-container');\n",
       "if (notebookContainer) {{\n",
       "    x.observe(notebookContainer, {childList: true});\n",
       "}}\n",
       "\n",
       "// Listen for the clearing of the current output cell\n",
       "var outputEl = gd.closest('.output');\n",
       "if (outputEl) {{\n",
       "    x.observe(outputEl, {childList: true});\n",
       "}}\n",
       "\n",
       "                        })                };                });            </script>        </div>"
      ]
     },
     "metadata": {},
     "output_type": "display_data"
    }
   ],
   "source": [
    "# Creating a 3D-Scatter with the PCA data and the clusters\n",
    "fig = px.scatter_3d(\n",
    "    clustered_df,\n",
    "    x=\"PC 1\",\n",
    "    y=\"PC 2\",\n",
    "    z=\"PC 3\",\n",
    "    color=\"Class\",\n",
    "    symbol=\"Class\",\n",
    "    width=800,\n",
    "    hover_name=\"CoinName\",\n",
    "    hover_data=['Algorithm'],\n",
    ")\n",
    "fig.update_layout(legend=dict(x=0, y=1))\n",
    "fig.show()"
   ]
  },
  {
   "cell_type": "code",
   "execution_count": 106,
   "metadata": {},
   "outputs": [
    {
     "data": {},
     "metadata": {},
     "output_type": "display_data"
    },
    {
     "data": {
      "application/vnd.holoviews_exec.v0+json": "",
      "text/html": [
       "<div id='1669'>\n",
       "\n",
       "\n",
       "\n",
       "\n",
       "\n",
       "  <div class=\"bk-root\" id=\"51e6e3d9-9d9a-4409-ac85-e86089f0f3dd\" data-root-id=\"1669\"></div>\n",
       "</div>\n",
       "<script type=\"application/javascript\">(function(root) {\n",
       "  function embed_document(root) {\n",
       "    var docs_json = {\"15b58743-a014-49b4-b498-2629e9441dba\":{\"defs\":[{\"extends\":null,\"module\":null,\"name\":\"ReactiveHTML1\",\"overrides\":[],\"properties\":[]},{\"extends\":null,\"module\":null,\"name\":\"FlexBox1\",\"overrides\":[],\"properties\":[{\"default\":\"flex-start\",\"kind\":null,\"name\":\"align_content\"},{\"default\":\"flex-start\",\"kind\":null,\"name\":\"align_items\"},{\"default\":\"row\",\"kind\":null,\"name\":\"flex_direction\"},{\"default\":\"wrap\",\"kind\":null,\"name\":\"flex_wrap\"},{\"default\":\"flex-start\",\"kind\":null,\"name\":\"justify_content\"}]},{\"extends\":null,\"module\":null,\"name\":\"GridStack1\",\"overrides\":[],\"properties\":[{\"default\":\"warn\",\"kind\":null,\"name\":\"mode\"},{\"default\":null,\"kind\":null,\"name\":\"ncols\"},{\"default\":null,\"kind\":null,\"name\":\"nrows\"},{\"default\":true,\"kind\":null,\"name\":\"allow_resize\"},{\"default\":true,\"kind\":null,\"name\":\"allow_drag\"},{\"default\":[],\"kind\":null,\"name\":\"state\"}]},{\"extends\":null,\"module\":null,\"name\":\"click1\",\"overrides\":[],\"properties\":[{\"default\":\"\",\"kind\":null,\"name\":\"terminal_output\"},{\"default\":\"\",\"kind\":null,\"name\":\"debug_name\"},{\"default\":0,\"kind\":null,\"name\":\"clears\"}]},{\"extends\":null,\"module\":null,\"name\":\"TemplateActions1\",\"overrides\":[],\"properties\":[{\"default\":0,\"kind\":null,\"name\":\"open_modal\"},{\"default\":0,\"kind\":null,\"name\":\"close_modal\"}]},{\"extends\":null,\"module\":null,\"name\":\"MaterialTemplateActions1\",\"overrides\":[],\"properties\":[{\"default\":0,\"kind\":null,\"name\":\"open_modal\"},{\"default\":0,\"kind\":null,\"name\":\"close_modal\"}]}],\"roots\":{\"references\":[{\"attributes\":{\"source\":{\"id\":\"1671\"}},\"id\":\"1720\",\"type\":\"CDSView\"},{\"attributes\":{},\"id\":\"1721\",\"type\":\"UnionRenderers\"},{\"attributes\":{\"margin\":[5,5,5,5],\"name\":\"HSpacer02886\",\"sizing_mode\":\"stretch_width\"},\"id\":\"1670\",\"type\":\"Spacer\"},{\"attributes\":{\"format\":\"0,0.0[00000]\"},\"id\":\"1703\",\"type\":\"NumberFormatter\"},{\"attributes\":{\"margin\":[5,5,5,5],\"name\":\"HSpacer02887\",\"sizing_mode\":\"stretch_width\"},\"id\":\"1725\",\"type\":\"Spacer\"},{\"attributes\":{\"editor\":{\"id\":\"1699\"},\"field\":\"PC_2\",\"formatter\":{\"id\":\"1698\"},\"title\":\"PC 2\"},\"id\":\"1700\",\"type\":\"TableColumn\"},{\"attributes\":{},\"id\":\"1699\",\"type\":\"NumberEditor\"},{\"attributes\":{\"editor\":{\"id\":\"1704\"},\"field\":\"PC_3\",\"formatter\":{\"id\":\"1703\"},\"title\":\"PC 3\"},\"id\":\"1705\",\"type\":\"TableColumn\"},{\"attributes\":{},\"id\":\"1672\",\"type\":\"Selection\"},{\"attributes\":{},\"id\":\"1684\",\"type\":\"NumberEditor\"},{\"attributes\":{\"editor\":{\"id\":\"1674\"},\"field\":\"Algorithm\",\"formatter\":{\"id\":\"1673\"},\"title\":\"Algorithm\"},\"id\":\"1675\",\"type\":\"TableColumn\"},{\"attributes\":{},\"id\":\"1688\",\"type\":\"StringFormatter\"},{\"attributes\":{\"editor\":{\"id\":\"1714\"},\"field\":\"Class\",\"formatter\":{\"id\":\"1713\"},\"title\":\"Class\"},\"id\":\"1715\",\"type\":\"TableColumn\"},{\"attributes\":{\"columns\":[{\"id\":\"1675\"},{\"id\":\"1680\"},{\"id\":\"1685\"},{\"id\":\"1690\"},{\"id\":\"1695\"},{\"id\":\"1700\"},{\"id\":\"1705\"},{\"id\":\"1710\"},{\"id\":\"1715\"}],\"height\":300,\"reorderable\":false,\"source\":{\"id\":\"1671\"},\"view\":{\"id\":\"1720\"},\"width\":700},\"id\":\"1718\",\"type\":\"DataTable\"},{\"attributes\":{},\"id\":\"1709\",\"type\":\"StringEditor\"},{\"attributes\":{\"editor\":{\"id\":\"1694\"},\"field\":\"PC_1\",\"formatter\":{\"id\":\"1693\"},\"title\":\"PC 1\"},\"id\":\"1695\",\"type\":\"TableColumn\"},{\"attributes\":{},\"id\":\"1673\",\"type\":\"StringFormatter\"},{\"attributes\":{},\"id\":\"1704\",\"type\":\"NumberEditor\"},{\"attributes\":{\"editor\":{\"id\":\"1689\"},\"field\":\"TotalCoinSupply\",\"formatter\":{\"id\":\"1688\"},\"title\":\"TotalCoinSupply\"},\"id\":\"1690\",\"type\":\"TableColumn\"},{\"attributes\":{\"format\":\"0,0.0[00000]\"},\"id\":\"1698\",\"type\":\"NumberFormatter\"},{\"attributes\":{\"format\":\"0,0.0[00000]\"},\"id\":\"1693\",\"type\":\"NumberFormatter\"},{\"attributes\":{},\"id\":\"1708\",\"type\":\"StringFormatter\"},{\"attributes\":{},\"id\":\"1674\",\"type\":\"StringEditor\"},{\"attributes\":{},\"id\":\"1679\",\"type\":\"StringEditor\"},{\"attributes\":{},\"id\":\"1714\",\"type\":\"IntEditor\"},{\"attributes\":{},\"id\":\"1678\",\"type\":\"StringFormatter\"},{\"attributes\":{\"editor\":{\"id\":\"1709\"},\"field\":\"CoinName\",\"formatter\":{\"id\":\"1708\"},\"title\":\"CoinName\"},\"id\":\"1710\",\"type\":\"TableColumn\"},{\"attributes\":{\"children\":[{\"id\":\"1670\"},{\"id\":\"1718\"},{\"id\":\"1725\"}],\"margin\":[0,0,0,0],\"name\":\"Row02882\",\"tags\":[\"embedded\"]},\"id\":\"1669\",\"type\":\"Row\"},{\"attributes\":{\"editor\":{\"id\":\"1684\"},\"field\":\"TotalCoinsMined\",\"formatter\":{\"id\":\"1683\"},\"title\":\"TotalCoinsMined\"},\"id\":\"1685\",\"type\":\"TableColumn\"},{\"attributes\":{},\"id\":\"1713\",\"type\":\"NumberFormatter\"},{\"attributes\":{\"editor\":{\"id\":\"1679\"},\"field\":\"ProofType\",\"formatter\":{\"id\":\"1678\"},\"title\":\"ProofType\"},\"id\":\"1680\",\"type\":\"TableColumn\"},{\"attributes\":{\"data\":{\"Algorithm\":[\"Scrypt\",\"Scrypt\",\"X13\",\"SHA-256\",\"Ethash\",\"Scrypt\",\"X11\",\"CryptoNight-V7\",\"Ethash\",\"Equihash\",\"SHA-512\",\"Multiple\",\"SHA-256\",\"SHA-256\",\"Scrypt\",\"X15\",\"X11\",\"Scrypt\",\"Scrypt\",\"Scrypt\",\"Multiple\",\"Scrypt\",\"SHA-256\",\"Scrypt\",\"Scrypt\",\"Scrypt\",\"Quark\",\"Groestl\",\"Scrypt\",\"Scrypt\",\"Scrypt\",\"Scrypt\",\"Scrypt\",\"X11\",\"Scrypt\",\"Groestl\",\"Multiple\",\"SHA-256\",\"Scrypt\",\"Scrypt\",\"Scrypt\",\"Scrypt\",\"PoS\",\"Scrypt\",\"Scrypt\",\"NeoScrypt\",\"Scrypt\",\"Scrypt\",\"Scrypt\",\"Scrypt\",\"X11\",\"Scrypt\",\"X11\",\"SHA-256\",\"Scrypt\",\"Scrypt\",\"Scrypt\",\"SHA3\",\"Scrypt\",\"HybridScryptHash256\",\"Scrypt\",\"Scrypt\",\"SHA-256\",\"Scrypt\",\"X13\",\"Scrypt\",\"SHA-256\",\"Scrypt\",\"X13\",\"NeoScrypt\",\"Scrypt\",\"Scrypt\",\"Scrypt\",\"Scrypt\",\"Scrypt\",\"Scrypt\",\"X11\",\"X11\",\"SHA-256\",\"Multiple\",\"SHA-256\",\"PHI1612\",\"X11\",\"SHA-256\",\"SHA-256\",\"SHA-256\",\"X11\",\"Scrypt\",\"Scrypt\",\"Scrypt\",\"Scrypt\",\"Lyra2REv2\",\"Scrypt\",\"X11\",\"Multiple\",\"SHA-256\",\"X13\",\"Scrypt\",\"CryptoNight\",\"CryptoNight\",\"Shabal256\",\"Counterparty\",\"Scrypt\",\"SHA-256\",\"Groestl\",\"Scrypt\",\"Scrypt\",\"Scrypt\",\"X13\",\"Scrypt\",\"Scrypt\",\"Scrypt\",\"Scrypt\",\"X13\",\"Scrypt\",\"Stanford Folding\",\"X11\",\"Multiple\",\"QuBit\",\"Scrypt\",\"Scrypt\",\"Scrypt\",\"M7 POW\",\"Scrypt\",\"SHA-256\",\"Scrypt\",\"X11\",\"SHA3\",\"X11\",\"Lyra2RE\",\"SHA-256\",\"QUAIT\",\"X11\",\"X11\",\"Scrypt\",\"Scrypt\",\"Scrypt\",\"Ethash\",\"X13\",\"Blake2b\",\"SHA-256\",\"X15\",\"X11\",\"SHA-256\",\"BLAKE256\",\"Scrypt\",\"1GB AES Pattern Search\",\"SHA-256\",\"X11\",\"Scrypt\",\"SHA-256\",\"SHA-256\",\"NIST5\",\"Scrypt\",\"Scrypt\",\"X11\",\"Dagger\",\"Scrypt\",\"X11GOST\",\"X11\",\"Scrypt\",\"SHA-256\",\"Scrypt\",\"PoS\",\"Scrypt\",\"X11\",\"X11\",\"SHA-256\",\"SHA-256\",\"NIST5\",\"X11\",\"Scrypt\",\"POS 3.0\",\"Scrypt\",\"Scrypt\",\"Scrypt\",\"X13\",\"X11\",\"X11\",\"Equihash\",\"X11\",\"Scrypt\",\"CryptoNight\",\"SHA-256\",\"SHA-256\",\"X11\",\"Scrypt\",\"Multiple\",\"Scrypt\",\"Scrypt\",\"Scrypt\",\"SHA-256\",\"Scrypt\",\"Scrypt\",\"SHA-256D\",\"PoS\",\"Scrypt\",\"X11\",\"Lyra2Z\",\"PoS\",\"X13\",\"X14\",\"PoS\",\"SHA-256D\",\"Ethash\",\"Equihash\",\"DPoS\",\"X11\",\"Scrypt\",\"X11\",\"X13\",\"X11\",\"PoS\",\"Scrypt\",\"Scrypt\",\"X11\",\"PoS\",\"X11\",\"SHA-256\",\"Scrypt\",\"X11\",\"Scrypt\",\"Scrypt\",\"X11\",\"CryptoNight\",\"Scrypt\",\"Scrypt\",\"Scrypt\",\"Scrypt\",\"Quark\",\"QuBit\",\"Scrypt\",\"CryptoNight\",\"Lyra2RE\",\"Scrypt\",\"SHA-256\",\"X11\",\"Scrypt\",\"X11\",\"Scrypt\",\"CryptoNight-V7\",\"Scrypt\",\"Scrypt\",\"Scrypt\",\"X13\",\"X11\",\"Equihash\",\"Scrypt\",\"Scrypt\",\"Lyra2RE\",\"Scrypt\",\"Dagger-Hashimoto\",\"X11\",\"Blake2S\",\"X11\",\"Scrypt\",\"PoS\",\"X11\",\"NIST5\",\"PoS\",\"X11\",\"Scrypt\",\"Scrypt\",\"Scrypt\",\"SHA-256\",\"X11\",\"Scrypt\",\"Scrypt\",\"SHA-256\",\"PoS\",\"Scrypt\",\"X15\",\"SHA-256\",\"Scrypt\",\"POS 3.0\",\"CryptoNight-V7\",\"536\",\"Argon2d\",\"Blake2b\",\"Cloverhash\",\"CryptoNight\",\"NIST5\",\"X11\",\"NIST5\",\"Skein\",\"Scrypt\",\"X13\",\"Scrypt\",\"X11\",\"X11\",\"Scrypt\",\"CryptoNight\",\"X13\",\"Time Travel\",\"Scrypt\",\"Keccak\",\"SkunkHash v2 Raptor\",\"X11\",\"Skein\",\"SHA-256\",\"X11\",\"Scrypt\",\"VeChainThor Authority\",\"Scrypt\",\"PoS\",\"Scrypt\",\"Scrypt\",\"Scrypt\",\"Scrypt\",\"Scrypt\",\"Scrypt\",\"Scrypt\",\"CryptoNight\",\"SHA-512\",\"Ouroboros\",\"X11\",\"Equihash\",\"NeoScrypt\",\"X11\",\"Scrypt\",\"NeoScrypt\",\"Lyra2REv2\",\"Equihash\",\"Scrypt\",\"SHA-256\",\"NIST5\",\"PHI1612\",\"Dagger\",\"Scrypt\",\"Quark\",\"Scrypt\",\"POS 2.0\",\"Scrypt\",\"SHA-256\",\"X11\",\"NeoScrypt\",\"Ethash\",\"NeoScrypt\",\"X11\",\"DPoS\",\"NIST5\",\"X13\",\"Multiple\",\"Scrypt\",\"CryptoNight\",\"CryptoNight\",\"Ethash\",\"NIST5\",\"Quark\",\"X11\",\"CryptoNight-V7\",\"Scrypt\",\"Scrypt\",\"Scrypt\",\"X11\",\"BLAKE256\",\"X11\",\"NeoScrypt\",\"Quark\",\"NeoScrypt\",\"Scrypt\",\"Scrypt\",\"Scrypt\",\"X11\",\"X11\",\"SHA-256\",\"C11\",\"POS 3.0\",\"Ethash\",\"Scrypt\",\"CryptoNight\",\"SkunkHash\",\"Scrypt\",\"CryptoNight\",\"Scrypt\",\"Dagger\",\"Lyra2REv2\",\"X13\",\"Proof-of-BibleHash\",\"SHA-256 + Hive\",\"Scrypt\",\"Scrypt\",\"X11\",\"C11\",\"Proof-of-Authority\",\"X11\",\"XEVAN\",\"Scrypt\",\"VBFT\",\"Ethash\",\"CryptoNight\",\"Scrypt\",\"IMesh\",\"NIST5\",\"Scrypt\",\"Scrypt\",\"Equihash\",\"Scrypt\",\"Lyra2Z\",\"Green Protocol\",\"PoS\",\"Scrypt\",\"Semux BFT consensus\",\"X11\",\"Quark\",\"PoS\",\"CryptoNight\",\"X16R\",\"Scrypt\",\"NIST5\",\"Lyra2RE\",\"XEVAN\",\"Tribus\",\"Scrypt\",\"Lyra2Z\",\"CryptoNight\",\"CryptoNight Heavy\",\"CryptoNight\",\"Scrypt\",\"Scrypt\",\"Jump Consistent Hash\",\"SHA-256D\",\"CryptoNight\",\"Scrypt\",\"X15\",\"Scrypt\",\"Quark\",\"SHA-256\",\"DPoS\",\"X16R\",\"HMQ1725\",\"X11\",\"X16R\",\"Quark\",\"Quark\",\"Scrypt\",\"Lyra2REv2\",\"Quark\",\"Scrypt\",\"Scrypt\",\"CryptoNight-V7\",\"Cryptonight-GPU\",\"XEVAN\",\"CryptoNight Heavy\",\"X11\",\"X11\",\"Scrypt\",\"PoS\",\"SHA-256\",\"Keccak\",\"X11\",\"X11\",\"Scrypt\",\"SHA-512\",\"X16R\",\"ECC 256K1\",\"Equihash\",\"XEVAN\",\"Lyra2Z\",\"SHA-256\",\"XEVAN\",\"X11\",\"CryptoNight\",\"Quark\",\"Blake\",\"Blake\",\"Equihash\",\"Exosis\",\"Scrypt\",\"Scrypt\",\"Equihash\",\"Quark\",\"Equihash\",\"Quark\",\"Scrypt\",\"QuBit\",\"X11\",\"Scrypt\",\"XEVAN\",\"SHA-256D\",\"X11\",\"SHA-256\",\"X13\",\"SHA-256\",\"X11\",\"DPoS\",\"Scrypt\",\"Scrypt\",\"X11\",\"NeoScrypt\",\"Scrypt\",\"Blake\",\"Scrypt\",\"SHA-256\",\"Scrypt\",\"X11\",\"Scrypt\",\"Scrypt\",\"SHA-256\",\"X11\",\"SHA-256\",\"Scrypt\",\"Scrypt\",\"Scrypt\",\"Groestl\",\"X11\",\"Scrypt\",\"PoS\",\"Scrypt\",\"Scrypt\",\"X11\",\"SHA-256\",\"DPoS\",\"Scrypt\",\"Scrypt\",\"NeoScrypt\",\"Multiple\",\"X13\",\"Equihash+Scrypt\",\"DPoS\",\"Ethash\",\"DPoS\",\"SHA-256\",\"Leased POS\",\"PoS\",\"TRC10\",\"PoS\",\"SHA-256\",\"Scrypt\",\"CryptoNight\",\"Equihash\",\"Scrypt\"],\"Class\":{\"__ndarray__\":\"AAAAAAAAAAAAAAAAAwAAAAMAAAADAAAAAAAAAAMAAAADAAAAAwAAAAAAAAADAAAAAAAAAAAAAAADAAAAAAAAAAMAAAADAAAAAAAAAAAAAAADAAAAAwAAAAMAAAADAAAAAwAAAAAAAAADAAAAAwAAAAMAAAAAAAAAAwAAAAAAAAADAAAAAwAAAAAAAAAAAAAAAwAAAAMAAAADAAAAAwAAAAMAAAADAAAAAAAAAAAAAAADAAAAAwAAAAMAAAADAAAAAwAAAAAAAAAAAAAAAwAAAAAAAAADAAAAAwAAAAMAAAADAAAAAAAAAAMAAAADAAAAAAAAAAMAAAAAAAAAAAAAAAAAAAADAAAAAwAAAAMAAAAAAAAAAAAAAAAAAAAAAAAAAAAAAAMAAAADAAAAAwAAAAAAAAAAAAAAAwAAAAAAAAADAAAAAAAAAAAAAAADAAAAAwAAAAMAAAADAAAAAAAAAAAAAAADAAAAAAAAAAMAAAADAAAAAAAAAAAAAAADAAAAAAAAAAAAAAADAAAAAwAAAAAAAAAAAAAAAwAAAAAAAAAAAAAAAwAAAAAAAAADAAAAAAAAAAMAAAAAAAAAAwAAAAAAAAAAAAAAAwAAAAMAAAAAAAAAAwAAAAMAAAADAAAAAAAAAAMAAAADAAAAAwAAAAMAAAADAAAAAAAAAAAAAAADAAAAAwAAAAMAAAAAAAAAAwAAAAAAAAADAAAAAwAAAAAAAAADAAAAAAAAAAMAAAAAAAAAAAAAAAMAAAADAAAAAAAAAAMAAAADAAAAAAAAAAAAAAADAAAAAAAAAAMAAAAAAAAAAAAAAAAAAAADAAAAAwAAAAMAAAADAAAAAAAAAAAAAAAAAAAAAAAAAAAAAAADAAAAAwAAAAAAAAAAAAAAAAAAAAAAAAAAAAAAAwAAAAAAAAAAAAAAAAAAAAAAAAAAAAAAAwAAAAAAAAADAAAAAAAAAAAAAAADAAAAAAAAAAMAAAAAAAAAAAAAAAMAAAAAAAAAAwAAAAAAAAADAAAAAAAAAAMAAAAAAAAAAAAAAAAAAAAAAAAAAwAAAAAAAAAAAAAAAAAAAAAAAAAAAAAAAwAAAAMAAAAAAAAAAAAAAAMAAAADAAAAAAAAAAAAAAAAAAAAAAAAAAAAAAADAAAAAAAAAAAAAAAAAAAAAAAAAAAAAAAAAAAAAAAAAAAAAAADAAAAAAAAAAAAAAAAAAAAAAAAAAAAAAAAAAAAAwAAAAMAAAADAAAAAAAAAAAAAAAAAAAAAAAAAAMAAAAAAAAAAwAAAAAAAAAAAAAAAwAAAAAAAAADAAAAAwAAAAAAAAADAAAAAwAAAAAAAAADAAAAAAAAAAAAAAAAAAAAAwAAAAAAAAAAAAAAAwAAAAAAAAAAAAAAAAAAAAAAAAAAAAAAAAAAAAAAAAADAAAAAAAAAAMAAAAAAAAAAAAAAAAAAAAAAAAAAwAAAAAAAAADAAAAAAAAAAMAAAADAAAAAwAAAAMAAAAAAAAAAwAAAAAAAAAAAAAAAwAAAAAAAAADAAAAAwAAAAMAAAAAAAAAAwAAAAAAAAADAAAAAwAAAAMAAAAAAAAAAwAAAAAAAAADAAAAAAAAAAAAAAAAAAAAAwAAAAAAAAADAAAAAwAAAAMAAAADAAAAAwAAAAAAAAAAAAAAAwAAAAAAAAAAAAAAAAAAAAMAAAAAAAAAAwAAAAAAAAADAAAAAAAAAAMAAAAAAAAAAAAAAAAAAAAAAAAAAwAAAAAAAAAAAAAAAwAAAAAAAAAAAAAAAAAAAAMAAAADAAAAAwAAAAMAAAAAAAAAAAAAAAAAAAAAAAAAAwAAAAAAAAADAAAAAwAAAAMAAAAAAAAAAAAAAAMAAAADAAAAAAAAAAAAAAADAAAAAAAAAAMAAAADAAAAAwAAAAAAAAADAAAAAwAAAAAAAAAAAAAAAAAAAAMAAAADAAAAAwAAAAAAAAADAAAAAAAAAAMAAAADAAAAAAAAAAMAAAADAAAAAwAAAAMAAAAAAAAAAQAAAAEAAAADAAAAAwAAAAMAAAAAAAAAAQAAAAAAAAAAAAAAAAAAAAAAAAADAAAAAwAAAAMAAAADAAAAAAAAAAAAAAAAAAAAAwAAAAAAAAADAAAAAAAAAAAAAAAAAAAAAAAAAAMAAAAAAAAAAAAAAAMAAAAAAAAAAAAAAAMAAAADAAAAAAAAAAMAAAAAAAAAAwAAAAMAAAADAAAAAwAAAAAAAAAAAAAAAwAAAAAAAAADAAAAAAAAAAAAAAAAAAAAAAAAAAAAAAAAAAAAAwAAAAMAAAADAAAAAAAAAAAAAAAAAAAAAAAAAAAAAAAAAAAAAwAAAAAAAAADAAAAAwAAAAMAAAADAAAAAAAAAAAAAAAAAAAAAAAAAAMAAAAAAAAAAAAAAAMAAAAAAAAAAAAAAAMAAAABAAAAAwAAAAAAAAADAAAAAwAAAAAAAAAAAAAAAwAAAAAAAAADAAAAAwAAAAMAAAADAAAAAwAAAAAAAAADAAAAAAAAAAMAAAAAAAAAAAAAAAMAAAAAAAAAAAAAAAAAAAAAAAAAAAAAAAMAAAADAAAAAwAAAAAAAAAAAAAAAAAAAAMAAAAAAAAAAwAAAAAAAAADAAAAAAAAAAAAAAAAAAAAAAAAAAMAAAAAAAAAAAAAAAAAAAADAAAAAAAAAAMAAAAAAAAAAwAAAAAAAAAAAAAAAAAAAAMAAAADAAAAAAAAAAAAAAAAAAAAAAAAAAAAAAAAAAAAAwAAAAAAAAADAAAAAAAAAAMAAAAAAAAAAAAAAAEAAAAAAAAAAgAAAAAAAAAAAAAAAAAAAAMAAAADAAAAAAAAAA==\",\"dtype\":\"int32\",\"order\":\"little\",\"shape\":[532]},\"CoinName\":[\"42 Coin\",\"404Coin\",\"EliteCoin\",\"Bitcoin\",\"Ethereum\",\"Litecoin\",\"Dash\",\"Monero\",\"Ethereum Classic\",\"ZCash\",\"Bitshares\",\"DigiByte\",\"BitcoinDark\",\"PayCoin\",\"ProsperCoin\",\"KoboCoin\",\"Spreadcoin\",\"Argentum\",\"Aurora Coin\",\"BlueCoin\",\"MyriadCoin\",\"MoonCoin\",\"ZetaCoin\",\"SexCoin\",\"Quatloo\",\"EnergyCoin\",\"QuarkCoin\",\"Riecoin\",\"Digitalcoin \",\"BitBar\",\"Catcoin\",\"CryptoBullion\",\"CannaCoin\",\"CryptCoin\",\"CasinoCoin\",\"Diamond\",\"Verge\",\"DevCoin\",\"EarthCoin\",\"E-Gulden\",\"Einsteinium\",\"Emerald\",\"Exclusive Coin\",\"FlutterCoin\",\"Franko\",\"FeatherCoin\",\"GrandCoin\",\"GlobalCoin\",\"GoldCoin\",\"HoboNickels\",\"HyperStake\",\"Infinite Coin\",\"IOCoin\",\"IXcoin\",\"KrugerCoin\",\"LuckyCoin\",\"Litebar \",\"MaxCoin\",\"MegaCoin\",\"MediterraneanCoin\",\"MintCoin\",\"MinCoin\",\"MazaCoin\",\"Nautilus Coin\",\"NavCoin\",\"NobleCoin\",\"Namecoin\",\"NyanCoin\",\"OpalCoin\",\"Orbitcoin\",\"PotCoin\",\"PhoenixCoin\",\"Reddcoin\",\"RonPaulCoin\",\"StableCoin\",\"SmartCoin\",\"SuperCoin\",\"SyncCoin\",\"SysCoin\",\"TeslaCoin\",\"TigerCoin\",\"TittieCoin\",\"TorCoin\",\"TerraCoin\",\"UnbreakableCoin\",\"Unobtanium\",\"UroCoin\",\"UnitaryStatus Dollar\",\"UltraCoin\",\"ViaCoin\",\"VeriCoin\",\"Vertcoin\",\"WorldCoin\",\"X11 Coin\",\"Crypti\",\"JouleCoin\",\"StealthCoin\",\"ZCC Coin\",\"ByteCoin\",\"DigitalNote \",\"BurstCoin\",\"StorjCoin\",\"MonaCoin\",\"Neutron\",\"FairCoin\",\"Gulden\",\"RubyCoin\",\"PesetaCoin\",\"Kore\",\"Wild Beast Coin\",\"Dnotes\",\"Flo\",\"8BIT Coin\",\"Sativa Coin\",\"ArtByte\",\"Folding Coin\",\"Ucoin\",\"Unitus\",\"CypherPunkCoin\",\"OmniCron\",\"Vtorrent\",\"GreenCoin\",\"Cryptonite\",\"MasterCoin\",\"SoonCoin\",\"1Credit\",\"IslaCoin\",\"Nexus\",\"MarsCoin \",\"Crypto\",\"Anarchists Prime\",\"Droidz\",\"BowsCoin\",\"Squall Coin\",\"Song Coin\",\"BitZeny\",\"Diggits\",\"Expanse\",\"Paycon\",\"Siacoin\",\"Emercoin\",\"EverGreenCoin\",\"MindCoin\",\"I0coin\",\"Decred\",\"Revolution VR\",\"HOdlcoin\",\"EDRCoin\",\"Hitcoin\",\"Gamecredits\",\"DubaiCoin\",\"CarpeDiemCoin\",\"PWR Coin\",\"BillaryCoin\",\"GPU Coin\",\"Adzcoin\",\"SoilCoin\",\"YoCoin\",\"SibCoin\",\"EuropeCoin\",\"ZeitCoin\",\"SwingCoin\",\"SafeExchangeCoin\",\"Nebuchadnezzar\",\"Francs\",\"BolivarCoin\",\"Ratecoin\",\"Revenu\",\"Clockcoin\",\"VIP Tokens\",\"BitSend\",\"Omni\",\"Let it Ride\",\"PutinCoin\",\"iBankCoin\",\"Frankywillcoin\",\"MudraCoin\",\"PizzaCoin\",\"Lutetium Coin\",\"Komodo\",\"GoldBlocks\",\"CarterCoin\",\"Karbo\",\"BitTokens\",\"ZayedCoin\",\"MustangCoin\",\"ZoneCoin\",\"Circuits of Value\",\"RootCoin\",\"DopeCoin\",\"BitCurrency\",\"DollarCoin\",\"Swiscoin\",\"Shilling\",\"BuzzCoin\",\"Opair\",\"PesoBit\",\"Halloween Coin\",\"ZCoin\",\"CoffeeCoin\",\"RoyalCoin\",\"GanjaCoin V2\",\"TeamUP\",\"LanaCoin\",\"Elementrem\",\"ZClassic\",\"ARK\",\"InsaneCoin\",\"KiloCoin\",\"ArtexCoin\",\"EmberCoin\",\"XenixCoin\",\"FreeCoin\",\"PLNCoin\",\"AquariusCoin\",\"Kurrent\",\"Creatio\",\"Eternity\",\"Eurocoin\",\"BitcoinFast\",\"Stakenet\",\"BitConnect Coin\",\"MoneyCoin\",\"Enigma\",\"Cannabis Industry Coin\",\"Russiacoin\",\"PandaCoin\",\"GameUnits\",\"GAKHcoin\",\"Allsafe\",\"LiteCreed\",\"OsmiumCoin\",\"Bikercoins\",\"HexxCoin\",\"Klingon Empire Darsek\",\"Internet of People\",\"KushCoin\",\"Printerium\",\"PacCoin\",\"Impeach\",\"Citadel\",\"Zilbercoin\",\"FirstCoin\",\"BeaverCoin\",\"FindCoin\",\"VaultCoin\",\"Zero\",\"OpenChat\",\"Canada eCoin\",\"Zoin\",\"RenosCoin\",\"DubaiCoin\",\"VirtacoinPlus\",\"TajCoin\",\"Impact\",\"EB3coin\",\"Atmos\",\"HappyCoin\",\"Coinonat\",\"MacronCoin\",\"Condensate\",\"Independent Money System\",\"ArgusCoin\",\"LomoCoin\",\"ProCurrency\",\"GoldReserve\",\"BenjiRolls\",\"GrowthCoin\",\"ILCoin\",\"Phreak\",\"Degas Coin\",\"HTML5 Coin\",\"Ultimate Secure Cash\",\"EquiTrader\",\"QTUM\",\"Quantum Resistant Ledger\",\"Espers\",\"Dynamic\",\"Nano\",\"ChanCoin\",\"Dinastycoin\",\"Denarius\",\"DigitalPrice\",\"Virta Unique Coin\",\"Bitcoin Planet\",\"Unify\",\"BritCoin\",\"SocialCoin\",\"ArcticCoin\",\"DAS\",\"Linda\",\"LeviarCoin\",\"DeepOnion\",\"Bitcore\",\"gCn Coin\",\"SmartCash\",\"Signatum\",\"Onix\",\"Cream\",\"Bitcoin Cash\",\"Monoeci\",\"Draftcoin\",\"Vechain\",\"Sojourn Coin\",\"Stakecoin\",\"NewYorkCoin\",\"FrazCoin\",\"Kronecoin\",\"AdCoin\",\"Linx\",\"CoinonatX\",\"Ethereum Dark\",\"Sumokoin\",\"Obsidian\",\"Cardano\",\"Regalcoin\",\"BitcoinZ\",\"TrezarCoin\",\"Elements\",\"TerraNovaCoin\",\"VIVO Coin\",\"Rupee\",\"Bitcoin Gold\",\"WomenCoin\",\"Theresa May Coin\",\"NamoCoin\",\"LUXCoin\",\"Pirl\",\"Xios\",\"Bitcloud 2.0\",\"eBoost\",\"KekCoin\",\"BlackholeCoin\",\"Infinity Economics\",\"Pura\",\"Innova\",\"Ellaism\",\"GoByte\",\"Magnet\",\"Lamden Tau\",\"Electra\",\"Bitcoin Diamond\",\"SHIELD\",\"Cash & Back Coin\",\"UltraNote\",\"BitCoal\",\"DaxxCoin\",\"Bulwark\",\"Kalkulus\",\"AC3\",\"Lethean\",\"GermanCoin\",\"LiteCoin Ultra\",\"PopularCoin\",\"PhantomX\",\"Photon\",\"Sucre\",\"SparksPay\",\"Digiwage\",\"GunCoin\",\"IrishCoin\",\"Trollcoin\",\"Litecoin Plus\",\"Monkey Project\",\"Pioneer Coin\",\"UnitedBitcoin\",\"Interzone\",\"TokenPay\",\"1717 Masonic Commemorative Token\",\"My Big Coin\",\"TurtleCoin\",\"MUNcoin\",\"Unified Society USDEX\",\"Niobio Cash\",\"ShareChain\",\"Travelflex\",\"KREDS\",\"Tokyo Coin\",\"BiblePay\",\"LitecoinCash\",\"BitFlip\",\"LottoCoin\",\"Crypto Improvement Fund\",\"Stipend\",\"Poa Network\",\"Pushi\",\"Ellerium\",\"Velox\",\"Ontology\",\"Callisto Network\",\"BitTube\",\"Poseidon\",\"Aidos Kuneen\",\"Bitspace\",\"Briacoin\",\"Ignition\",\"Bitrolium\",\"MedicCoin\",\"Alpenschillling\",\"Bitcoin Green\",\"Deviant Coin\",\"Abjcoin\",\"Semux\",\"FuturoCoin\",\"Carebit\",\"Zealium\",\"Monero Classic\",\"Proton\",\"iDealCash\",\"Jumpcoin\",\"Infinex\",\"Bitcoin Incognito\",\"KEYCO\",\"HollyWoodCoin\",\"GINcoin\",\"PlatinCoin\",\"Loki\",\"Newton Coin\",\"Swisscoin\",\"Xt3ch\",\"MassGrid\",\"TheVig\",\"PluraCoin\",\"EmaratCoin\",\"Dekado\",\"Lynx\",\"Poseidon Quark\",\"BitcoinWSpectrum\",\"Muse\",\"Motion\",\"PlusOneCoin\",\"Axe\",\"Trivechain\",\"Dystem\",\"Giant\",\"Peony Coin\",\"Absolute Coin\",\"Vitae\",\"HexCoin\",\"TPCash\",\"Webchain\",\"Ryo\",\"Urals Coin\",\"Qwertycoin\",\"ARENON\",\"EUNO\",\"MMOCoin\",\"Ketan\",\"Project Pai\",\"XDNA\",\"PAXEX\",\"Azart\",\"ThunderStake\",\"Kcash\",\"Xchange\",\"Acute Angle Cloud\",\"CrypticCoin\",\"Bettex coin\",\"Actinium\",\"Bitcoin SV\",\"BitMoney\",\"Junson Ming Chan Coin\",\"FREDEnergy\",\"HerbCoin\",\"Universal Molecule\",\"Lithium\",\"PirateCash\",\"Exosis\",\"Block-Logic\",\"Oduwa\",\"Beam\",\"Galilel\",\"Bithereum\",\"Crypto Sports\",\"Credit\",\"SLICE\",\"Dash Platinum\",\"Nasdacoin\",\"Beetle Coin\",\"Titan Coin\",\"Award\",\"BLAST\",\"Bitcoin Rhodium\",\"GlobalToken\",\"Insane Coin\",\"ALAX\",\"LiteDoge\",\"SolarCoin\",\"TruckCoin\",\"UFO Coin\",\"OrangeCoin\",\"BlakeCoin\",\"BitstarCoin\",\"NeosCoin\",\"HyperCoin\",\"PinkCoin\",\"Crypto Escudo\",\"AudioCoin\",\"IncaKoin\",\"Piggy Coin\",\"Crown Coin\",\"Genstake\",\"SmileyCoin\",\"XiaoMiCoin\",\"Groestlcoin\",\"CapriCoin\",\" ClubCoin\",\"Radium\",\"Bata\",\"Pakcoin\",\"Creditbit \",\"OKCash\",\"Lisk\",\"HiCoin\",\"WhiteCoin\",\"FriendshipCoin\",\"JoinCoin\",\"Triangles Coin\",\"Vollar\",\"EOS\",\"Reality Clash\",\"Oxycoin\",\"TigerCash\",\"Waves\",\"Particl\",\"BitTorrent\",\"Nxt\",\"ZEPHYR\",\"Gapcoin\",\"Beldex\",\"Horizen\",\"BitcoinPlus\"],\"PC_1\":{\"__ndarray__\":\"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\",\"dtype\":\"float64\",\"order\":\"little\",\"shape\":[532]},\"PC_2\":{\"__ndarray__\":\"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\",\"dtype\":\"float64\",\"order\":\"little\",\"shape\":[532]},\"PC_3\":{\"__ndarray__\":\"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\",\"dtype\":\"float64\",\"order\":\"little\",\"shape\":[532]},\"ProofType\":[\"PoW/PoS\",\"PoW/PoS\",\"PoW/PoS\",\"PoW\",\"PoW\",\"PoW\",\"PoW/PoS\",\"PoW\",\"PoW\",\"PoW\",\"PoS\",\"PoW\",\"PoW/PoS\",\"PoS\",\"PoW\",\"PoW/PoS\",\"PoW\",\"PoW\",\"PoW/PoS\",\"PoW/PoS\",\"PoW\",\"PoW\",\"PoW\",\"PoW\",\"PoW\",\"PoW/PoS\",\"PoW\",\"PoW\",\"PoW\",\"PoW/PoS\",\"PoW\",\"PoW/PoS\",\"PoW\",\"PoW\",\"PoC\",\"PoW/PoS\",\"PoW\",\"PoW\",\"PoW\",\"PoW\",\"PoW\",\"PoW\",\"PoS\",\"PoS/PoW/PoT\",\"PoW\",\"PoW\",\"PoW\",\"PoW\",\"PoW\",\"PoW/PoS\",\"PoS\",\"PoW\",\"PoW/PoS\",\"PoW\",\"PoW\",\"PoW\",\"PoW\",\"PoW/PoS\",\"PoW\",\"PoW\",\"PoS\",\"PoW\",\"PoW/PoS\",\"PoS\",\"PoW/PoS\",\"PoW\",\"PoW\",\"PoW\",\"PoW/PoS\",\"PoW/PoS\",\"PoW/PoS\",\"PoW/PoS\",\"PoW/PoS\",\"PoW\",\"PoW\",\"PoW\",\"PoS\",\"PoW/PoS\",\"PoW\",\"PoS\",\"PoW\",\"PoS\",\"PoW/PoS\",\"PoW\",\"PoW\",\"PoW\",\"PoW\",\"PoW/PoS\",\"PoW/PoS\",\"PoW\",\"PoST\",\"PoW\",\"PoW\",\"PoW/PoS\",\"PoS\",\"PoW\",\"PoW/PoS\",\"PoW/PoS\",\"PoW\",\"PoW\",\"PoC\",\"PoS\",\"PoW\",\"PoW/PoS\",\"PoW/PoS\",\"PoW\",\"PoS\",\"PoW\",\"PoW/PoS\",\"PoW\",\"PoS\",\"PoW\",\"PoW/PoS\",\"PoW/PoS\",\"PoW\",\"PoW\",\"PoS\",\"PoW\",\"PoW\",\"PoW\",\"PoW/PoS\",\"PoW\",\"PoW\",\"PoW\",\"PoW\",\"PoW\",\"PoW/PoS\",\"PoW/nPoS\",\"PoW\",\"PoW\",\"PoW\",\"PoW/PoS\",\"PoW\",\"PoS/PoW\",\"PoW\",\"PoW\",\"PoS\",\"PoW\",\"PoW/PoS\",\"PoW\",\"PoW/PoS\",\"PoW/PoS\",\"PoW\",\"PoW\",\"PoW/PoS\",\"PoW\",\"PoW\",\"PoW/PoS\",\"PoW/PoS\",\"PoW\",\"PoW/PoS\",\"PoW\",\"PoW/PoS\",\"PoW/PoS\",\"PoS\",\"PoW\",\"PoW\",\"PoW\",\"PoW\",\"PoW/PoS\",\"PoS\",\"PoW/PoS\",\"PoC\",\"PoS\",\"PoW\",\"PoW\",\"PoW/PoS\",\"PoW/PoS\",\"PoW/PoS\",\"PoW/PoS\",\"PoW/PoS\",\"PoW\",\"PoS\",\"PoW/PoS\",\"PoW/PoS\",\"PoW/PoS\",\"PoS\",\"PoW\",\"PoS\",\"dPoW/PoW\",\"PoW/PoS\",\"PoW/PoS\",\"PoW\",\"PoW/PoS\",\"PoW\",\"PoW/PoS\",\"PoW/PoS\",\"PoW\",\"PoW/PoS\",\"PoW\",\"PoS\",\"PoW\",\"PoW/PoW\",\"PoW\",\"PoW/PoS\",\"PoS\",\"PoW/PoS\",\"PoW/PoS\",\"PoW\",\"PoS\",\"PoS\",\"PoW/PoS\",\"PoS\",\"PoW/PoS\",\"PoW\",\"PoW\",\"DPoS\",\"PoW/PoS\",\"PoW\",\"PoW\",\"PoW/PoS\",\"PoW/PoS\",\"PoS\",\"PoW/PoS\",\"PoW/PoS\",\"PoW\",\"PoS\",\"PoW/PoS\",\"PoW/PoS\",\"PoW/PoS\",\"TPoS\",\"PoW/PoS\",\"PoW/PoS\",\"PoW/PoS\",\"PoW\",\"PoW/PoS\",\"PoS\",\"PoW/PoS\",\"PoW/PoS\",\"PoS\",\"PoW/PoS\",\"PoW\",\"PoW\",\"PoW\",\"PoW/PoS\",\"PoW/PoS\",\"PoW/PoS\",\"PoW/PoS\",\"PoW\",\"PoW/PoS\",\"PoW\",\"PoS\",\"PoW/PoS \",\"PoW\",\"PoS\",\"PoW\",\"PoW\",\"PoW/PoS\",\"PoW\",\"PoW\",\"PoS\",\"PoW\",\"PoW/PoS\",\"PoW/PoS\",\"PoW/PoS\",\"PoW\",\"PoS\",\"PoW/PoS\",\"PoW\",\"PoS\",\"PoW/PoS\",\"PoW/PoS\",\"PoW/PoS\",\"PoW/PoS\",\"PoS\",\"PoW/PoS\",\"PoW\",\"PoS\",\"PoW\",\"PoS\",\"PoW/PoS\",\"PoW/PoS\",\"PoS\",\"PoW\",\"PoS\",\"PoW\",\"PoW/PoS\",\"PoW\",\"PoW\",\"PoW\",\"PoW\",\"PoW/PoS\",\"PoW\",\"PoW/PoS\",\"PoW/PoS\",\"PoW\",\"PoW/PoS\",\"PoW\",\"PoW\",\"PoW\",\"PoW/PoS\",\"PoW\",\"PoW/PoS\",\"PoW\",\"PoW\",\"PoW\",\"PoS\",\"PoW\",\"PoW/PoS\",\"PoW\",\"PoW/PoS\",\"PoS\",\"Proof of Authority\",\"PoW\",\"PoS\",\"PoW\",\"PoW\",\"PoW\",\"PoW\",\"PoW\",\"PoW/PoS\",\"PoW/PoS\",\"PoW\",\"PoS\",\"PoS\",\"PoW/PoS\",\"PoW\",\"PoW/PoS\",\"PoW\",\"PoW/PoS\",\"PoW\",\"PoS\",\"PoW\",\"PoW/PoS\",\"PoW/PoS\",\"PoW/PoS\",\"PoW/PoS\",\"PoW\",\"PoW/PoS\",\"PoW/PoS\",\"PoW\",\"PoS\",\"PoW/PoS\",\"PoS\",\"PoW\",\"PoW\",\"PoW\",\"PoW\",\"PoW/PoS\",\"DPoS\",\"PoW/PoS\",\"PoW/PoS\",\"PoW\",\"PoW/PoS\",\"PoW\",\"PoW\",\"PoW\",\"PoS\",\"PoS\",\"PoW\",\"PoW\",\"PoW/PoS\",\"PoW/PoS\",\"PoW\",\"PoW/PoS\",\"PoW\",\"PoW\",\"PoW\",\"PoS\",\"PoW\",\"PoW\",\"PoW/PoS\",\"PoW/PoS\",\"PoS\",\"PoW\",\"PoW\",\"PoW\",\"PoS\",\"PoS\",\"PoW and PoS\",\"PoW\",\"PoW\",\"PoW/PoS\",\"PoW\",\"PoW\",\"PoW\",\"PoW\",\"PoS\",\"POBh\",\"PoW + Hive\",\"PoW\",\"PoW\",\"PoW\",\"PoW/PoS\",\"PoA\",\"PoW/PoS\",\"PoW/PoS\",\"PoS\",\"PoS\",\"PoW\",\"PoW\",\"PoW\",\"PoW\",\"PoW/PoS\",\"PoW/PoS\",\"PoW/PoS\",\"PoW\",\"PoS\",\"PoW\",\"PoS\",\"PoS\",\"PoW/PoS\",\"DPoS\",\"PoW\",\"PoW/PoS\",\"PoS\",\"PoW\",\"PoS\",\"PoW/PoS\",\"PoW\",\"PoW\",\"PoS/PoW\",\"PoW\",\"PoS\",\"PoW\",\"PoW\",\"PoW\",\"PoW\",\"PoW/PoS\",\"PoS\",\"PoW\",\"PoW/PoS\",\"PoW\",\"PoW/PoS\",\"PoS\",\"HPoW\",\"PoS\",\"PoS\",\"PoS\",\"PoW\",\"PoW\",\"PoW\",\"PoW/PoS\",\"PoS\",\"PoW/PoS\",\"PoS\",\"PoW/PoS\",\"PoS\",\"PoW\",\"PoW/PoS\",\"PoW\",\"PoW\",\"PoW\",\"PoW\",\"PoS\",\"PoW/PoS\",\"PoS\",\"PoS\",\"PoW\",\"PoW/PoS\",\"PoS\",\"PoW\",\"PoW/PoS\",\"Zero-Knowledge Proof\",\"PoW\",\"DPOS\",\"PoW\",\"PoS\",\"PoW\",\"PoW\",\"Pos\",\"PoS\",\"PoW\",\"PoW/PoS\",\"PoW\",\"PoW\",\"PoS\",\"PoW\",\"PoW\",\"PoW/PoS\",\"PoW\",\"PoW/PoS\",\"PoW\",\"PoS\",\"PoW/PoS\",\"PoW\",\"PoS\",\"PoW/PoS\",\"PoW/PoS\",\"PoW/PoS\",\"PoW/PoS\",\"PoW\",\"PoW\",\"PoW\",\"PoW/PoS\",\"DPoS\",\"PoW/PoS\",\"PoW\",\"PoW/PoS\",\"PoW\",\"PoW/PoS\",\"PoW\",\"PoW/PoS\",\"PoS\",\"PoW/PoS\",\"PoW/PoS\",\"PoW\",\"PoW/PoS\",\"PoW/PoS\",\"PoW/PoS\",\"PoW\",\"PoW/PoS\",\"PoW\",\"PoW/PoS\",\"PoW\",\"PoW/PoS\",\"PoW/PoS\",\"PoS\",\"PoW\",\"PoW\",\"Proof of Trust\",\"PoW/PoS\",\"DPoS\",\"PoS\",\"PoW/PoS\",\"PoW/PoS\",\"PoW\",\"PoW/PoS\",\"PoW\",\"DPoS\",\"PoW\",\"DPoS\",\"PoS\",\"LPoS\",\"PoS\",\"DPoS\",\"PoS/LPoS\",\"DPoS\",\"PoW/PoS\",\"PoW\",\"PoW\",\"PoS\"],\"TotalCoinSupply\":[\"42\",\"532000000\",\"314159265359\",\"21000000\",\"0\",\"84000000\",\"22000000\",\"0\",\"210000000\",\"21000000\",\"3600570502\",\"21000000000\",\"22000000\",\"12500000\",\"21000000\",\"350000000\",\"20000000\",\"64000000\",\"16768584\",\"0\",\"2000000000\",\"384000000000\",\"169795588\",\"250000000\",\"100000000\",\"0\",\"247000000\",\"84000000\",\"48166000\",\"500000\",\"21000000 \",\"1000000\",\"13140000\",\"18000000\",\"40000000000\",\"4380000\",\"16555000000\",\"21000000000\",\"13500000000\",\"21000000 \",\"299792458\",\"32000000\",\"0\",\"0\",\"11235813\",\"336000000\",\"1420609614\",\"70000000\",\"72245700\",\"120000000\",\"0\",\"90600000000\",\"22000000\",\"21000000\",\"265420800\",\"20000000\",\"1350000\",\"100000000\",\"42000000\",\"200000000\",\"0\",\"10000000\",\"2419200000\",\"16180000\",\"0\",\"15000000000\",\"21000000\",\"337000000\",\"0\",\"3770000\",\"420000000\",\"98000000\",\"0\",\"21000000\",\"250000000\",\"51200000\",\"0\",\"1000\",\"888000000\",\"100000000\",\"47011968\",\"2300000000\",\"10000000\",\"42000000\",\"80000000\",\"250000\",\"0\",\"1600000000\",\"100000000\",\"23000000\",\"0\",\"84000000\",\"265420800\",\"5500000\",\"0\",\"45000000\",\"0\",\"1000000000\",\"184467440735\",\"10000000000\",\"2158812800\",\"500000000\",\"105120000\",\"68000000\",\"0\",\"1680000000\",\"0\",\"166386000\",\"12000000\",\"2628000\",\"500000000\",\"160000000\",\"0\",\"10000000\",\"1000000000\",\"1000000000\",\"20000000\",\"0\",\"0\",\"3371337\",\"20000000\",\"10000000000\",\"1840000000\",\"619478\",\"21000000\",\"92000000000\",\"0\",\"78000000\",\"33000000\",\"65789100\",\"53760000\",\"5060000\",\"21000000\",\"0\",\"210240000\",\"250000000\",\"100000000\",\"16906397\",\"50000000\",\"0\",\"1000000000\",\"26298000\",\"16000000\",\"21000000\",\"21000000\",\"210000000\",\"81962100\",\"22000000\",\"26550000000\",\"84000000\",\"10500000\",\"21626280000 \",\"0\",\"42000000\",\"221052632\",\"84000000\",\"30000000\",\"168351300\",\"24000000\",\"384000000\",\" 99000000000\",\"40000000\",\"2147483647\",\"20000000\",\"20000000\",\"25000000\",\"75000000\",\"222725000\",\"525000000\",\"90000000\",\"139000000\",\"616448\",\"33500000\",\"2000000000\",\"44333333\",\"100000000\",\"200000000\",\"25000000\",\"657000000\",\"200000000\",\"50000000\",\"90000000\",\"10000000\",\"21000000\",\"9736000\",\"3000000\",\"21000000\",\"1200000000\",\"0\",\"200000000\",\"0\",\"10638298\",\"3100000000\",\"30000000\",\"20000000000\",\"74000000\",\"0\",\"1500000000\",\"21400000\",\"39999898\",\"2500124\",\"100000000\",\"301000000\",\"7506000000\",\"26205539\",\"21000000\",\"125000000\",\"30000000\",\"10000000000\",\"500000000\",\"850000000\",\"3853326.77707314\",\"50000000\",\"38540000 \",\"42000000\",\"228000000\",\"20000000\",\"60000000\",\"20000000\",\"33000000\",\"76500000\",\"28000000\",\"650659833\",\"5000000\",\"21000000\",\"144000000\",\"32514916898\",\"13000000\",\"3315789\",\"15000000\",\"78835200\",\"2714286\",\"25000000\",\"9999999\",\"500000000\",\"21000000\",\"9354000\",\"20000000\",\"100000000000\",\"21933333\",\"185000000\",\"55000000\",\"110000000\",\"3360000\",\"14524851.4827\",\"1000000000\",\"17000000\",\"1000000000\",\"100000000 \",\"21000000\",\"34426423\",\"2232901\",\"100000000\",\"36900000\",\"110000000\",\"4000000000\",\"110290030\",\"100000000\",\"48252000\",\"400000000\",\"500000000\",\"21212121\",\"28600000\",\"1000000000\",\"75000000000\",\"40000000\",\"35520400\",\"2000000000\",\"2500000000\",\"30000000\",\"105000000\",\"90000000000\",\"200084200\",\"72000000\",\"100000000\",\"105000000\",\"50000000000\",\"0\",\"340282367\",\"30000000\",\"2000000000\",\"10000000\",\"100000000\",\"120000000\",\"100000000\",\"19276800\",\"30000000\",\" 75000000\",\"60000000\",\"18900000\",\"50000000000\",\"54000000\",\"18898187.6216583\",\"21000000\",\"200000000000\",\"5000000000\",\"137500000\",\"1100000000\",\"100000000\",\"21000000\",\"9507271\",\"17405891.19707116\",\"86712634466\",\"10500000000\",\"61599965\",\"0\",\"20000000\",\"84000000\",\"100000000\",\"100000000\",\"48252000\",\"4200000\",\"88888888\",\"91388946\",\"45000000000\",\"27000000\",\"21000000000\",\"400000000\",\"1800000000\",\"15733333\",\"27000000\",\"24000000\",\"21000000\",\"25000000000\",\"100000000\",\"1200000000\",\"60000000\",\"156306732.71\",\"21000000\",\"200000000\",\"100000000\",\"21000000\",\"14788275.991\",\"9000000000\",\"350000000\",\"45000000\",\"280000000\",\"31800000\",\"144000000\",\"500000000\",\"30000000000\",\"210000000\",\"660000000\",\"210000000\",\"85000000000\",\"12500000\",\"10000000000\",\"27716121\",\"20000000\",\"550000000\",\"999481516\",\"50000000000\",\"150000000\",\"4999999999\",\"50000000\",\" 90000000000\",\"19800000\",\"21000000\",\"120000000\",\"500000000\",\"64000000\",\"900000000\",\"4000000\",\"21000000\",\"23000000\",\"20166000\",\"23000000\",\"25000000\",\"1618033\",\"30000000\",\"1000000000000\",\"16600000\",\"232000000\",\"336000000\",\"10000000000\",\"100000000\",\"1100000000\",\"800000000\",\"5200000000\",\"840000000\",\"40000000\",\"18406979840\",\"500000000\",\"19340594\",\"252460800\",\"25000000\",\"60000000\",\"124000000\",\"1000000000\",\"6500000000\",\"1000000000\",\"21000000\",\"25000000\",\"50000000\",\"3000000\",\"5000000\",\"70000000\",\"500000000\",\"300000000\",\"21000000\",\"88000000\",\"30000000\",\"100000000\",\"100000000\",\"200000000\",\"80000000\",\"18400000\",\"45000000\",\"5121951220\",\"21000000\",\"26280000\",\"21000000\",\"18000000\",\"26000000\",\"10500000\",\"600000518\",\"150000000\",\"184000000000\",\"10200000000\",\"44000000\",\"168000000\",\"100000000\",\"1000000000\",\"84000000\",\"90000000\",\"92000000000\",\"650000000 \",\"100262205\",\"18081806 \",\"22075700\",\"21000000\",\"21000000\",\"82546564\",\"21000000\",\"5151000\",\"16880000000\",\"52500000\",\"100000000\",\"22105263\",\"1000000000\",\"1750000000\",\"88188888\",\"210000000\",\"184470000000\",\"55000000\",\"50000000\",\"260000000\",\"210000000\",\"2100000000\",\"366000000\",\"100000000\",\"25000000\",\"18000000000\",\"1000000000\",\"100000000\",\"1000000000\",\"7600000000\",\"50000000\",\"84000000\",\"21000000\",\"70000000000\",\"0\",\"8080000000\",\"54000000\",\"105120001.44\",\"25228800\",\"105000000\",\"21000000\",\"120000000\",\"21000000\",\"262800000\",\"19035999\",\"30886000\",\"13370000\",\"74800000000\",\"100000000\",\"19700000\",\"84000000\",\"500000000\",\"5000000000\",\"420000000\",\"64000000\",\"2100000\",\"168000000\",\"30000000\",\"1000000000\",\"35000000000\",\"98100000000\",\"0\",\"4000000000\",\"200000000\",\"7000000000\",\"54256119\",\"21000000\",\"0\",\"500000000\",\"1000000000\",\"10500000000\",\"190000000\",\"1000000000\",\"42000000\",\"15000000\",\"50000000000\",\"400000000\",\"105000000\",\"208000000\",\"160000000\",\"9000000\",\"5000000\",\"182000000\",\"16504333\",\"105000000\",\"159918400\",\"10008835635\",\"300000000\",\"60168145\",\"2800000\",\"120000\",\"2100000000\",\"0\",\"24487944\",\"0\",\"1000000000\",\"100000000\",\"8634140\",\"990000000000\",\"1000000000\",\"2000000000\",\"250000000\",\"1400222610\",\"21000000\",\"1000000\"],\"TotalCoinsMined\":{\"__ndarray__\":\"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\",\"dtype\":\"float64\",\"order\":\"little\",\"shape\":[532]}},\"selected\":{\"id\":\"1672\"},\"selection_policy\":{\"id\":\"1721\"}},\"id\":\"1671\",\"type\":\"ColumnDataSource\"},{\"attributes\":{\"format\":\"0,0.0[00000]\"},\"id\":\"1683\",\"type\":\"NumberFormatter\"},{\"attributes\":{},\"id\":\"1689\",\"type\":\"StringEditor\"},{\"attributes\":{},\"id\":\"1694\",\"type\":\"NumberEditor\"}],\"root_ids\":[\"1669\"]},\"title\":\"Bokeh Application\",\"version\":\"2.4.2\"}};\n",
       "    var render_items = [{\"docid\":\"15b58743-a014-49b4-b498-2629e9441dba\",\"root_ids\":[\"1669\"],\"roots\":{\"1669\":\"51e6e3d9-9d9a-4409-ac85-e86089f0f3dd\"}}];\n",
       "    root.Bokeh.embed.embed_items_notebook(docs_json, render_items);\n",
       "  }\n",
       "  if (root.Bokeh !== undefined && root.Bokeh.Panel !== undefined) {\n",
       "    embed_document(root);\n",
       "  } else {\n",
       "    var attempts = 0;\n",
       "    var timer = setInterval(function(root) {\n",
       "      if (root.Bokeh !== undefined && root.Bokeh.Panel !== undefined) {\n",
       "        clearInterval(timer);\n",
       "        embed_document(root);\n",
       "      } else if (document.readyState == \"complete\") {\n",
       "        attempts++;\n",
       "        if (attempts > 200) {\n",
       "          clearInterval(timer);\n",
       "          console.log(\"Bokeh: ERROR: Unable to run BokehJS code because BokehJS library is missing\");\n",
       "        }\n",
       "      }\n",
       "    }, 25, root)\n",
       "  }\n",
       "})(window);</script>"
      ],
      "text/plain": [
       ":Table   [Algorithm,ProofType,TotalCoinsMined,TotalCoinSupply,PC 1,PC 2,PC 3,CoinName,Class]"
      ]
     },
     "execution_count": 106,
     "metadata": {
      "application/vnd.holoviews_exec.v0+json": {
       "id": "1669"
      }
     },
     "output_type": "execute_result"
    }
   ],
   "source": [
    "# Create a table with tradable cryptocurrencies.\n",
    "clustered_df.hvplot.table(sortable=True, selectable=True)"
   ]
  },
  {
   "cell_type": "code",
   "execution_count": 107,
   "metadata": {},
   "outputs": [
    {
     "name": "stdout",
     "output_type": "stream",
     "text": [
      "There are 532 tradable cryptocurrencies.\n"
     ]
    }
   ],
   "source": [
    "# Print the total number of tradable cryptocurrencies.\n",
    "index = clustered_df.index\n",
    "len(index)\n",
    "print(\"There are \" + str(len(index)) + \" \" + \"tradable cryptocurrencies.\")"
   ]
  },
  {
   "cell_type": "code",
   "execution_count": 108,
   "metadata": {},
   "outputs": [
    {
     "data": {
      "text/plain": [
       "array([[4.20000000e-11, 0.00000000e+00],\n",
       "       [5.32000000e-04, 1.06585544e-03],\n",
       "       [3.14159265e-01, 2.95755135e-02],\n",
       "       ...,\n",
       "       [1.40022261e-03, 9.90135079e-04],\n",
       "       [2.10000000e-05, 7.37028150e-06],\n",
       "       [1.00000000e-06, 1.29582282e-07]])"
      ]
     },
     "execution_count": 108,
     "metadata": {},
     "output_type": "execute_result"
    }
   ],
   "source": [
    "# Scaling data to create the scatter plot with tradable cryptocurrencies.\n",
    "mms = MinMaxScaler()\n",
    "clustered_df_scaled = mms.fit_transform(clustered_df[['TotalCoinSupply','TotalCoinsMined']])\n",
    "clustered_df_scaled"
   ]
  },
  {
   "cell_type": "code",
   "execution_count": 109,
   "metadata": {},
   "outputs": [
    {
     "data": {
      "text/html": [
       "<div>\n",
       "<style scoped>\n",
       "    .dataframe tbody tr th:only-of-type {\n",
       "        vertical-align: middle;\n",
       "    }\n",
       "\n",
       "    .dataframe tbody tr th {\n",
       "        vertical-align: top;\n",
       "    }\n",
       "\n",
       "    .dataframe thead th {\n",
       "        text-align: right;\n",
       "    }\n",
       "</style>\n",
       "<table border=\"1\" class=\"dataframe\">\n",
       "  <thead>\n",
       "    <tr style=\"text-align: right;\">\n",
       "      <th></th>\n",
       "      <th>TotalCoinSupply</th>\n",
       "      <th>TotalCoinsMined</th>\n",
       "      <th>CoinName</th>\n",
       "      <th>Class</th>\n",
       "    </tr>\n",
       "  </thead>\n",
       "  <tbody>\n",
       "    <tr>\n",
       "      <th>42</th>\n",
       "      <td>4.200000e-11</td>\n",
       "      <td>0.000000</td>\n",
       "      <td>42 Coin</td>\n",
       "      <td>0</td>\n",
       "    </tr>\n",
       "    <tr>\n",
       "      <th>404</th>\n",
       "      <td>5.320000e-04</td>\n",
       "      <td>0.001066</td>\n",
       "      <td>404Coin</td>\n",
       "      <td>0</td>\n",
       "    </tr>\n",
       "    <tr>\n",
       "      <th>1337</th>\n",
       "      <td>3.141593e-01</td>\n",
       "      <td>0.029576</td>\n",
       "      <td>EliteCoin</td>\n",
       "      <td>0</td>\n",
       "    </tr>\n",
       "    <tr>\n",
       "      <th>BTC</th>\n",
       "      <td>2.100000e-05</td>\n",
       "      <td>0.000018</td>\n",
       "      <td>Bitcoin</td>\n",
       "      <td>3</td>\n",
       "    </tr>\n",
       "    <tr>\n",
       "      <th>ETH</th>\n",
       "      <td>0.000000e+00</td>\n",
       "      <td>0.000109</td>\n",
       "      <td>Ethereum</td>\n",
       "      <td>3</td>\n",
       "    </tr>\n",
       "    <tr>\n",
       "      <th>LTC</th>\n",
       "      <td>8.400000e-05</td>\n",
       "      <td>0.000064</td>\n",
       "      <td>Litecoin</td>\n",
       "      <td>3</td>\n",
       "    </tr>\n",
       "    <tr>\n",
       "      <th>DASH</th>\n",
       "      <td>2.200000e-05</td>\n",
       "      <td>0.000009</td>\n",
       "      <td>Dash</td>\n",
       "      <td>0</td>\n",
       "    </tr>\n",
       "    <tr>\n",
       "      <th>XMR</th>\n",
       "      <td>0.000000e+00</td>\n",
       "      <td>0.000017</td>\n",
       "      <td>Monero</td>\n",
       "      <td>3</td>\n",
       "    </tr>\n",
       "    <tr>\n",
       "      <th>ETC</th>\n",
       "      <td>2.100000e-04</td>\n",
       "      <td>0.000115</td>\n",
       "      <td>Ethereum Classic</td>\n",
       "      <td>3</td>\n",
       "    </tr>\n",
       "    <tr>\n",
       "      <th>ZEC</th>\n",
       "      <td>2.100000e-05</td>\n",
       "      <td>0.000007</td>\n",
       "      <td>ZCash</td>\n",
       "      <td>3</td>\n",
       "    </tr>\n",
       "  </tbody>\n",
       "</table>\n",
       "</div>"
      ],
      "text/plain": [
       "      TotalCoinSupply  TotalCoinsMined          CoinName  Class\n",
       "42       4.200000e-11         0.000000           42 Coin      0\n",
       "404      5.320000e-04         0.001066           404Coin      0\n",
       "1337     3.141593e-01         0.029576         EliteCoin      0\n",
       "BTC      2.100000e-05         0.000018           Bitcoin      3\n",
       "ETH      0.000000e+00         0.000109          Ethereum      3\n",
       "LTC      8.400000e-05         0.000064          Litecoin      3\n",
       "DASH     2.200000e-05         0.000009              Dash      0\n",
       "XMR      0.000000e+00         0.000017            Monero      3\n",
       "ETC      2.100000e-04         0.000115  Ethereum Classic      3\n",
       "ZEC      2.100000e-05         0.000007             ZCash      3"
      ]
     },
     "execution_count": 109,
     "metadata": {},
     "output_type": "execute_result"
    }
   ],
   "source": [
    "# Create a new DataFrame that has the scaled data with the clustered_df DataFrame index.\n",
    "plot_df=pd.DataFrame(\n",
    "data=clustered_df_scaled, columns=['TotalCoinSupply','TotalCoinsMined'], index = clustered_df.index)\n",
    "\n",
    "# Add the \"CoinName\" column from the clustered_df DataFrame to the new DataFrame.\n",
    "plot_df['CoinName'] = clustered_df['CoinName'] \n",
    "\n",
    "# Add the \"Class\" column from the clustered_df DataFrame to the new DataFrame. \n",
    "plot_df['Class'] = clustered_df['Class'] \n",
    "\n",
    "\n",
    "plot_df.head(10)\n"
   ]
  },
  {
   "cell_type": "code",
   "execution_count": 115,
   "metadata": {},
   "outputs": [
    {
     "data": {},
     "metadata": {},
     "output_type": "display_data"
    },
    {
     "data": {
      "application/vnd.holoviews_exec.v0+json": "",
      "text/html": [
       "<div id='37736'>\n",
       "\n",
       "\n",
       "\n",
       "\n",
       "\n",
       "  <div class=\"bk-root\" id=\"93541b54-bd5b-48c7-849f-7cb9b52000c4\" data-root-id=\"37736\"></div>\n",
       "</div>\n",
       "<script type=\"application/javascript\">(function(root) {\n",
       "  function embed_document(root) {\n",
       "    var docs_json = {\"5c4f0429-ebdd-4da2-9f90-d333d540f4a3\":{\"defs\":[{\"extends\":null,\"module\":null,\"name\":\"ReactiveHTML1\",\"overrides\":[],\"properties\":[]},{\"extends\":null,\"module\":null,\"name\":\"FlexBox1\",\"overrides\":[],\"properties\":[{\"default\":\"flex-start\",\"kind\":null,\"name\":\"align_content\"},{\"default\":\"flex-start\",\"kind\":null,\"name\":\"align_items\"},{\"default\":\"row\",\"kind\":null,\"name\":\"flex_direction\"},{\"default\":\"wrap\",\"kind\":null,\"name\":\"flex_wrap\"},{\"default\":\"flex-start\",\"kind\":null,\"name\":\"justify_content\"}]},{\"extends\":null,\"module\":null,\"name\":\"GridStack1\",\"overrides\":[],\"properties\":[{\"default\":\"warn\",\"kind\":null,\"name\":\"mode\"},{\"default\":null,\"kind\":null,\"name\":\"ncols\"},{\"default\":null,\"kind\":null,\"name\":\"nrows\"},{\"default\":true,\"kind\":null,\"name\":\"allow_resize\"},{\"default\":true,\"kind\":null,\"name\":\"allow_drag\"},{\"default\":[],\"kind\":null,\"name\":\"state\"}]},{\"extends\":null,\"module\":null,\"name\":\"click1\",\"overrides\":[],\"properties\":[{\"default\":\"\",\"kind\":null,\"name\":\"terminal_output\"},{\"default\":\"\",\"kind\":null,\"name\":\"debug_name\"},{\"default\":0,\"kind\":null,\"name\":\"clears\"}]},{\"extends\":null,\"module\":null,\"name\":\"TemplateActions1\",\"overrides\":[],\"properties\":[{\"default\":0,\"kind\":null,\"name\":\"open_modal\"},{\"default\":0,\"kind\":null,\"name\":\"close_modal\"}]},{\"extends\":null,\"module\":null,\"name\":\"MaterialTemplateActions1\",\"overrides\":[],\"properties\":[{\"default\":0,\"kind\":null,\"name\":\"open_modal\"},{\"default\":0,\"kind\":null,\"name\":\"close_modal\"}]}],\"roots\":{\"references\":[{\"attributes\":{\"angle\":{\"value\":0.0},\"fill_alpha\":{\"value\":1.0},\"fill_color\":{\"value\":\"#30a2da\"},\"hatch_alpha\":{\"value\":1.0},\"hatch_color\":{\"value\":\"#30a2da\"},\"hatch_scale\":{\"value\":12.0},\"hatch_weight\":{\"value\":1.0},\"line_alpha\":{\"value\":1.0},\"line_cap\":{\"value\":\"butt\"},\"line_color\":{\"value\":\"#30a2da\"},\"line_dash\":{\"value\":[]},\"line_dash_offset\":{\"value\":0},\"line_join\":{\"value\":\"bevel\"},\"line_width\":{\"value\":1},\"marker\":{\"value\":\"circle\"},\"size\":{\"value\":5.477225575051661},\"x\":{\"field\":\"TotalCoinsMined\"},\"y\":{\"field\":\"TotalCoinSupply\"}},\"id\":\"37800\",\"type\":\"Scatter\"},{\"attributes\":{\"overlay\":{\"id\":\"37766\"}},\"id\":\"37764\",\"type\":\"BoxZoomTool\"},{\"attributes\":{},\"id\":\"37775\",\"type\":\"BasicTickFormatter\"},{\"attributes\":{\"end\":1.1,\"reset_end\":1.1,\"reset_start\":-0.1,\"start\":-0.1,\"tags\":[[[\"TotalCoinSupply\",\"TotalCoinSupply\",null]]]},\"id\":\"37739\",\"type\":\"Range1d\"},{\"attributes\":{\"data\":{\"Class\":[1,1,1,1,1],\"CoinName\":[\"BiblePay\",\"LitecoinCash\",\"Poa Network\",\"Acute Angle Cloud\",\"Waves\"],\"TotalCoinSupply\":{\"__ndarray__\":\"lPYGX5hMdT+8eapDboZLP4RaKOGWizA//Knx0k1iUD8sQxzr4jYaPw==\",\"dtype\":\"float64\",\"order\":\"little\",\"shape\":[5]},\"TotalCoinsMined\":{\"__ndarray__\":\"j1gNkdpTXT+QpMXySiFFP5wZJXiPEis/ekNDBbiMUD/7RX5gv3oaPw==\",\"dtype\":\"float64\",\"order\":\"little\",\"shape\":[5]}},\"selected\":{\"id\":\"37802\"},\"selection_policy\":{\"id\":\"37818\"}},\"id\":\"37801\",\"type\":\"ColumnDataSource\"},{\"attributes\":{},\"id\":\"37765\",\"type\":\"ResetTool\"},{\"attributes\":{\"tools\":[{\"id\":\"37740\"},{\"id\":\"37761\"},{\"id\":\"37762\"},{\"id\":\"37763\"},{\"id\":\"37764\"},{\"id\":\"37765\"}]},\"id\":\"37767\",\"type\":\"Toolbar\"},{\"attributes\":{\"label\":{\"value\":\"3\"},\"renderers\":[{\"id\":\"37853\"}]},\"id\":\"37871\",\"type\":\"LegendItem\"},{\"attributes\":{},\"id\":\"37818\",\"type\":\"UnionRenderers\"},{\"attributes\":{\"coordinates\":null,\"data_source\":{\"id\":\"37847\"},\"glyph\":{\"id\":\"37850\"},\"group\":null,\"hover_glyph\":null,\"muted_glyph\":{\"id\":\"37852\"},\"nonselection_glyph\":{\"id\":\"37851\"},\"selection_glyph\":{\"id\":\"37872\"},\"view\":{\"id\":\"37854\"}},\"id\":\"37853\",\"type\":\"GlyphRenderer\"},{\"attributes\":{\"coordinates\":null,\"data_source\":{\"id\":\"37780\"},\"glyph\":{\"id\":\"37783\"},\"group\":null,\"hover_glyph\":null,\"muted_glyph\":{\"id\":\"37785\"},\"nonselection_glyph\":{\"id\":\"37784\"},\"selection_glyph\":{\"id\":\"37800\"},\"view\":{\"id\":\"37787\"}},\"id\":\"37786\",\"type\":\"GlyphRenderer\"},{\"attributes\":{\"angle\":{\"value\":0.0},\"fill_alpha\":{\"value\":1.0},\"fill_color\":{\"value\":\"#fc4f30\"},\"hatch_alpha\":{\"value\":1.0},\"hatch_color\":{\"value\":\"#fc4f30\"},\"hatch_scale\":{\"value\":12.0},\"hatch_weight\":{\"value\":1.0},\"line_alpha\":{\"value\":1.0},\"line_cap\":{\"value\":\"butt\"},\"line_color\":{\"value\":\"#fc4f30\"},\"line_dash\":{\"value\":[]},\"line_dash_offset\":{\"value\":0},\"line_join\":{\"value\":\"bevel\"},\"line_width\":{\"value\":1},\"marker\":{\"value\":\"circle\"},\"size\":{\"value\":5.477225575051661},\"x\":{\"field\":\"TotalCoinsMined\"},\"y\":{\"field\":\"TotalCoinSupply\"}},\"id\":\"37822\",\"type\":\"Scatter\"},{\"attributes\":{\"fill_color\":{\"value\":\"#6d904f\"},\"hatch_color\":{\"value\":\"#6d904f\"},\"line_color\":{\"value\":\"#6d904f\"},\"size\":{\"value\":5.477225575051661},\"x\":{\"field\":\"TotalCoinsMined\"},\"y\":{\"field\":\"TotalCoinSupply\"}},\"id\":\"37850\",\"type\":\"Scatter\"},{\"attributes\":{\"bottom_units\":\"screen\",\"coordinates\":null,\"fill_alpha\":0.5,\"fill_color\":\"lightgrey\",\"group\":null,\"left_units\":\"screen\",\"level\":\"overlay\",\"line_alpha\":1.0,\"line_color\":\"black\",\"line_dash\":[4,4],\"line_width\":2,\"right_units\":\"screen\",\"syncable\":false,\"top_units\":\"screen\"},\"id\":\"37766\",\"type\":\"BoxAnnotation\"},{\"attributes\":{\"angle\":{\"value\":0.0},\"fill_alpha\":{\"value\":1.0},\"fill_color\":{\"value\":\"#6d904f\"},\"hatch_alpha\":{\"value\":1.0},\"hatch_color\":{\"value\":\"#6d904f\"},\"hatch_scale\":{\"value\":12.0},\"hatch_weight\":{\"value\":1.0},\"line_alpha\":{\"value\":1.0},\"line_cap\":{\"value\":\"butt\"},\"line_color\":{\"value\":\"#6d904f\"},\"line_dash\":{\"value\":[]},\"line_dash_offset\":{\"value\":0},\"line_join\":{\"value\":\"bevel\"},\"line_width\":{\"value\":1},\"marker\":{\"value\":\"circle\"},\"size\":{\"value\":5.477225575051661},\"x\":{\"field\":\"TotalCoinsMined\"},\"y\":{\"field\":\"TotalCoinSupply\"}},\"id\":\"37872\",\"type\":\"Scatter\"},{\"attributes\":{\"label\":{\"value\":\"0\"},\"renderers\":[{\"id\":\"37786\"}]},\"id\":\"37799\",\"type\":\"LegendItem\"},{\"attributes\":{},\"id\":\"37802\",\"type\":\"Selection\"},{\"attributes\":{\"fill_color\":{\"value\":\"#e5ae38\"},\"hatch_color\":{\"value\":\"#e5ae38\"},\"line_color\":{\"value\":\"#e5ae38\"},\"size\":{\"value\":5.477225575051661},\"x\":{\"field\":\"TotalCoinsMined\"},\"y\":{\"field\":\"TotalCoinSupply\"}},\"id\":\"37826\",\"type\":\"Scatter\"},{\"attributes\":{},\"id\":\"37868\",\"type\":\"UnionRenderers\"},{\"attributes\":{\"margin\":[5,5,5,5],\"name\":\"HSpacer81107\",\"sizing_mode\":\"stretch_width\"},\"id\":\"37737\",\"type\":\"Spacer\"},{\"attributes\":{\"label\":{\"value\":\"1\"},\"renderers\":[{\"id\":\"37807\"}]},\"id\":\"37821\",\"type\":\"LegendItem\"},{\"attributes\":{\"children\":[{\"id\":\"37737\"},{\"id\":\"37744\"},{\"id\":\"38017\"}],\"margin\":[0,0,0,0],\"name\":\"Row81103\",\"tags\":[\"embedded\"]},\"id\":\"37736\",\"type\":\"Row\"},{\"attributes\":{\"source\":{\"id\":\"37780\"}},\"id\":\"37787\",\"type\":\"CDSView\"},{\"attributes\":{},\"id\":\"37758\",\"type\":\"BasicTicker\"},{\"attributes\":{\"below\":[{\"id\":\"37753\"}],\"center\":[{\"id\":\"37756\"},{\"id\":\"37760\"}],\"height\":300,\"left\":[{\"id\":\"37757\"}],\"margin\":[5,5,5,5],\"min_border_bottom\":10,\"min_border_left\":10,\"min_border_right\":10,\"min_border_top\":10,\"renderers\":[{\"id\":\"37786\"},{\"id\":\"37807\"},{\"id\":\"37829\"},{\"id\":\"37853\"}],\"right\":[{\"id\":\"37798\"}],\"sizing_mode\":\"fixed\",\"title\":{\"id\":\"37745\"},\"toolbar\":{\"id\":\"37767\"},\"width\":700,\"x_range\":{\"id\":\"37738\"},\"x_scale\":{\"id\":\"37749\"},\"y_range\":{\"id\":\"37739\"},\"y_scale\":{\"id\":\"37751\"}},\"id\":\"37744\",\"subtype\":\"Figure\",\"type\":\"Plot\"},{\"attributes\":{\"data\":{\"Class\":[3,3,3,3,3,3,3,3,3,3,3,3,3,3,3,3,3,3,3,3,3,3,3,3,3,3,3,3,3,3,3,3,3,3,3,3,3,3,3,3,3,3,3,3,3,3,3,3,3,3,3,3,3,3,3,3,3,3,3,3,3,3,3,3,3,3,3,3,3,3,3,3,3,3,3,3,3,3,3,3,3,3,3,3,3,3,3,3,3,3,3,3,3,3,3,3,3,3,3,3,3,3,3,3,3,3,3,3,3,3,3,3,3,3,3,3,3,3,3,3,3,3,3,3,3,3,3,3,3,3,3,3,3,3,3,3,3,3,3,3,3,3,3,3,3,3,3,3,3,3,3,3,3,3,3,3,3,3,3,3,3,3,3,3,3,3,3,3,3,3,3,3,3,3,3,3,3,3,3,3,3,3,3,3,3,3,3,3,3,3,3,3,3,3,3,3,3,3,3,3,3,3,3,3,3,3,3,3,3,3,3,3,3,3,3,3,3,3,3,3,3,3,3,3,3,3,3,3,3,3,3,3,3,3,3,3,3,3,3,3],\"CoinName\":[\"Bitcoin\",\"Ethereum\",\"Litecoin\",\"Monero\",\"Ethereum Classic\",\"ZCash\",\"DigiByte\",\"ProsperCoin\",\"Spreadcoin\",\"Argentum\",\"MyriadCoin\",\"MoonCoin\",\"ZetaCoin\",\"SexCoin\",\"Quatloo\",\"QuarkCoin\",\"Riecoin\",\"Digitalcoin \",\"Catcoin\",\"CannaCoin\",\"CryptCoin\",\"Verge\",\"DevCoin\",\"EarthCoin\",\"E-Gulden\",\"Einsteinium\",\"Emerald\",\"Franko\",\"FeatherCoin\",\"GrandCoin\",\"GlobalCoin\",\"GoldCoin\",\"Infinite Coin\",\"IXcoin\",\"KrugerCoin\",\"LuckyCoin\",\"Litebar \",\"MegaCoin\",\"MediterraneanCoin\",\"MinCoin\",\"NobleCoin\",\"Namecoin\",\"NyanCoin\",\"RonPaulCoin\",\"StableCoin\",\"SmartCoin\",\"SysCoin\",\"TigerCoin\",\"TerraCoin\",\"UnbreakableCoin\",\"Unobtanium\",\"UroCoin\",\"ViaCoin\",\"Vertcoin\",\"WorldCoin\",\"JouleCoin\",\"ByteCoin\",\"DigitalNote \",\"MonaCoin\",\"Gulden\",\"PesetaCoin\",\"Wild Beast Coin\",\"Flo\",\"ArtByte\",\"Folding Coin\",\"Unitus\",\"CypherPunkCoin\",\"OmniCron\",\"GreenCoin\",\"Cryptonite\",\"MasterCoin\",\"SoonCoin\",\"1Credit\",\"MarsCoin \",\"Crypto\",\"Anarchists Prime\",\"BowsCoin\",\"Song Coin\",\"BitZeny\",\"Expanse\",\"Siacoin\",\"MindCoin\",\"I0coin\",\"Revolution VR\",\"HOdlcoin\",\"Gamecredits\",\"CarpeDiemCoin\",\"Adzcoin\",\"SoilCoin\",\"YoCoin\",\"SibCoin\",\"Francs\",\"BolivarCoin\",\"Omni\",\"PizzaCoin\",\"Komodo\",\"Karbo\",\"ZayedCoin\",\"Circuits of Value\",\"DopeCoin\",\"DollarCoin\",\"Shilling\",\"ZCoin\",\"Elementrem\",\"ZClassic\",\"KiloCoin\",\"ArtexCoin\",\"Kurrent\",\"Cannabis Industry Coin\",\"OsmiumCoin\",\"Bikercoins\",\"HexxCoin\",\"PacCoin\",\"Citadel\",\"BeaverCoin\",\"VaultCoin\",\"Zero\",\"Canada eCoin\",\"Zoin\",\"DubaiCoin\",\"EB3coin\",\"Coinonat\",\"BenjiRolls\",\"ILCoin\",\"EquiTrader\",\"Quantum Resistant Ledger\",\"Dynamic\",\"Nano\",\"ChanCoin\",\"Dinastycoin\",\"DigitalPrice\",\"Unify\",\"SocialCoin\",\"ArcticCoin\",\"DAS\",\"LeviarCoin\",\"Bitcore\",\"gCn Coin\",\"SmartCash\",\"Onix\",\"Bitcoin Cash\",\"Sojourn Coin\",\"NewYorkCoin\",\"FrazCoin\",\"Kronecoin\",\"AdCoin\",\"Linx\",\"Sumokoin\",\"BitcoinZ\",\"Elements\",\"VIVO Coin\",\"Bitcoin Gold\",\"Pirl\",\"eBoost\",\"Pura\",\"Innova\",\"Ellaism\",\"GoByte\",\"SHIELD\",\"UltraNote\",\"BitCoal\",\"DaxxCoin\",\"AC3\",\"Lethean\",\"PopularCoin\",\"Photon\",\"Sucre\",\"SparksPay\",\"GunCoin\",\"IrishCoin\",\"Pioneer Coin\",\"UnitedBitcoin\",\"Interzone\",\"1717 Masonic Commemorative Token\",\"TurtleCoin\",\"MUNcoin\",\"Niobio Cash\",\"ShareChain\",\"Travelflex\",\"KREDS\",\"BitFlip\",\"LottoCoin\",\"Crypto Improvement Fund\",\"Callisto Network\",\"BitTube\",\"Poseidon\",\"Aidos Kuneen\",\"Bitrolium\",\"Alpenschillling\",\"FuturoCoin\",\"Monero Classic\",\"Jumpcoin\",\"Infinex\",\"KEYCO\",\"GINcoin\",\"PlatinCoin\",\"Loki\",\"Newton Coin\",\"MassGrid\",\"PluraCoin\",\"Motion\",\"PlusOneCoin\",\"Axe\",\"HexCoin\",\"Webchain\",\"Ryo\",\"Urals Coin\",\"Qwertycoin\",\"Project Pai\",\"Azart\",\"Xchange\",\"CrypticCoin\",\"Actinium\",\"Bitcoin SV\",\"FREDEnergy\",\"Universal Molecule\",\"Lithium\",\"PirateCash\",\"Exosis\",\"Block-Logic\",\"Beam\",\"Bithereum\",\"SLICE\",\"BLAST\",\"Bitcoin Rhodium\",\"GlobalToken\",\"SolarCoin\",\"UFO Coin\",\"BlakeCoin\",\"Crypto Escudo\",\"Crown Coin\",\"SmileyCoin\",\"Groestlcoin\",\"Bata\",\"Pakcoin\",\"JoinCoin\",\"Vollar\",\"Reality Clash\",\"Beldex\",\"Horizen\"],\"TotalCoinSupply\":{\"__ndarray__\":\"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\",\"dtype\":\"float64\",\"order\":\"little\",\"shape\":[240]},\"TotalCoinsMined\":{\"__ndarray__\":\"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\",\"dtype\":\"float64\",\"order\":\"little\",\"shape\":[240]}},\"selected\":{\"id\":\"37848\"},\"selection_policy\":{\"id\":\"37868\"}},\"id\":\"37847\",\"type\":\"ColumnDataSource\"},{\"attributes\":{\"coordinates\":null,\"group\":null,\"text_color\":\"black\",\"text_font_size\":\"12pt\"},\"id\":\"37745\",\"type\":\"Title\"},{\"attributes\":{\"source\":{\"id\":\"37823\"}},\"id\":\"37830\",\"type\":\"CDSView\"},{\"attributes\":{},\"id\":\"37779\",\"type\":\"AllLabels\"},{\"attributes\":{},\"id\":\"37749\",\"type\":\"LinearScale\"},{\"attributes\":{\"angle\":{\"value\":0.0},\"fill_alpha\":{\"value\":1.0},\"fill_color\":{\"value\":\"#e5ae38\"},\"hatch_alpha\":{\"value\":1.0},\"hatch_color\":{\"value\":\"#e5ae38\"},\"hatch_scale\":{\"value\":12.0},\"hatch_weight\":{\"value\":1.0},\"line_alpha\":{\"value\":1.0},\"line_cap\":{\"value\":\"butt\"},\"line_color\":{\"value\":\"#e5ae38\"},\"line_dash\":{\"value\":[]},\"line_dash_offset\":{\"value\":0},\"line_join\":{\"value\":\"bevel\"},\"line_width\":{\"value\":1},\"marker\":{\"value\":\"circle\"},\"size\":{\"value\":5.477225575051661},\"x\":{\"field\":\"TotalCoinsMined\"},\"y\":{\"field\":\"TotalCoinSupply\"}},\"id\":\"37846\",\"type\":\"Scatter\"},{\"attributes\":{},\"id\":\"37754\",\"type\":\"BasicTicker\"},{\"attributes\":{\"margin\":[5,5,5,5],\"name\":\"HSpacer81108\",\"sizing_mode\":\"stretch_width\"},\"id\":\"38017\",\"type\":\"Spacer\"},{\"attributes\":{\"axis\":{\"id\":\"37753\"},\"coordinates\":null,\"grid_line_color\":null,\"group\":null,\"ticker\":null},\"id\":\"37756\",\"type\":\"Grid\"},{\"attributes\":{},\"id\":\"37763\",\"type\":\"WheelZoomTool\"},{\"attributes\":{},\"id\":\"37842\",\"type\":\"UnionRenderers\"},{\"attributes\":{\"end\":1.042857142857143,\"reset_end\":1.042857142857143,\"reset_start\":-0.04285714285714286,\"start\":-0.04285714285714286,\"tags\":[[[\"TotalCoinsMined\",\"TotalCoinsMined\",null]]]},\"id\":\"37738\",\"type\":\"Range1d\"},{\"attributes\":{\"fill_alpha\":{\"value\":0.1},\"fill_color\":{\"value\":\"#30a2da\"},\"hatch_alpha\":{\"value\":0.1},\"hatch_color\":{\"value\":\"#30a2da\"},\"line_alpha\":{\"value\":0.1},\"line_color\":{\"value\":\"#30a2da\"},\"size\":{\"value\":5.477225575051661},\"x\":{\"field\":\"TotalCoinsMined\"},\"y\":{\"field\":\"TotalCoinSupply\"}},\"id\":\"37784\",\"type\":\"Scatter\"},{\"attributes\":{},\"id\":\"37751\",\"type\":\"LinearScale\"},{\"attributes\":{\"coordinates\":null,\"data_source\":{\"id\":\"37823\"},\"glyph\":{\"id\":\"37826\"},\"group\":null,\"hover_glyph\":null,\"muted_glyph\":{\"id\":\"37828\"},\"nonselection_glyph\":{\"id\":\"37827\"},\"selection_glyph\":{\"id\":\"37846\"},\"view\":{\"id\":\"37830\"}},\"id\":\"37829\",\"type\":\"GlyphRenderer\"},{\"attributes\":{\"axis_label\":\"TotalCoinSupply\",\"coordinates\":null,\"formatter\":{\"id\":\"37778\"},\"group\":null,\"major_label_policy\":{\"id\":\"37779\"},\"ticker\":{\"id\":\"37758\"}},\"id\":\"37757\",\"type\":\"LinearAxis\"},{\"attributes\":{\"coordinates\":null,\"data_source\":{\"id\":\"37801\"},\"glyph\":{\"id\":\"37804\"},\"group\":null,\"hover_glyph\":null,\"muted_glyph\":{\"id\":\"37806\"},\"nonselection_glyph\":{\"id\":\"37805\"},\"selection_glyph\":{\"id\":\"37822\"},\"view\":{\"id\":\"37808\"}},\"id\":\"37807\",\"type\":\"GlyphRenderer\"},{\"attributes\":{\"axis_label\":\"TotalCoinsMined\",\"coordinates\":null,\"formatter\":{\"id\":\"37775\"},\"group\":null,\"major_label_policy\":{\"id\":\"37776\"},\"ticker\":{\"id\":\"37754\"}},\"id\":\"37753\",\"type\":\"LinearAxis\"},{\"attributes\":{\"label\":{\"value\":\"2\"},\"renderers\":[{\"id\":\"37829\"}]},\"id\":\"37845\",\"type\":\"LegendItem\"},{\"attributes\":{\"fill_alpha\":{\"value\":0.1},\"fill_color\":{\"value\":\"#fc4f30\"},\"hatch_alpha\":{\"value\":0.1},\"hatch_color\":{\"value\":\"#fc4f30\"},\"line_alpha\":{\"value\":0.1},\"line_color\":{\"value\":\"#fc4f30\"},\"size\":{\"value\":5.477225575051661},\"x\":{\"field\":\"TotalCoinsMined\"},\"y\":{\"field\":\"TotalCoinSupply\"}},\"id\":\"37805\",\"type\":\"Scatter\"},{\"attributes\":{\"source\":{\"id\":\"37847\"}},\"id\":\"37854\",\"type\":\"CDSView\"},{\"attributes\":{\"axis\":{\"id\":\"37757\"},\"coordinates\":null,\"dimension\":1,\"grid_line_color\":null,\"group\":null,\"ticker\":null},\"id\":\"37760\",\"type\":\"Grid\"},{\"attributes\":{\"source\":{\"id\":\"37801\"}},\"id\":\"37808\",\"type\":\"CDSView\"},{\"attributes\":{\"fill_alpha\":{\"value\":0.2},\"fill_color\":{\"value\":\"#6d904f\"},\"hatch_alpha\":{\"value\":0.2},\"hatch_color\":{\"value\":\"#6d904f\"},\"line_alpha\":{\"value\":0.2},\"line_color\":{\"value\":\"#6d904f\"},\"size\":{\"value\":5.477225575051661},\"x\":{\"field\":\"TotalCoinsMined\"},\"y\":{\"field\":\"TotalCoinSupply\"}},\"id\":\"37852\",\"type\":\"Scatter\"},{\"attributes\":{},\"id\":\"37824\",\"type\":\"Selection\"},{\"attributes\":{\"fill_alpha\":{\"value\":0.2},\"fill_color\":{\"value\":\"#30a2da\"},\"hatch_alpha\":{\"value\":0.2},\"hatch_color\":{\"value\":\"#30a2da\"},\"line_alpha\":{\"value\":0.2},\"line_color\":{\"value\":\"#30a2da\"},\"size\":{\"value\":5.477225575051661},\"x\":{\"field\":\"TotalCoinsMined\"},\"y\":{\"field\":\"TotalCoinSupply\"}},\"id\":\"37785\",\"type\":\"Scatter\"},{\"attributes\":{\"fill_alpha\":{\"value\":0.2},\"fill_color\":{\"value\":\"#fc4f30\"},\"hatch_alpha\":{\"value\":0.2},\"hatch_color\":{\"value\":\"#fc4f30\"},\"line_alpha\":{\"value\":0.2},\"line_color\":{\"value\":\"#fc4f30\"},\"size\":{\"value\":5.477225575051661},\"x\":{\"field\":\"TotalCoinsMined\"},\"y\":{\"field\":\"TotalCoinSupply\"}},\"id\":\"37806\",\"type\":\"Scatter\"},{\"attributes\":{},\"id\":\"37848\",\"type\":\"Selection\"},{\"attributes\":{\"fill_alpha\":{\"value\":0.1},\"fill_color\":{\"value\":\"#e5ae38\"},\"hatch_alpha\":{\"value\":0.1},\"hatch_color\":{\"value\":\"#e5ae38\"},\"line_alpha\":{\"value\":0.1},\"line_color\":{\"value\":\"#e5ae38\"},\"size\":{\"value\":5.477225575051661},\"x\":{\"field\":\"TotalCoinsMined\"},\"y\":{\"field\":\"TotalCoinSupply\"}},\"id\":\"37827\",\"type\":\"Scatter\"},{\"attributes\":{},\"id\":\"37778\",\"type\":\"BasicTickFormatter\"},{\"attributes\":{\"fill_color\":{\"value\":\"#fc4f30\"},\"hatch_color\":{\"value\":\"#fc4f30\"},\"line_color\":{\"value\":\"#fc4f30\"},\"size\":{\"value\":5.477225575051661},\"x\":{\"field\":\"TotalCoinsMined\"},\"y\":{\"field\":\"TotalCoinSupply\"}},\"id\":\"37804\",\"type\":\"Scatter\"},{\"attributes\":{\"data\":{\"Class\":[2],\"CoinName\":[\"BitTorrent\"],\"TotalCoinSupply\":{\"__ndarray__\":\"rkfhehSu7z8=\",\"dtype\":\"float64\",\"order\":\"little\",\"shape\":[1]},\"TotalCoinsMined\":{\"__ndarray__\":\"AAAAAAAA8D8=\",\"dtype\":\"float64\",\"order\":\"little\",\"shape\":[1]}},\"selected\":{\"id\":\"37824\"},\"selection_policy\":{\"id\":\"37842\"}},\"id\":\"37823\",\"type\":\"ColumnDataSource\"},{\"attributes\":{\"click_policy\":\"mute\",\"coordinates\":null,\"group\":null,\"items\":[{\"id\":\"37799\"},{\"id\":\"37821\"},{\"id\":\"37845\"},{\"id\":\"37871\"}],\"location\":[0,0],\"title\":\"Class\"},\"id\":\"37798\",\"type\":\"Legend\"},{\"attributes\":{\"fill_color\":{\"value\":\"#30a2da\"},\"hatch_color\":{\"value\":\"#30a2da\"},\"line_color\":{\"value\":\"#30a2da\"},\"size\":{\"value\":5.477225575051661},\"x\":{\"field\":\"TotalCoinsMined\"},\"y\":{\"field\":\"TotalCoinSupply\"}},\"id\":\"37783\",\"type\":\"Scatter\"},{\"attributes\":{},\"id\":\"37761\",\"type\":\"SaveTool\"},{\"attributes\":{},\"id\":\"37776\",\"type\":\"AllLabels\"},{\"attributes\":{\"fill_alpha\":{\"value\":0.1},\"fill_color\":{\"value\":\"#6d904f\"},\"hatch_alpha\":{\"value\":0.1},\"hatch_color\":{\"value\":\"#6d904f\"},\"line_alpha\":{\"value\":0.1},\"line_color\":{\"value\":\"#6d904f\"},\"size\":{\"value\":5.477225575051661},\"x\":{\"field\":\"TotalCoinsMined\"},\"y\":{\"field\":\"TotalCoinSupply\"}},\"id\":\"37851\",\"type\":\"Scatter\"},{\"attributes\":{\"callback\":null,\"renderers\":[{\"id\":\"37786\"},{\"id\":\"37807\"},{\"id\":\"37829\"},{\"id\":\"37853\"}],\"tags\":[\"hv_created\"],\"tooltips\":[[\"Class\",\"@{Class}\"],[\"TotalCoinsMined\",\"@{TotalCoinsMined}\"],[\"TotalCoinSupply\",\"@{TotalCoinSupply}\"],[\"CoinName\",\"@{CoinName}\"]]},\"id\":\"37740\",\"type\":\"HoverTool\"},{\"attributes\":{},\"id\":\"37762\",\"type\":\"PanTool\"},{\"attributes\":{\"fill_alpha\":{\"value\":0.2},\"fill_color\":{\"value\":\"#e5ae38\"},\"hatch_alpha\":{\"value\":0.2},\"hatch_color\":{\"value\":\"#e5ae38\"},\"line_alpha\":{\"value\":0.2},\"line_color\":{\"value\":\"#e5ae38\"},\"size\":{\"value\":5.477225575051661},\"x\":{\"field\":\"TotalCoinsMined\"},\"y\":{\"field\":\"TotalCoinSupply\"}},\"id\":\"37828\",\"type\":\"Scatter\"},{\"attributes\":{},\"id\":\"37795\",\"type\":\"UnionRenderers\"},{\"attributes\":{},\"id\":\"37781\",\"type\":\"Selection\"},{\"attributes\":{\"data\":{\"Class\":[0,0,0,0,0,0,0,0,0,0,0,0,0,0,0,0,0,0,0,0,0,0,0,0,0,0,0,0,0,0,0,0,0,0,0,0,0,0,0,0,0,0,0,0,0,0,0,0,0,0,0,0,0,0,0,0,0,0,0,0,0,0,0,0,0,0,0,0,0,0,0,0,0,0,0,0,0,0,0,0,0,0,0,0,0,0,0,0,0,0,0,0,0,0,0,0,0,0,0,0,0,0,0,0,0,0,0,0,0,0,0,0,0,0,0,0,0,0,0,0,0,0,0,0,0,0,0,0,0,0,0,0,0,0,0,0,0,0,0,0,0,0,0,0,0,0,0,0,0,0,0,0,0,0,0,0,0,0,0,0,0,0,0,0,0,0,0,0,0,0,0,0,0,0,0,0,0,0,0,0,0,0,0,0,0,0,0,0,0,0,0,0,0,0,0,0,0,0,0,0,0,0,0,0,0,0,0,0,0,0,0,0,0,0,0,0,0,0,0,0,0,0,0,0,0,0,0,0,0,0,0,0,0,0,0,0,0,0,0,0,0,0,0,0,0,0,0,0,0,0,0,0,0,0,0,0,0,0,0,0,0,0,0,0,0,0,0,0,0,0,0,0,0,0,0,0,0,0,0,0,0,0,0,0,0,0],\"CoinName\":[\"42 Coin\",\"404Coin\",\"EliteCoin\",\"Dash\",\"Bitshares\",\"BitcoinDark\",\"PayCoin\",\"KoboCoin\",\"Aurora Coin\",\"BlueCoin\",\"EnergyCoin\",\"BitBar\",\"CryptoBullion\",\"CasinoCoin\",\"Diamond\",\"Exclusive Coin\",\"FlutterCoin\",\"HoboNickels\",\"HyperStake\",\"IOCoin\",\"MaxCoin\",\"MintCoin\",\"MazaCoin\",\"Nautilus Coin\",\"NavCoin\",\"OpalCoin\",\"Orbitcoin\",\"PotCoin\",\"PhoenixCoin\",\"Reddcoin\",\"SuperCoin\",\"SyncCoin\",\"TeslaCoin\",\"TittieCoin\",\"TorCoin\",\"UnitaryStatus Dollar\",\"UltraCoin\",\"VeriCoin\",\"X11 Coin\",\"Crypti\",\"StealthCoin\",\"ZCC Coin\",\"BurstCoin\",\"StorjCoin\",\"Neutron\",\"FairCoin\",\"RubyCoin\",\"Kore\",\"Dnotes\",\"8BIT Coin\",\"Sativa Coin\",\"Ucoin\",\"Vtorrent\",\"IslaCoin\",\"Nexus\",\"Droidz\",\"Squall Coin\",\"Diggits\",\"Paycon\",\"Emercoin\",\"EverGreenCoin\",\"Decred\",\"EDRCoin\",\"Hitcoin\",\"DubaiCoin\",\"PWR Coin\",\"BillaryCoin\",\"GPU Coin\",\"EuropeCoin\",\"ZeitCoin\",\"SwingCoin\",\"SafeExchangeCoin\",\"Nebuchadnezzar\",\"Ratecoin\",\"Revenu\",\"Clockcoin\",\"VIP Tokens\",\"BitSend\",\"Let it Ride\",\"PutinCoin\",\"iBankCoin\",\"Frankywillcoin\",\"MudraCoin\",\"Lutetium Coin\",\"GoldBlocks\",\"CarterCoin\",\"BitTokens\",\"MustangCoin\",\"ZoneCoin\",\"RootCoin\",\"BitCurrency\",\"Swiscoin\",\"BuzzCoin\",\"Opair\",\"PesoBit\",\"Halloween Coin\",\"CoffeeCoin\",\"RoyalCoin\",\"GanjaCoin V2\",\"TeamUP\",\"LanaCoin\",\"ARK\",\"InsaneCoin\",\"EmberCoin\",\"XenixCoin\",\"FreeCoin\",\"PLNCoin\",\"AquariusCoin\",\"Creatio\",\"Eternity\",\"Eurocoin\",\"BitcoinFast\",\"Stakenet\",\"BitConnect Coin\",\"MoneyCoin\",\"Enigma\",\"Russiacoin\",\"PandaCoin\",\"GameUnits\",\"GAKHcoin\",\"Allsafe\",\"LiteCreed\",\"Klingon Empire Darsek\",\"Internet of People\",\"KushCoin\",\"Printerium\",\"Impeach\",\"Zilbercoin\",\"FirstCoin\",\"FindCoin\",\"OpenChat\",\"RenosCoin\",\"VirtacoinPlus\",\"TajCoin\",\"Impact\",\"Atmos\",\"HappyCoin\",\"MacronCoin\",\"Condensate\",\"Independent Money System\",\"ArgusCoin\",\"LomoCoin\",\"ProCurrency\",\"GoldReserve\",\"GrowthCoin\",\"Phreak\",\"Degas Coin\",\"HTML5 Coin\",\"Ultimate Secure Cash\",\"QTUM\",\"Espers\",\"Denarius\",\"Virta Unique Coin\",\"Bitcoin Planet\",\"BritCoin\",\"Linda\",\"DeepOnion\",\"Signatum\",\"Cream\",\"Monoeci\",\"Draftcoin\",\"Vechain\",\"Stakecoin\",\"CoinonatX\",\"Ethereum Dark\",\"Obsidian\",\"Cardano\",\"Regalcoin\",\"TrezarCoin\",\"TerraNovaCoin\",\"Rupee\",\"WomenCoin\",\"Theresa May Coin\",\"NamoCoin\",\"LUXCoin\",\"Xios\",\"Bitcloud 2.0\",\"KekCoin\",\"BlackholeCoin\",\"Infinity Economics\",\"Magnet\",\"Lamden Tau\",\"Electra\",\"Bitcoin Diamond\",\"Cash & Back Coin\",\"Bulwark\",\"Kalkulus\",\"GermanCoin\",\"LiteCoin Ultra\",\"PhantomX\",\"Digiwage\",\"Trollcoin\",\"Litecoin Plus\",\"Monkey Project\",\"TokenPay\",\"My Big Coin\",\"Unified Society USDEX\",\"Tokyo Coin\",\"Stipend\",\"Pushi\",\"Ellerium\",\"Velox\",\"Ontology\",\"Bitspace\",\"Briacoin\",\"Ignition\",\"MedicCoin\",\"Bitcoin Green\",\"Deviant Coin\",\"Abjcoin\",\"Semux\",\"Carebit\",\"Zealium\",\"Proton\",\"iDealCash\",\"Bitcoin Incognito\",\"HollyWoodCoin\",\"Swisscoin\",\"Xt3ch\",\"TheVig\",\"EmaratCoin\",\"Dekado\",\"Lynx\",\"Poseidon Quark\",\"BitcoinWSpectrum\",\"Muse\",\"Trivechain\",\"Dystem\",\"Giant\",\"Peony Coin\",\"Absolute Coin\",\"Vitae\",\"TPCash\",\"ARENON\",\"EUNO\",\"MMOCoin\",\"Ketan\",\"XDNA\",\"PAXEX\",\"ThunderStake\",\"Kcash\",\"Bettex coin\",\"BitMoney\",\"Junson Ming Chan Coin\",\"HerbCoin\",\"Oduwa\",\"Galilel\",\"Crypto Sports\",\"Credit\",\"Dash Platinum\",\"Nasdacoin\",\"Beetle Coin\",\"Titan Coin\",\"Award\",\"Insane Coin\",\"ALAX\",\"LiteDoge\",\"TruckCoin\",\"OrangeCoin\",\"BitstarCoin\",\"NeosCoin\",\"HyperCoin\",\"PinkCoin\",\"AudioCoin\",\"IncaKoin\",\"Piggy Coin\",\"Genstake\",\"XiaoMiCoin\",\"CapriCoin\",\" ClubCoin\",\"Radium\",\"Creditbit \",\"OKCash\",\"Lisk\",\"HiCoin\",\"WhiteCoin\",\"FriendshipCoin\",\"Triangles Coin\",\"EOS\",\"Oxycoin\",\"TigerCash\",\"Particl\",\"Nxt\",\"ZEPHYR\",\"Gapcoin\",\"BitcoinPlus\"],\"TotalCoinSupply\":{\"__ndarray__\":\"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\",\"dtype\":\"float64\",\"order\":\"little\",\"shape\":[286]},\"TotalCoinsMined\":{\"__ndarray__\":\"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\",\"dtype\":\"float64\",\"order\":\"little\",\"shape\":[286]}},\"selected\":{\"id\":\"37781\"},\"selection_policy\":{\"id\":\"37795\"}},\"id\":\"37780\",\"type\":\"ColumnDataSource\"}],\"root_ids\":[\"37736\"]},\"title\":\"Bokeh Application\",\"version\":\"2.4.2\"}};\n",
       "    var render_items = [{\"docid\":\"5c4f0429-ebdd-4da2-9f90-d333d540f4a3\",\"root_ids\":[\"37736\"],\"roots\":{\"37736\":\"93541b54-bd5b-48c7-849f-7cb9b52000c4\"}}];\n",
       "    root.Bokeh.embed.embed_items_notebook(docs_json, render_items);\n",
       "  }\n",
       "  if (root.Bokeh !== undefined && root.Bokeh.Panel !== undefined) {\n",
       "    embed_document(root);\n",
       "  } else {\n",
       "    var attempts = 0;\n",
       "    var timer = setInterval(function(root) {\n",
       "      if (root.Bokeh !== undefined && root.Bokeh.Panel !== undefined) {\n",
       "        clearInterval(timer);\n",
       "        embed_document(root);\n",
       "      } else if (document.readyState == \"complete\") {\n",
       "        attempts++;\n",
       "        if (attempts > 200) {\n",
       "          clearInterval(timer);\n",
       "          console.log(\"Bokeh: ERROR: Unable to run BokehJS code because BokehJS library is missing\");\n",
       "        }\n",
       "      }\n",
       "    }, 25, root)\n",
       "  }\n",
       "})(window);</script>"
      ],
      "text/plain": [
       ":NdOverlay   [Class]\n",
       "   :Scatter   [TotalCoinsMined]   (TotalCoinSupply,CoinName)"
      ]
     },
     "execution_count": 115,
     "metadata": {
      "application/vnd.holoviews_exec.v0+json": {
       "id": "37736"
      }
     },
     "output_type": "execute_result"
    }
   ],
   "source": [
    "# Create a hvplot.scatter plot using x=\"TotalCoinsMined\" and y=\"TotalCoinSupply\".\n",
    "plot_df.hvplot.scatter(x=\"TotalCoinsMined\", y=\"TotalCoinSupply\", by=\"Class\", hover_cols=[\"CoinName\"])\n"
   ]
  },
  {
   "cell_type": "code",
   "execution_count": null,
   "metadata": {},
   "outputs": [],
   "source": []
  }
 ],
 "metadata": {
  "file_extension": ".py",
  "kernelspec": {
   "display_name": "mlenv",
   "language": "python",
   "name": "mlenv"
  },
  "language_info": {
   "codemirror_mode": {
    "name": "ipython",
    "version": 3
   },
   "file_extension": ".py",
   "mimetype": "text/x-python",
   "name": "python",
   "nbconvert_exporter": "python",
   "pygments_lexer": "ipython3",
   "version": "3.7.13"
  },
  "latex_envs": {
   "LaTeX_envs_menu_present": true,
   "autoclose": false,
   "autocomplete": true,
   "bibliofile": "biblio.bib",
   "cite_by": "apalike",
   "current_citInitial": 1,
   "eqLabelWithNumbers": true,
   "eqNumInitial": 1,
   "hotkeys": {
    "equation": "Ctrl-E",
    "itemize": "Ctrl-I"
   },
   "labels_anchors": false,
   "latex_user_defs": false,
   "report_style_numbering": false,
   "user_envs_cfg": false
  },
  "mimetype": "text/x-python",
  "name": "python",
  "npconvert_exporter": "python",
  "pygments_lexer": "ipython3",
  "version": 3
 },
 "nbformat": 4,
 "nbformat_minor": 2
}
